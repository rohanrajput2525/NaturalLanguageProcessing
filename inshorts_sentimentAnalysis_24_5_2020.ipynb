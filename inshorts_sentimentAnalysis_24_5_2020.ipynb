{
 "cells": [
  {
   "cell_type": "code",
   "execution_count": 1,
   "metadata": {},
   "outputs": [],
   "source": [
    "import warnings\n",
    "warnings.filterwarnings('ignore')"
   ]
  },
  {
   "cell_type": "code",
   "execution_count": 3,
   "metadata": {},
   "outputs": [],
   "source": [
    "import requests\n",
    "from bs4 import BeautifulSoup\n",
    "import pandas as pd\n",
    "import numpy as np\n",
    "import matplotlib.pyplot as plt\n",
    "import seaborn as sns\n",
    "import os\n",
    "\n",
    "%matplotlib inline"
   ]
  },
  {
   "cell_type": "code",
   "execution_count": 4,
   "metadata": {},
   "outputs": [],
   "source": [
    "url = \"https://inshorts.com/en/read/technology\""
   ]
  },
  {
   "cell_type": "code",
   "execution_count": 11,
   "metadata": {},
   "outputs": [
    {
     "data": {
      "text/plain": [
       "['https:', '', 'inshorts.com', 'en', 'read', 'technology']"
      ]
     },
     "execution_count": 11,
     "metadata": {},
     "output_type": "execute_result"
    }
   ],
   "source": [
    "news_data = []\n",
    "news_category = url.split('/')\n",
    "news_category"
   ]
  },
  {
   "cell_type": "code",
   "execution_count": 12,
   "metadata": {},
   "outputs": [],
   "source": [
    "news_category = news_category[-1]"
   ]
  },
  {
   "cell_type": "code",
   "execution_count": 13,
   "metadata": {},
   "outputs": [
    {
     "data": {
      "text/plain": [
       "b'<!doctype html>\\n<html lang=\"en\">\\n\\n<head>\\n  <meta charset=\"utf-8\" />\\n  <style>\\n    /* The Modal (background) */\\n    .modal_contact {\\n        display: none; /* Hidden by default */\\n        position: fixed; /* Stay in place */\\n        z-index: 8; /* Sit on top */\\n        left: 0;\\n        top: 0;\\n        width: 100%; /* Full width */\\n        height: 100%;\\n        overflow: auto; /* Enable scroll if needed */\\n        background-color: rgb(0,0,0); /* Fallback color */\\n        background-color: rgba(0,0,0,0.4); /* Black w/ opacity */\\n    }\\n\\n    /* Modal Content/Box */\\n    .modal-content {\\n        background-color: #fefefe;\\n        margin: 15% auto;\\n        padding: 20px !important;\\n        padding-top: 0 !important;\\n        /* border: 1px solid #888; */\\n        text-align: center;\\n        position: relative;\\n        border-radius: 6px;\\n    }\\n\\n    /* The Close Button */\\n    .close {\\n      left: 90%;\\n      color: #aaa;\\n      float: right;\\n      font-size: 28px;\\n      font-weight: bold;\\n    /* position: absolute; */\\n    /* bottom: 86%; */\\n    /* display: inline-block; */\\n    /* padding-left: 5%; */\\n    }\\n\\n    .close:hover,\\n    .close:focus {\\n        color: black;\\n        text-decoration: none;\\n        cursor: pointer;\\n    }\\n\\n    #myBtn {\\n      background: #999999;\\n      color: #ffffff;\\n      text-transform: uppercase;\\n      font-weight: bold;\\n      box-shadow: none;\\n      border-radius: 4px;\\n      border: none;\\n      font-size: .8rem;\\n      /* width: 8rem; */\\n      height: 2rem;\\n      line-height: 2rem;\\n    }\\n\\n    .contact {\\n      margin-bottom: 4%;\\n      clear: both;\\n    }\\n  </style>\\n\\n  \\n    \\n  <meta http-equiv=\"Content-Type\" content=\"text/html; charset=UTF-8\"/>\\n  <meta name=\"viewport\" content=\"width=device-width, initial-scale=1, maximum-scale=1.0, user-scalable=no\"/>\\n\\n  <meta http-equiv=\"X-UA-Compatible\" content=\"IE=edge\">\\n  <link rel=\"manifest\" href=\"manifest.json\">\\n\\n  <!-- Fallback to homescreen for Chrome   <39 on Android -->\\n  <meta name=\"mobile-web-app-capable\" content=\"yes\">\\n  <meta name=\"application-name\" content=\"inshorts\">\\n  <link rel=\"icon\" sizes=\"192x192\" href=\"https://assets.inshorts.com/website_assets/images/favicon.png\">\\n\\n  <!-- Add to homescreen for Safari on iOS -->\\n  <meta name=\"apple-mobile-web-app-capable\" content=\"yes\">\\n  <meta name=\"apple-mobile-web-app-status-bar-style\" content=\"#424242\">\\n  <meta name=\"apple-mobile-web-app-title\" content=\"inshorts\">\\n  <link rel=\"apple-touch-icon\" href=\"https://assets.inshorts.com/website_assets/images/favicon.png\">\\n\\n  <!-- Tile icon for Win8 (144x144 + tile color) -->\\n  <meta name=\"msapplication-TileImage\" content=\"fav/favicon.png\">\\n  <meta name=\"msapplication-TileColor\" content=\"#424242\">\\n\\n  <meta name=\"theme-color\" content=\"#424242\">\\n  <meta http-equiv=\"content-type\" content=\"text/html; charset=UTF-8\"/>\\n  <meta name=\"msapplication-navbutton-color\" content=\"#424242\">\\n  <meta name=\"apple-mobile-web-app-status-bar-style\" content=\"#424242\">\\n  <link rel=\"apple-touch-startup-image\" href=\"https://assets.inshorts.com/website_assets/images/favicon.png\">\\n  <meta name=\"apple-mobile-web-app-status-bar-style\" content=\"black-translucent\">\\n    <meta name=\"twitter:card\" content=\"app\"/>\\n  <meta name=\"twitter:site\" content=\"@inshorts\"/>\\n  <meta name=\"twitter:creator\" content=\"@inshorts\"/>\\n  <meta name=\"twitter:description\" content=\"Inshorts delivers news in less than 60 words, containing only the essential facts, compromising on anything that is close to opinionating and storytelling.\"/>\\n  <meta name=\"twitter:app:country\" content=\"IN\"/>\\n  <meta name=\"twitter:app:name:iphone\" content=\"Inshorts - Stay Informed\"/>\\n  <meta name=\"twitter:app:id:iphone\" content=\"892146527\"/>\\n  <meta name=\"twitter:app:url:iphone\" content=\"nis://news\"/>\\n  <meta name=\"twitter:app:name:ipad\" content=\"Inshorts - Stay Informed\"/>\\n  <meta name=\"twitter:app:id:ipad\" content=\"892146527\"/>\\n  <meta name=\"twitter:app:url:ipad\" content=\"nis://news\"/>\\n  <meta name=\"twitter:app:name:googleplay\" content=\"Inshorts - Stay Informed\"/>\\n  <meta name=\"twitter:app:id:googleplay\" content=\"com.nis.app\"/>\\n  <meta name=\"twitter:app:url:googleplay\" content=\"nis://news\"/>\\n\\n  <meta name=\"description\" content=\"Read technology news in English in less that 60 words and get updated with all top news and current affairs related to mobile, internet and computer in a fast and easy way with inshorts.\"/>\\n  <link href=\"https://inshorts.com/en/read/technology\" rel=\"canonical\" />\\n  <link href=\"https://inshorts.com/en/read/technology\" rel=\"alternate\" reflang=\"en\" />\\n  <meta name=\"apple-itunes-app\" content=\"app-id=892146527\">\\n  <meta name=\"google-play-app\" content=\"app-id=com.nis.app\">\\n\\n  <title>Technology News: Moblie News, Computer News in English with Inshorts</title>\\n  <!-- CSS  -->\\n  <link href=\\'https://fonts.googleapis.com/css?family=Roboto\\' rel=\\'stylesheet\\' type=\\'text/css\\'>\\n  <link href=\"https://fonts.googleapis.com/icon?family=Material+Icons\" rel=\"stylesheet\">\\n  <link rel=\"stylesheet\" href=\"https://cdnjs.cloudflare.com/ajax/libs/materialize/0.97.1/css/materialize.min.css\">\\n  <link href=\\'https://fonts.googleapis.com/css?family=Hind:500,600,400&subset=latin,devanagari\\' rel=\\'stylesheet\\' type=\\'text/css\\'>\\n  <link href=\"/dist/styles/main.css\" type=\"text/css\" rel=\"stylesheet\" media=\"screen,projection\"/>\\n  <link href=\"/dist/styles/index.css\" type=\"text/css\" rel=\"stylesheet\" media=\"screen,projection\"/>\\n  <link href=\"/dist/styles/read.css\" type=\"text/css\" rel=\"stylesheet\" media=\"screen,projection\"/>\\n  <link href=\"/dist/styles/news-card.css\" type=\"text/css\" rel=\"stylesheet\" media=\"screen,projection\"/>\\n  <link rel=\"icon\" type=\"image/png\" href=\"https://assets.inshorts.com/website_assets/images/favicon.png\" />\\n  <link rel=\"manifest\" href=\"/dist/manifest.json\">\\n  <script async=\\'async\\' src=\\'https://www.googletagservices.com/tag/js/gpt.js\\'></script>\\n  <script>\\n    var googletag = googletag || {};\\n    googletag.cmd = googletag.cmd || [];\\n    let top_banner_slot;\\n  </script>\\n\\n  <!-- Top banner for desktop-->\\n  <script>\\n    googletag.cmd.push(function() {\\n      \\n      \\n        //Top banner for desktop\\n        top_banner_slot = googletag.defineSlot(\\'/142919096/inshorts_website_728x90\\', [728, 90], \\'div-gpt-ad-1536585015617-0\\')\\n        .addService(googletag.pubads())\\n        .setCollapseEmptyDiv(true,true);\\n      \\n\\n      googletag.pubads().disableInitialLoad();\\n      googletag.pubads().enableSingleRequest();\\n      googletag.enableServices();\\n    });\\n  </script>\\n\\n  <!-- Facebook Pixel Code -->\\n  <script>\\n    !function(f,b,e,v,n,t,s)\\n    {if(f.fbq)return;n=f.fbq=function(){n.callMethod?\\n    n.callMethod.apply(n,arguments):n.queue.push(arguments)};\\n    if(!f._fbq)f._fbq=n;n.push=n;n.loaded=!0;n.version=\\'2.0\\';\\n    n.queue=[];t=b.createElement(e);t.async=!0;\\n    t.src=v;s=b.getElementsByTagName(e)[0];\\n    s.parentNode.insertBefore(t,s)}(window, document,\\'script\\',\\n    \\'https://connect.facebook.net/en_US/fbevents.js\\');\\n    fbq(\\'init\\', \\'822966517773327\\');\\n    fbq(\\'track\\', \\'PageView\\');\\n  </script>\\n  <noscript><img height=\"1\" width=\"1\" style=\"display:none\"\\n    src=\"https://www.facebook.com/tr?id=822966517773327&ev=PageView&noscript=1\"\\n  /></noscript>\\n  <!-- End Facebook Pixel Code -->\\n</head>\\n<script>\\n  (function(i,s,o,g,r,a,m){i[\\'GoogleAnalyticsObject\\']=r;i[r]=i[r]||function(){\\n  (i[r].q=i[r].q||[]).push(arguments)},i[r].l=1*new Date();a=s.createElement(o),\\n  m=s.getElementsByTagName(o)[0];a.async=1;a.src=g;m.parentNode.insertBefore(a,m)\\n  })(window,document,\\'script\\',\\'//www.google-analytics.com/analytics.js\\',\\'ga\\');\\n\\n  ga(\\'create\\', \\'UA-55157535-6\\', \\'auto\\');\\n  ga(\\'send\\', \\'pageview\\');  \\n</script>\\n\\n<body>\\n\\n\\n  <!-- Begin comScore Tag -->\\n  <script>\\n    var _comscore = _comscore || [];\\n    _comscore.push({ c1: \"2\", c2: \"28268321\" });\\n    (function() {\\n      var s = document.createElement(\"script\"), el = document.getElementsByTagName(\"script\")[0]; s.async = true;\\n      s.src = (document.location.protocol == \"https:\" ? \"https://sb\" : \"http://b\") + \".scorecardresearch.com/beacon.js\";\\n      el.parentNode.insertBefore(s, el);\\n    })();\\n  </script>\\n  <noscript>\\n    <img src=\"https://sb.scorecardresearch.com/p?c1=2&c2=28268321&cv=2.0&cj=1\" />\\n  </noscript>\\n  \\n  \\n  <!-- HEADER START -->\\n  <div class=\"header z-depth-1\">\\n    <div class=\"menu clickable\">\\n      <button class=\"c-hamburger c-hamburger--htx\" ><span>toggle menu</span></button><span class=\"unselectable\">Menu</span>\\n    </div>\\n    <!--\\n    <div class=\"search-wrapper hide-on-small-only\">\\n      <input class=\"search-box\" placeholder=\"Search\" id=\"search\"/>\\n      <i id=\"search_icon\" class=\"material-icons search-icon\">search</i>\\n      <div class=\"search-box-ul\">&nbsp;</div>\\n    </div>\\n    -->\\n    <a href=\"/\"><img src=\"https://assets.inshorts.com/website_assets/images/logo_inshorts.png\" class=\"logo\"/></a>\\n  </div>\\n  <!-- HEADER END -->\\n\\n  \\n<!--SIDEBAR START -->\\n    <div class=\"hide-on-med-and-up sidebar-bg\" style=\"display: none;\">&nbsp;</div>\\n    <div class=\"sidebar\" style=\"overflow-y: scroll;\">\\n      <div class=\"lang-bar\" style=\"\">\\n        <div class=\"lang-selector clickable\">\\n          <a href=\\'/en/read/technology\\'><div class=\"lang-en selected\">English</div></a>\\n          <a href=\\'/hi/read/technology\\'><div class=\"lang-hi \">\\xe0\\xa4\\xb9\\xe0\\xa4\\xbf\\xe0\\xa4\\xa8\\xe0\\xa5\\x8d\\xe0\\xa4\\xa6\\xe0\\xa5\\x80</div></a>\\n        </div>\\n      </div>\\n\\n      <div>\\n        <div class=\"category-header\">Categories</div>\\n        <ul class=\"category-list\">\\n\\n          <a onclick=\"ga(\\'send\\', {\\'hitType\\': \\'event\\', \\'eventCategory\\': \\'LinkToAllNews\\', \\'eventAction\\': \\'clicked\\', \\'eventLabel\\': \\'RedirectedToAllNews\\' });\" href=\\'/en/read\\'> <li class=\"active-category \" >All News</li> </a>\\n\\n\\n          <a onclick=\"ga(\\'send\\', {\\'hitType\\': \\'event\\', \\'eventCategory\\': \\'LinkToIndiaNews\\', \\'eventAction\\': \\'clicked\\', \\'eventLabel\\': \\'RedirectedToIndiaNews\\' });\" href=\\'/en/read/national\\'> <li class=\"active-category \">India</li> </a>\\n\\n          <a onclick=\"ga(\"send\", {\"hitType\": \"event\", \"eventCategory\": \"LinkToIndiaNews\", \"eventAction\": \"clicked\", \"eventLabel\":  \"RedirectedToIndiaNews\" });\"  href=\\'/en/read/business\\'> <li class=\"active-category \">Business</li> </a>\\n\\n          <a onclick=\"ga(\\'send\\', {\\'hitType\\': \\'event\\', \\'eventCategory\\': \\'LinkTosportsNews\\', \\'eventAction\\': \\'clicked\\', \\'eventLabel\\': \\'RedirectedToSportsNews\\' });\"  href=\\'/en/read/sports\\'> <li class=\"active-category \">Sports</li> </a>\\n          <a onclick=\"ga(\\'send\\', {\\'hitType\\': \\'event\\', \\'eventCategory\\': \\'LinkToworldNews\\', \\'eventAction\\': \\'clicked\\', \\'eventLabel\\': \\'RedirectedToworldNews\\' });\" href=\\'/en/read/world\\'> <li class=\"active-category \">World</li> </a>\\n\\n          <a onclick=\"ga(\\'send\\', {\\'hitType\\': \\'event\\', \\'eventCategory\\': \\'LinkToworldNews\\', \\'eventAction\\': \\'clicked\\',   \\'eventLabel\\': \\'RedirectedToworldNews\\' });\"  href=\\'/en/read/politics\\'> <li class=\"active-category \">Politics</li> </a>\\n          <a onclick=\"ga(\\'send\\', {\\'hitType\\': \\'event\\', \\'eventCategory\\': \\'LinkTotechnologyNews\\', \\'eventAction\\': \\'clicked\\', \\'eventLabel\\': \\'RedirectedTotechnologyNews\\' });\" href=\\'/en/read/technology\\'> <li class=\"active-category selected\">Technology</li> </a>\\n\\n          <a onclick=\"ga(\\'send\\', {\\'hitType\\': \\'event\\', \\'eventCategory\\': \\'LinkTostartupNews\\', \\'eventAction\\': \\'clicked\\', \\'eventLabel\\': \\'RedirectedTostartupNews\\' });\"  href=\\'/en/read/startup\\'> <li class=\"active-category \">Startup</li> </a>\\n\\n\\n          <a onclick=\"ga(\\'send\\', {\\'hitType\\': \\'event\\', \\'eventCategory\\': \\'LinkToEntertainmentNews\\', \\'eventAction\\': \\'clicked\\', \\'eventLabel\\': \\'RedirectedToEntertainmentNews\\' });\"  href=\\'/en/read/entertainment\\'> <li class=\"active-category \">Entertainment</li> </a>\\n\\n\\n          <a onclick=\"ga(\\'send\\', {\\'hitType\\': \\'event\\', \\'eventCategory\\': \\'LinkToMiscellaneousNews\\', \\'eventAction\\': \\'clicked\\', \\'eventLabel\\': \\'RedirectedToMiscellaneousNews\\' });\"  href=\\'/en/read/miscellaneous\\'> <li class=\"active-category \">Miscellaneous</li> </a>\\n\\n          <a onclick=\"ga(\\'send\\', {\\'hitType\\': \\'event\\', \\'eventCategory\\': \\'LinkTohatkeNews\\', \\'eventAction\\': \\'clicked\\', \\'eventLabel\\': \\'RedirectedTohatkeNews\\' });\"  href=\\'/en/read/hatke\\'> <li class=\"active-category \">Hatke</li> </a>\\n\\n          <a onclick=\"ga(\\'send\\', {\\'hitType\\': \\'event\\', \\'eventCategory\\': \\'LinkToscienceNews\\', \\'eventAction\\': \\'clicked\\', \\'eventLabel\\': \\'RedirectedToscienceNews\\' });\"  href=\\'/en/read/science\\'> <li class=\"active-category \">Science</li> </a>\\n\\n          <a onclick=\"ga(\\'send\\', {\\'hitType\\': \\'event\\', \\'eventCategory\\': \\'LinkToautomobileNews\\', \\'eventAction\\': \\'clicked\\', \\'eventLabel\\': \\'RedirectedToautomobileNews\\' });\"  href=\\'/en/read/automobile\\'> <li class=\"active-category \">Automobile</li> </a>\\n\\n        </ul>\\n      </div>\\n    </div>\\n<!--SIDEBAR END -->\\n\\n  <!-- BODY START -->\\n  <div class=\"container\" style=\"min-height:550px;\">\\n    <div class=\"row\" style=\"padding-top:110px;\">\\n      \\n        <div id=\\'div-gpt-ad-1536585015617-0\\' style=\\'height:90px; width:728px;margin: auto; margin-bottom: 1%;\\'>\\n          <script>\\n          googletag.cmd.push(function() { \\n            googletag.display(\\'div-gpt-ad-1536585015617-0\\'); \\n            googletag.pubads().refresh([top_banner_slot]);\\n          });\\n          </script>\\n        </div>\\n      \\n      \\n\\n      \\n      <div class=\"hide-on-med-and-down z-depth-1\" style=\"margin-left : auto;margin-right : auto;margin-bottom: 32px;width : 900px;height:48px;background: #f44336\">\\n        <div style=\"font-weight: 300;color:white !important;font-size:14px;margin-left: 48px;margin-top: 13px;position: absolute;display: block;\">\\n          For the best experience use <a target=\"_blank\" href=\"https://inshorts.com/mobile\" style=\"color:white;appearance: none;font-weight: 500;\">inshorts</a> app on your smartphone\\n        </div>\\n        \\n        \\n      </div>\\n      \\n      <div class=\"card-stack\">\\n        \\n\\n\\n\\n\\n\\n<div class=\"\">\\n<div class=\"news-card z-depth-1\" itemscope itemtype=\"http://schema.org/NewsArticle\">\\n  <span content=\"\" itemscope itemprop=\"mainEntityOfPage\" itemType=\"https://schema.org/WebPage\" itemid=\"https://inshorts.com/en/news/aarogya-setu-doesnt-give-out-loud-siren-near-covid19-patients-govt-1590255862559\"></span>\\n  <span itemtype=\"https://schema.org/Person\" itemscope=\"itemscope\" itemprop=\"author\">\\n    <span itemprop=\"name\" content=\"Aishwarya\"></span>\\n  </span>\\n  <span itemprop=\"description\" content=\"Aarogya Setu doesn&#39;t give out loud siren near COVID-19 patients: Govt\"></span>\\n  <span itemprop=\"image\" itemscope itemtype=\"https://schema.org/ImageObject\">\\n    <meta itemprop=\"url\" content=\"https://static.inshorts.com/inshorts/images/v1/variants/jpg/m/2020/05_may/23_sat/img_1590253797171_883.jpg?\"></meta>\\n    <meta itemprop=\"width\" content=\"864\"></meta>\\n    <meta itemprop=\"height\" content=\"483\"></meta>\\n  </span>\\n  <span itemtype=\"https://schema.org/Organization\" itemscope=\"itemscope\" itemprop=\"publisher\">\\n    <span itemprop=\"url\" content=\"https://inshorts.com/\"></span>\\n    <span itemprop=\"name\" content=\"Inshorts\"></span>\\n    <span itemprop=\"logo\" itemscope itemtype=\"https://schema.org/ImageObject\">\\n      <span itemprop=\"url\" content=\"https://assets.inshorts.com/inshorts/images/v1/variants/jpg/m/2018/11_nov/21_wed/img_1542823931298_497.jpg\"></span>\\n      <meta itemprop=\"width\" content=\"400\"></meta>\\n      <meta itemprop=\"height\" content=\"60\"></meta>\\n    </span>\\n  </span>\\n  <div class=\"news-card-image\" style= \"background-image: url(\\'https://static.inshorts.com/inshorts/images/v1/variants/jpg/m/2020/05_may/23_sat/img_1590253797171_883.jpg?\\')\">\\n  </div>\\n  <div class=\"news-card-title news-right-box\">\\n    <a class=\"clickable\" onclick=\"ga(\\'send\\', {\\'hitType\\': \\'event\\', \\'eventCategory\\': \\'TitleOfNews\\', \\'eventAction\\': \\'clicked\\', \\'eventLabel\\': \\'Aarogya%20Setu%20doesn&#39;t%20give%20out%20loud%20siren%20near%20COVID-19%20patients%3A%20Govt)\\' });\"  style=\"color:#44444d!important\" href=\"/en/news/aarogya-setu-doesnt-give-out-loud-siren-near-covid19-patients-govt-1590255862559\">\\n      <span itemprop=\"headline\">Aarogya Setu doesn&#39;t give out loud siren near COVID-19 patients: Govt</span>\\n    </a>\\n    <div class=\"news-card-author-time news-card-author-time-in-title\">\\n      <a href=\"/prev/en/news/aarogya-setu-doesnt-give-out-loud-siren-near-covid19-patients-govt-1590255862559\"><span class=\"short\">short</span></a> by <span class=\"author\">Aishwarya</span> / \\n      <span class=\"time\" itemprop=\"datePublished\" content=\"2020-05-23T17:44:22.000Z\">11:14 pm</span> on <span clas=\"date\">23 May 2020,Saturday</span>\\n    </div>\\n  </div>\\n  <div class=\"news-card-content news-right-box\">\\n    <div itemprop=\"articleBody\">The government has clarified that its Aarogya Setu app doesn&#39;t give out a loud siren when a COVID-19 patient approaches a user. It added that Aarogya Setu does not have an in-built siren but it gives out alerts. The coronavirus contact-tracing app Aarogya Setu had crossed 10 crore registered users in 41 days. </div>\\n    <div class=\"news-card-author-time news-card-author-time-in-content\">\\n      <a href=\"/prev/en/news/aarogya-setu-doesnt-give-out-loud-siren-near-covid19-patients-govt-1590255862559\"><span class=\"short\">short</span></a> by <span class=\"author\">Aishwarya</span> / \\n      <span class=\"time\" itemprop=\"dateModified\" content=\"2020-05-23T17:44:22.000Z\" >11:14 pm</span> on <span class=\"date\">23 May</span>\\n    </div>\\n  </div>\\n  \\n    <div class=\"news-card-footer news-right-box\">\\n      <div class=\"read-more\">read more at <a class=\"source\" onclick=\"ga(\\'send\\', {\\'hitType\\': \\'event\\', \\'eventCategory\\': \\'ReadMore\\', \\'eventAction\\': \\'clicked\\', \\'eventLabel\\': \\'Hindustan%20Times\\' });\" target=\"_blank\" href=\"https://tech.hindustantimes.com/tech/news/aarogya-setu-does-not-give-out-a-loud-siren-71590247106980.html?utm_campaign=fullarticle&amp;utm_medium=referral&amp;utm_source=inshorts \">Hindustan Times</a></div>\\n    </div>\\n  \\n\\n</div>\\n\\n  \\n</div>\\n\\n\\n\\n\\n<div class=\"\">\\n<div class=\"news-card z-depth-1\" itemscope itemtype=\"http://schema.org/NewsArticle\">\\n  <span content=\"\" itemscope itemprop=\"mainEntityOfPage\" itemType=\"https://schema.org/WebPage\" itemid=\"https://inshorts.com/en/news/google-has-no-plans-yet-to-allow-workfromhome-permanently-ceo-pichai-1590233048650\"></span>\\n  <span itemtype=\"https://schema.org/Person\" itemscope=\"itemscope\" itemprop=\"author\">\\n    <span itemprop=\"name\" content=\"Dharna\"></span>\\n  </span>\\n  <span itemprop=\"description\" content=\"Google has no plans yet to allow work-from-home permanently: CEO Pichai\"></span>\\n  <span itemprop=\"image\" itemscope itemtype=\"https://schema.org/ImageObject\">\\n    <meta itemprop=\"url\" content=\"https://static.inshorts.com/inshorts/images/v1/variants/jpg/m/2020/05_may/23_sat/img_1590210788638_572.jpg?\"></meta>\\n    <meta itemprop=\"width\" content=\"864\"></meta>\\n    <meta itemprop=\"height\" content=\"483\"></meta>\\n  </span>\\n  <span itemtype=\"https://schema.org/Organization\" itemscope=\"itemscope\" itemprop=\"publisher\">\\n    <span itemprop=\"url\" content=\"https://inshorts.com/\"></span>\\n    <span itemprop=\"name\" content=\"Inshorts\"></span>\\n    <span itemprop=\"logo\" itemscope itemtype=\"https://schema.org/ImageObject\">\\n      <span itemprop=\"url\" content=\"https://assets.inshorts.com/inshorts/images/v1/variants/jpg/m/2018/11_nov/21_wed/img_1542823931298_497.jpg\"></span>\\n      <meta itemprop=\"width\" content=\"400\"></meta>\\n      <meta itemprop=\"height\" content=\"60\"></meta>\\n    </span>\\n  </span>\\n  <div class=\"news-card-image\" style= \"background-image: url(\\'https://static.inshorts.com/inshorts/images/v1/variants/jpg/m/2020/05_may/23_sat/img_1590210788638_572.jpg?\\')\">\\n  </div>\\n  <div class=\"news-card-title news-right-box\">\\n    <a class=\"clickable\" onclick=\"ga(\\'send\\', {\\'hitType\\': \\'event\\', \\'eventCategory\\': \\'TitleOfNews\\', \\'eventAction\\': \\'clicked\\', \\'eventLabel\\': \\'Google%20has%20no%20plans%20yet%20to%20allow%20work-from-home%20permanently%3A%20CEO%20Pichai)\\' });\"  style=\"color:#44444d!important\" href=\"/en/news/google-has-no-plans-yet-to-allow-workfromhome-permanently-ceo-pichai-1590233048650\">\\n      <span itemprop=\"headline\">Google has no plans yet to allow work-from-home permanently: CEO Pichai</span>\\n    </a>\\n    <div class=\"news-card-author-time news-card-author-time-in-title\">\\n      <a href=\"/prev/en/news/google-has-no-plans-yet-to-allow-workfromhome-permanently-ceo-pichai-1590233048650\"><span class=\"short\">short</span></a> by <span class=\"author\">Dharna</span> / \\n      <span class=\"time\" itemprop=\"datePublished\" content=\"2020-05-23T11:24:08.000Z\">04:54 pm</span> on <span clas=\"date\">23 May 2020,Saturday</span>\\n    </div>\\n  </div>\\n  <div class=\"news-card-content news-right-box\">\\n    <div itemprop=\"articleBody\">After Twitter announced its permanent work-from-home policy, Google CEO Sundar Pichai said the company has not yet committed to making such a permanent change. Pichai told Wired, &#34;How productive will we be when different teams who don&#39;t normally work together have to come together for brainstorming, the creative process?&#34; &#34;We are going to have research, surveys...learn what works,&#34; he added.</div>\\n    <div class=\"news-card-author-time news-card-author-time-in-content\">\\n      <a href=\"/prev/en/news/google-has-no-plans-yet-to-allow-workfromhome-permanently-ceo-pichai-1590233048650\"><span class=\"short\">short</span></a> by <span class=\"author\">Dharna</span> / \\n      <span class=\"time\" itemprop=\"dateModified\" content=\"2020-05-23T11:24:08.000Z\" >04:54 pm</span> on <span class=\"date\">23 May</span>\\n    </div>\\n  </div>\\n  \\n    <div class=\"news-card-footer news-right-box\">\\n      <div class=\"read-more\">read more at <a class=\"source\" onclick=\"ga(\\'send\\', {\\'hitType\\': \\'event\\', \\'eventCategory\\': \\'ReadMore\\', \\'eventAction\\': \\'clicked\\', \\'eventLabel\\': \\'Hindustan%20Times\\' });\" target=\"_blank\" href=\"https://tech.hindustantimes.com/tech/news/google-not-ready-for-employees-to-wfh-full-time-71590220685350.html?utm_campaign=fullarticle&amp;utm_medium=referral&amp;utm_source=inshorts \">Hindustan Times</a></div>\\n    </div>\\n  \\n\\n</div>\\n\\n  \\n</div>\\n\\n\\n\\n\\n<div class=\"\">\\n<div class=\"news-card z-depth-1\" itemscope itemtype=\"http://schema.org/NewsArticle\">\\n  <span content=\"\" itemscope itemprop=\"mainEntityOfPage\" itemType=\"https://schema.org/WebPage\" itemid=\"https://inshorts.com/en/news/sc-seeks-centres-reply-on-plea-for-ban-on-zoom-app-over-privacy-concern-1590158457980\"></span>\\n  <span itemtype=\"https://schema.org/Person\" itemscope=\"itemscope\" itemprop=\"author\">\\n    <span itemprop=\"name\" content=\"Sakshita Khosla\"></span>\\n  </span>\\n  <span itemprop=\"description\" content=\"SC seeks Centre&#39;s reply on plea for ban on Zoom app over privacy concern\"></span>\\n  <span itemprop=\"image\" itemscope itemtype=\"https://schema.org/ImageObject\">\\n    <meta itemprop=\"url\" content=\"https://static.inshorts.com/inshorts/images/v1/variants/jpg/m/2020/05_may/22_fri/img_1590157301011_521.jpg?\"></meta>\\n    <meta itemprop=\"width\" content=\"864\"></meta>\\n    <meta itemprop=\"height\" content=\"483\"></meta>\\n  </span>\\n  <span itemtype=\"https://schema.org/Organization\" itemscope=\"itemscope\" itemprop=\"publisher\">\\n    <span itemprop=\"url\" content=\"https://inshorts.com/\"></span>\\n    <span itemprop=\"name\" content=\"Inshorts\"></span>\\n    <span itemprop=\"logo\" itemscope itemtype=\"https://schema.org/ImageObject\">\\n      <span itemprop=\"url\" content=\"https://assets.inshorts.com/inshorts/images/v1/variants/jpg/m/2018/11_nov/21_wed/img_1542823931298_497.jpg\"></span>\\n      <meta itemprop=\"width\" content=\"400\"></meta>\\n      <meta itemprop=\"height\" content=\"60\"></meta>\\n    </span>\\n  </span>\\n  <div class=\"news-card-image\" style= \"background-image: url(\\'https://static.inshorts.com/inshorts/images/v1/variants/jpg/m/2020/05_may/22_fri/img_1590157301011_521.jpg?\\')\">\\n  </div>\\n  <div class=\"news-card-title news-right-box\">\\n    <a class=\"clickable\" onclick=\"ga(\\'send\\', {\\'hitType\\': \\'event\\', \\'eventCategory\\': \\'TitleOfNews\\', \\'eventAction\\': \\'clicked\\', \\'eventLabel\\': \\'SC%20seeks%20Centre&#39;s%20reply%20on%20plea%20for%20ban%20on%20Zoom%20app%20over%20privacy%20concern)\\' });\"  style=\"color:#44444d!important\" href=\"/en/news/sc-seeks-centres-reply-on-plea-for-ban-on-zoom-app-over-privacy-concern-1590158457980\">\\n      <span itemprop=\"headline\">SC seeks Centre&#39;s reply on plea for ban on Zoom app over privacy concern</span>\\n    </a>\\n    <div class=\"news-card-author-time news-card-author-time-in-title\">\\n      <a href=\"/prev/en/news/sc-seeks-centres-reply-on-plea-for-ban-on-zoom-app-over-privacy-concern-1590158457980\"><span class=\"short\">short</span></a> by <span class=\"author\">Sakshita Khosla</span> / \\n      <span class=\"time\" itemprop=\"datePublished\" content=\"2020-05-22T14:40:57.000Z\">08:10 pm</span> on <span clas=\"date\">22 May 2020,Friday</span>\\n    </div>\\n  </div>\\n  <div class=\"news-card-content news-right-box\">\\n    <div itemprop=\"articleBody\">The Supreme Court on Friday sought Centre&#39;s response on a plea seeking ban on use of video conferencing app Zoom until an appropriate legislation is put in place. The plea raised privacy concern on use of the app saying it is &#34;making users vulnerable and prone to cyber threats&#34;. SC has asked Centre to file its reply within four weeks.</div>\\n    <div class=\"news-card-author-time news-card-author-time-in-content\">\\n      <a href=\"/prev/en/news/sc-seeks-centres-reply-on-plea-for-ban-on-zoom-app-over-privacy-concern-1590158457980\"><span class=\"short\">short</span></a> by <span class=\"author\">Sakshita Khosla</span> / \\n      <span class=\"time\" itemprop=\"dateModified\" content=\"2020-05-22T14:40:57.000Z\" >08:10 pm</span> on <span class=\"date\">22 May</span>\\n    </div>\\n  </div>\\n  \\n\\n</div>\\n\\n  \\n</div>\\n\\n\\n\\n\\n<div class=\"\">\\n<div class=\"news-card z-depth-1\" itemscope itemtype=\"http://schema.org/NewsArticle\">\\n  <span content=\"\" itemscope itemprop=\"mainEntityOfPage\" itemType=\"https://schema.org/WebPage\" itemid=\"https://inshorts.com/en/news/data-of-29-crore-indian-job-seekers-leaked-on-dark-web-cyble-1590239512912\"></span>\\n  <span itemtype=\"https://schema.org/Person\" itemscope=\"itemscope\" itemprop=\"author\">\\n    <span itemprop=\"name\" content=\"Nandini Sinha\"></span>\\n  </span>\\n  <span itemprop=\"description\" content=\"Data of 2.9 crore Indian job seekers leaked on dark web: Cyble\"></span>\\n  <span itemprop=\"image\" itemscope itemtype=\"https://schema.org/ImageObject\">\\n    <meta itemprop=\"url\" content=\"https://static.inshorts.com/inshorts/images/v1/variants/jpg/m/2020/05_may/23_sat/img_1590238051274_985.jpg?\"></meta>\\n    <meta itemprop=\"width\" content=\"864\"></meta>\\n    <meta itemprop=\"height\" content=\"483\"></meta>\\n  </span>\\n  <span itemtype=\"https://schema.org/Organization\" itemscope=\"itemscope\" itemprop=\"publisher\">\\n    <span itemprop=\"url\" content=\"https://inshorts.com/\"></span>\\n    <span itemprop=\"name\" content=\"Inshorts\"></span>\\n    <span itemprop=\"logo\" itemscope itemtype=\"https://schema.org/ImageObject\">\\n      <span itemprop=\"url\" content=\"https://assets.inshorts.com/inshorts/images/v1/variants/jpg/m/2018/11_nov/21_wed/img_1542823931298_497.jpg\"></span>\\n      <meta itemprop=\"width\" content=\"400\"></meta>\\n      <meta itemprop=\"height\" content=\"60\"></meta>\\n    </span>\\n  </span>\\n  <div class=\"news-card-image\" style= \"background-image: url(\\'https://static.inshorts.com/inshorts/images/v1/variants/jpg/m/2020/05_may/23_sat/img_1590238051274_985.jpg?\\')\">\\n  </div>\\n  <div class=\"news-card-title news-right-box\">\\n    <a class=\"clickable\" onclick=\"ga(\\'send\\', {\\'hitType\\': \\'event\\', \\'eventCategory\\': \\'TitleOfNews\\', \\'eventAction\\': \\'clicked\\', \\'eventLabel\\': \\'Data%20of%202.9%20crore%20Indian%20job%20seekers%20leaked%20on%20dark%20web%3A%20Cyble)\\' });\"  style=\"color:#44444d!important\" href=\"/en/news/data-of-29-crore-indian-job-seekers-leaked-on-dark-web-cyble-1590239512912\">\\n      <span itemprop=\"headline\">Data of 2.9 crore Indian job seekers leaked on dark web: Cyble</span>\\n    </a>\\n    <div class=\"news-card-author-time news-card-author-time-in-title\">\\n      <a href=\"/prev/en/news/data-of-29-crore-indian-job-seekers-leaked-on-dark-web-cyble-1590239512912\"><span class=\"short\">short</span></a> by <span class=\"author\">Nandini Sinha</span> / \\n      <span class=\"time\" itemprop=\"datePublished\" content=\"2020-05-23T13:11:52.000Z\">06:41 pm</span> on <span clas=\"date\">23 May 2020,Saturday</span>\\n    </div>\\n  </div>\\n  <div class=\"news-card-content news-right-box\">\\n    <div itemprop=\"articleBody\">Personal data of 2.9 crore Indian job seekers has been leaked on the dark web for free, cybersecurity intelligence firm Cyble said. It includes details about job seekers&#39; education, address, etc, Cyble said in a blog post. &#34;The original leak appears to be from a resume aggregator service collecting data from various known job portals,&#34; Cyble added.</div>\\n    <div class=\"news-card-author-time news-card-author-time-in-content\">\\n      <a href=\"/prev/en/news/data-of-29-crore-indian-job-seekers-leaked-on-dark-web-cyble-1590239512912\"><span class=\"short\">short</span></a> by <span class=\"author\">Nandini Sinha</span> / \\n      <span class=\"time\" itemprop=\"dateModified\" content=\"2020-05-23T13:11:52.000Z\" >06:41 pm</span> on <span class=\"date\">23 May</span>\\n    </div>\\n  </div>\\n  \\n    <div class=\"news-card-footer news-right-box\">\\n      <div class=\"read-more\">read more at <a class=\"source\" onclick=\"ga(\\'send\\', {\\'hitType\\': \\'event\\', \\'eventCategory\\': \\'ReadMore\\', \\'eventAction\\': \\'clicked\\', \\'eventLabel\\': \\'Inc42\\' });\" target=\"_blank\" href=\"https://inc42.com/buzz/data-of-29-mn-job-seekers-on-naukri-times-jobs-among-others-on-sale-in-dark-web/?utm_campaign=fullarticle&amp;utm_medium=referral&amp;utm_source=inshorts \">Inc42</a></div>\\n    </div>\\n  \\n\\n</div>\\n\\n  \\n</div>\\n\\n\\n\\n\\n  \\n    <div id=\\'div-gpt-ad-1536748319959-a7afh2xn-1\\' style=\\'height:250px; width:900px; margin: auto; margin-bottom: 2%;\\'>\\n      <script>\\n        googletag.cmd.push(function() { \\n          //News banner for desktop\\n          var slotIdWeb = \\'div-gpt-ad-1536748319959-a7afh2xn-1\\';\\n          var slot = googletag.defineSlot(\\'/142919096/inshorts_website_900x250\\', [900, 250], slotIdWeb)\\n          .addService(googletag.pubads())\\n          .setCollapseEmptyDiv(true,true);\\n\\n          googletag.display(\\'div-gpt-ad-1536748319959-a7afh2xn-1\\');\\n          googletag.pubads().refresh([slot]);\\n        });\\n      </script>\\n    </div>\\n  \\n\\n<div class=\"\">\\n<div class=\"news-card z-depth-1\" itemscope itemtype=\"http://schema.org/NewsArticle\">\\n  <span content=\"\" itemscope itemprop=\"mainEntityOfPage\" itemType=\"https://schema.org/WebPage\" itemid=\"https://inshorts.com/en/news/some-of-my-tweets-were-definitely-extremely-dumb-billionaire-elon-musk-1590206728261\"></span>\\n  <span itemtype=\"https://schema.org/Person\" itemscope=\"itemscope\" itemprop=\"author\">\\n    <span itemprop=\"name\" content=\"Dharna\"></span>\\n  </span>\\n  <span itemprop=\"description\" content=\"Some of my tweets were definitely extremely dumb: Billionaire Elon Musk\"></span>\\n  <span itemprop=\"image\" itemscope itemtype=\"https://schema.org/ImageObject\">\\n    <meta itemprop=\"url\" content=\"https://static.inshorts.com/inshorts/images/v1/variants/jpg/m/2020/05_may/23_sat/img_1590203304679_328.jpg?\"></meta>\\n    <meta itemprop=\"width\" content=\"864\"></meta>\\n    <meta itemprop=\"height\" content=\"483\"></meta>\\n  </span>\\n  <span itemtype=\"https://schema.org/Organization\" itemscope=\"itemscope\" itemprop=\"publisher\">\\n    <span itemprop=\"url\" content=\"https://inshorts.com/\"></span>\\n    <span itemprop=\"name\" content=\"Inshorts\"></span>\\n    <span itemprop=\"logo\" itemscope itemtype=\"https://schema.org/ImageObject\">\\n      <span itemprop=\"url\" content=\"https://assets.inshorts.com/inshorts/images/v1/variants/jpg/m/2018/11_nov/21_wed/img_1542823931298_497.jpg\"></span>\\n      <meta itemprop=\"width\" content=\"400\"></meta>\\n      <meta itemprop=\"height\" content=\"60\"></meta>\\n    </span>\\n  </span>\\n  <div class=\"news-card-image\" style= \"background-image: url(\\'https://static.inshorts.com/inshorts/images/v1/variants/jpg/m/2020/05_may/23_sat/img_1590203304679_328.jpg?\\')\">\\n  </div>\\n  <div class=\"news-card-title news-right-box\">\\n    <a class=\"clickable\" onclick=\"ga(\\'send\\', {\\'hitType\\': \\'event\\', \\'eventCategory\\': \\'TitleOfNews\\', \\'eventAction\\': \\'clicked\\', \\'eventLabel\\': \\'Some%20of%20my%20tweets%20were%20definitely%20extremely%20dumb%3A%20Billionaire%20Elon%20Musk)\\' });\"  style=\"color:#44444d!important\" href=\"/en/news/some-of-my-tweets-were-definitely-extremely-dumb-billionaire-elon-musk-1590206728261\">\\n      <span itemprop=\"headline\">Some of my tweets were definitely extremely dumb: Billionaire Elon Musk</span>\\n    </a>\\n    <div class=\"news-card-author-time news-card-author-time-in-title\">\\n      <a href=\"/prev/en/news/some-of-my-tweets-were-definitely-extremely-dumb-billionaire-elon-musk-1590206728261\"><span class=\"short\">short</span></a> by <span class=\"author\">Dharna</span> / \\n      <span class=\"time\" itemprop=\"datePublished\" content=\"2020-05-23T04:05:28.000Z\">09:35 am</span> on <span clas=\"date\">23 May 2020,Saturday</span>\\n    </div>\\n  </div>\\n  <div class=\"news-card-content news-right-box\">\\n    <div itemprop=\"articleBody\">Tesla and SpaceX CEO Elon Musk admitted that some of the things he tweeted were &#34;definitely extremely dumb&#34;, adding he &#34;would like to retract them&#34;. When asked why he tweets at all, Musk replied, &#34;It&#39;s a means of communicating directly to people without...going through press...It&#39;s hard to make everyone happy...You can either say things that aren&#39;t controversial...and then you&#39;re boring.&#34;</div>\\n    <div class=\"news-card-author-time news-card-author-time-in-content\">\\n      <a href=\"/prev/en/news/some-of-my-tweets-were-definitely-extremely-dumb-billionaire-elon-musk-1590206728261\"><span class=\"short\">short</span></a> by <span class=\"author\">Dharna</span> / \\n      <span class=\"time\" itemprop=\"dateModified\" content=\"2020-05-23T04:05:28.000Z\" >09:35 am</span> on <span class=\"date\">23 May</span>\\n    </div>\\n  </div>\\n  \\n    <div class=\"news-card-footer news-right-box\">\\n      <div class=\"read-more\">read more at <a class=\"source\" onclick=\"ga(\\'send\\', {\\'hitType\\': \\'event\\', \\'eventCategory\\': \\'ReadMore\\', \\'eventAction\\': \\'clicked\\', \\'eventLabel\\': \\'BloombergQuint\\' });\" target=\"_blank\" href=\"https://www.bloombergquint.com/bq-blue-exclusive/elon-musk-speaks-frankly-on-coronavirus-spacex-and-rage-tweets?utm_campaign=fullarticle&amp;utm_medium=referral&amp;utm_source=inshorts \">BloombergQuint</a></div>\\n    </div>\\n  \\n\\n</div>\\n\\n  \\n</div>\\n\\n\\n\\n\\n<div class=\"\">\\n<div class=\"news-card z-depth-1\" itemscope itemtype=\"http://schema.org/NewsArticle\">\\n  <span content=\"\" itemscope itemprop=\"mainEntityOfPage\" itemType=\"https://schema.org/WebPage\" itemid=\"https://inshorts.com/en/news/ai-creates-new-pacman-version-just-by-watching-50000-episodes-of-gameplay-1590215459058\"></span>\\n  <span itemtype=\"https://schema.org/Person\" itemscope=\"itemscope\" itemprop=\"author\">\\n    <span itemprop=\"name\" content=\"Dharna\"></span>\\n  </span>\\n  <span itemprop=\"description\" content=\"AI creates new Pac-Man version just by watching 50,000 episodes of gameplay\"></span>\\n  <span itemprop=\"image\" itemscope itemtype=\"https://schema.org/ImageObject\">\\n    <meta itemprop=\"url\" content=\"https://static.inshorts.com/inshorts/images/v1/variants/jpg/m/2020/05_may/23_sat/img_1590214593019_801.jpg?\"></meta>\\n    <meta itemprop=\"width\" content=\"864\"></meta>\\n    <meta itemprop=\"height\" content=\"483\"></meta>\\n  </span>\\n  <span itemtype=\"https://schema.org/Organization\" itemscope=\"itemscope\" itemprop=\"publisher\">\\n    <span itemprop=\"url\" content=\"https://inshorts.com/\"></span>\\n    <span itemprop=\"name\" content=\"Inshorts\"></span>\\n    <span itemprop=\"logo\" itemscope itemtype=\"https://schema.org/ImageObject\">\\n      <span itemprop=\"url\" content=\"https://assets.inshorts.com/inshorts/images/v1/variants/jpg/m/2018/11_nov/21_wed/img_1542823931298_497.jpg\"></span>\\n      <meta itemprop=\"width\" content=\"400\"></meta>\\n      <meta itemprop=\"height\" content=\"60\"></meta>\\n    </span>\\n  </span>\\n  <div class=\"news-card-image\" style= \"background-image: url(\\'https://static.inshorts.com/inshorts/images/v1/variants/jpg/m/2020/05_may/23_sat/img_1590214593019_801.jpg?\\')\">\\n  </div>\\n  <div class=\"news-card-title news-right-box\">\\n    <a class=\"clickable\" onclick=\"ga(\\'send\\', {\\'hitType\\': \\'event\\', \\'eventCategory\\': \\'TitleOfNews\\', \\'eventAction\\': \\'clicked\\', \\'eventLabel\\': \\'AI%20creates%20new%20Pac-Man%20version%20just%20by%20watching%2050%2C000%20episodes%20of%20gameplay)\\' });\"  style=\"color:#44444d!important\" href=\"/en/news/ai-creates-new-pacman-version-just-by-watching-50000-episodes-of-gameplay-1590215459058\">\\n      <span itemprop=\"headline\">AI creates new Pac-Man version just by watching 50,000 episodes of gameplay</span>\\n    </a>\\n    <div class=\"news-card-author-time news-card-author-time-in-title\">\\n      <a href=\"/prev/en/news/ai-creates-new-pacman-version-just-by-watching-50000-episodes-of-gameplay-1590215459058\"><span class=\"short\">short</span></a> by <span class=\"author\">Dharna</span> / \\n      <span class=\"time\" itemprop=\"datePublished\" content=\"2020-05-23T06:30:59.000Z\">12:00 pm</span> on <span clas=\"date\">23 May 2020,Saturday</span>\\n    </div>\\n  </div>\\n  <div class=\"news-card-content news-right-box\">\\n    <div itemprop=\"articleBody\">On the fortieth anniversary of Pac-Man, graphics card company Nvidia trained an artificial intelligence model to build a new playable version of the game from scratch without a game engine. The AI, which was fed 50,000 episodes of Pac-Man being played along with the accompanying controller inputs, then recreated it frame by frame. Nvidia plans to release the version online.</div>\\n    <div class=\"news-card-author-time news-card-author-time-in-content\">\\n      <a href=\"/prev/en/news/ai-creates-new-pacman-version-just-by-watching-50000-episodes-of-gameplay-1590215459058\"><span class=\"short\">short</span></a> by <span class=\"author\">Dharna</span> / \\n      <span class=\"time\" itemprop=\"dateModified\" content=\"2020-05-23T06:30:59.000Z\" >12:00 pm</span> on <span class=\"date\">23 May</span>\\n    </div>\\n  </div>\\n  \\n    <div class=\"news-card-footer news-right-box\">\\n      <div class=\"read-more\">read more at <a class=\"source\" onclick=\"ga(\\'send\\', {\\'hitType\\': \\'event\\', \\'eventCategory\\': \\'ReadMore\\', \\'eventAction\\': \\'clicked\\', \\'eventLabel\\': \\'The%20Next%20Web\\' });\" target=\"_blank\" href=\"https://thenextweb.com/neural/2020/05/22/nvidia-teaches-ai-to-create-new-version-of-pac-man-just-by-watching-gameplay/?utm_campaign=fullarticle&amp;utm_medium=referral&amp;utm_source=inshorts \">The Next Web</a></div>\\n    </div>\\n  \\n\\n</div>\\n\\n  \\n</div>\\n\\n\\n\\n\\n<div class=\"\">\\n<div class=\"news-card z-depth-1\" itemscope itemtype=\"http://schema.org/NewsArticle\">\\n  <span content=\"\" itemscope itemprop=\"mainEntityOfPage\" itemType=\"https://schema.org/WebPage\" itemid=\"https://inshorts.com/en/news/fastest-internet-speed-of-442-tbps-recorded-can-download-1k-hd-movies-within-a-sec-1590197453601\"></span>\\n  <span itemtype=\"https://schema.org/Person\" itemscope=\"itemscope\" itemprop=\"author\">\\n    <span itemprop=\"name\" content=\"Anmol Sharma\"></span>\\n  </span>\\n  <span itemprop=\"description\" content=\"Fastest internet speed of 44.2 Tbps recorded, can download 1k HD movies within a sec\"></span>\\n  <span itemprop=\"image\" itemscope itemtype=\"https://schema.org/ImageObject\">\\n    <meta itemprop=\"url\" content=\"https://static.inshorts.com/inshorts/images/v1/variants/jpg/m/2020/05_may/22_fri/img_1590165974220_736.jpg?\"></meta>\\n    <meta itemprop=\"width\" content=\"864\"></meta>\\n    <meta itemprop=\"height\" content=\"483\"></meta>\\n  </span>\\n  <span itemtype=\"https://schema.org/Organization\" itemscope=\"itemscope\" itemprop=\"publisher\">\\n    <span itemprop=\"url\" content=\"https://inshorts.com/\"></span>\\n    <span itemprop=\"name\" content=\"Inshorts\"></span>\\n    <span itemprop=\"logo\" itemscope itemtype=\"https://schema.org/ImageObject\">\\n      <span itemprop=\"url\" content=\"https://assets.inshorts.com/inshorts/images/v1/variants/jpg/m/2018/11_nov/21_wed/img_1542823931298_497.jpg\"></span>\\n      <meta itemprop=\"width\" content=\"400\"></meta>\\n      <meta itemprop=\"height\" content=\"60\"></meta>\\n    </span>\\n  </span>\\n  <div class=\"news-card-image\" style= \"background-image: url(\\'https://static.inshorts.com/inshorts/images/v1/variants/jpg/m/2020/05_may/22_fri/img_1590165974220_736.jpg?\\')\">\\n  </div>\\n  <div class=\"news-card-title news-right-box\">\\n    <a class=\"clickable\" onclick=\"ga(\\'send\\', {\\'hitType\\': \\'event\\', \\'eventCategory\\': \\'TitleOfNews\\', \\'eventAction\\': \\'clicked\\', \\'eventLabel\\': \\'Fastest%20internet%20speed%20of%2044.2%20Tbps%20recorded%2C%20can%20download%201k%20HD%20movies%20within%20a%20sec)\\' });\"  style=\"color:#44444d!important\" href=\"/en/news/fastest-internet-speed-of-442-tbps-recorded-can-download-1k-hd-movies-within-a-sec-1590197453601\">\\n      <span itemprop=\"headline\">Fastest internet speed of 44.2 Tbps recorded, can download 1k HD movies within a sec</span>\\n    </a>\\n    <div class=\"news-card-author-time news-card-author-time-in-title\">\\n      <a href=\"/prev/en/news/fastest-internet-speed-of-442-tbps-recorded-can-download-1k-hd-movies-within-a-sec-1590197453601\"><span class=\"short\">short</span></a> by <span class=\"author\">Anmol Sharma</span> / \\n      <span class=\"time\" itemprop=\"datePublished\" content=\"2020-05-23T01:30:53.000Z\">07:00 am</span> on <span clas=\"date\">23 May 2020,Saturday</span>\\n    </div>\\n  </div>\\n  <div class=\"news-card-content news-right-box\">\\n    <div itemprop=\"articleBody\">Researchers from Australia&#39;s Monash, Swinburne and RMIT universities have recorded the fastest internet data speed of 44.2 Terabits per second (Tbps). It is capable of downloading 1000 HD movies in a split second. Researchers said they achieved it by using a device that replaces around 80 lasers found in existing telecoms hardware, with a single equipment known as a &#39;micro-comb&#39;.</div>\\n    <div class=\"news-card-author-time news-card-author-time-in-content\">\\n      <a href=\"/prev/en/news/fastest-internet-speed-of-442-tbps-recorded-can-download-1k-hd-movies-within-a-sec-1590197453601\"><span class=\"short\">short</span></a> by <span class=\"author\">Anmol Sharma</span> / \\n      <span class=\"time\" itemprop=\"dateModified\" content=\"2020-05-23T01:30:53.000Z\" >07:00 am</span> on <span class=\"date\">23 May</span>\\n    </div>\\n  </div>\\n  \\n    <div class=\"news-card-footer news-right-box\">\\n      <div class=\"read-more\">read more at <a class=\"source\" onclick=\"ga(\\'send\\', {\\'hitType\\': \\'event\\', \\'eventCategory\\': \\'ReadMore\\', \\'eventAction\\': \\'clicked\\', \\'eventLabel\\': \\'Swinburne\\' });\" target=\"_blank\" href=\"http://www.swinburne.edu.au/news/latest-news/2020/05/australian-researchers-record-worlds-fastest-internet-speed-from-a-single-optical-chip.php?utm_campaign=fullarticle&amp;utm_medium=referral&amp;utm_source=inshorts \">Swinburne</a></div>\\n    </div>\\n  \\n\\n</div>\\n\\n  \\n</div>\\n\\n\\n\\n\\n<div class=\"\">\\n<div class=\"news-card z-depth-1\" itemscope itemtype=\"http://schema.org/NewsArticle\">\\n  <span content=\"\" itemscope itemprop=\"mainEntityOfPage\" itemType=\"https://schema.org/WebPage\" itemid=\"https://inshorts.com/en/news/sealed-the-deal-in-10-days-over-zoom-calls-kkr-on-$15-billion-jio-investment-1590211482805\"></span>\\n  <span itemtype=\"https://schema.org/Person\" itemscope=\"itemscope\" itemprop=\"author\">\\n    <span itemprop=\"name\" content=\"Krishna Veera Vanamali\"></span>\\n  </span>\\n  <span itemprop=\"description\" content=\"Sealed the deal in 10 days over Zoom calls: KKR on $1.5 billion Jio investment\"></span>\\n  <span itemprop=\"image\" itemscope itemtype=\"https://schema.org/ImageObject\">\\n    <meta itemprop=\"url\" content=\"https://static.inshorts.com/inshorts/images/v1/variants/jpg/m/2020/05_may/23_sat/img_1590205756855_666.jpg?\"></meta>\\n    <meta itemprop=\"width\" content=\"864\"></meta>\\n    <meta itemprop=\"height\" content=\"483\"></meta>\\n  </span>\\n  <span itemtype=\"https://schema.org/Organization\" itemscope=\"itemscope\" itemprop=\"publisher\">\\n    <span itemprop=\"url\" content=\"https://inshorts.com/\"></span>\\n    <span itemprop=\"name\" content=\"Inshorts\"></span>\\n    <span itemprop=\"logo\" itemscope itemtype=\"https://schema.org/ImageObject\">\\n      <span itemprop=\"url\" content=\"https://assets.inshorts.com/inshorts/images/v1/variants/jpg/m/2018/11_nov/21_wed/img_1542823931298_497.jpg\"></span>\\n      <meta itemprop=\"width\" content=\"400\"></meta>\\n      <meta itemprop=\"height\" content=\"60\"></meta>\\n    </span>\\n  </span>\\n  <div class=\"news-card-image\" style= \"background-image: url(\\'https://static.inshorts.com/inshorts/images/v1/variants/jpg/m/2020/05_may/23_sat/img_1590205756855_666.jpg?\\')\">\\n  </div>\\n  <div class=\"news-card-title news-right-box\">\\n    <a class=\"clickable\" onclick=\"ga(\\'send\\', {\\'hitType\\': \\'event\\', \\'eventCategory\\': \\'TitleOfNews\\', \\'eventAction\\': \\'clicked\\', \\'eventLabel\\': \\'Sealed%20the%20deal%20in%2010%20days%20over%20Zoom%20calls%3A%20KKR%20on%20%241.5%20billion%20Jio%20investment)\\' });\"  style=\"color:#44444d!important\" href=\"/en/news/sealed-the-deal-in-10-days-over-zoom-calls-kkr-on-$15-billion-jio-investment-1590211482805\">\\n      <span itemprop=\"headline\">Sealed the deal in 10 days over Zoom calls: KKR on $1.5 billion Jio investment</span>\\n    </a>\\n    <div class=\"news-card-author-time news-card-author-time-in-title\">\\n      <a href=\"/prev/en/news/sealed-the-deal-in-10-days-over-zoom-calls-kkr-on-$15-billion-jio-investment-1590211482805\"><span class=\"short\">short</span></a> by <span class=\"author\">Krishna Veera Vanamali</span> / \\n      <span class=\"time\" itemprop=\"datePublished\" content=\"2020-05-23T05:24:42.000Z\">10:54 am</span> on <span clas=\"date\">23 May 2020,Saturday</span>\\n    </div>\\n  </div>\\n  <div class=\"news-card-content news-right-box\">\\n    <div itemprop=\"articleBody\">US-based private equity firm KKR has said it negotiated the $1.5 billion deal to buy 2.3% stake in Jio Platforms in just 10 days. The deal, which is KKR&#39;s biggest Asian transaction, was done over Zoom calls, said Sanjay Nayar, CEO of KKR India. &#34;We invested in Mukesh Ambani&#39;s entrepreneurial vision backed by a world class management,&#34; Nayar said.</div>\\n    <div class=\"news-card-author-time news-card-author-time-in-content\">\\n      <a href=\"/prev/en/news/sealed-the-deal-in-10-days-over-zoom-calls-kkr-on-$15-billion-jio-investment-1590211482805\"><span class=\"short\">short</span></a> by <span class=\"author\">Krishna Veera Vanamali</span> / \\n      <span class=\"time\" itemprop=\"dateModified\" content=\"2020-05-23T05:24:42.000Z\" >10:54 am</span> on <span class=\"date\">23 May</span>\\n    </div>\\n  </div>\\n  \\n    <div class=\"news-card-footer news-right-box\">\\n      <div class=\"read-more\">read more at <a class=\"source\" onclick=\"ga(\\'send\\', {\\'hitType\\': \\'event\\', \\'eventCategory\\': \\'ReadMore\\', \\'eventAction\\': \\'clicked\\', \\'eventLabel\\': \\'BloombergQuint\\' });\" target=\"_blank\" href=\"https://www.bloombergquint.com/business/kkr-caps-jio-deal-its-biggest-asian-transaction-in-10-days?utm_campaign=fullarticle&amp;utm_medium=referral&amp;utm_source=inshorts \">BloombergQuint</a></div>\\n    </div>\\n  \\n\\n</div>\\n\\n  \\n</div>\\n\\n\\n\\n\\n<div class=\"\">\\n<div class=\"news-card z-depth-1\" itemscope itemtype=\"http://schema.org/NewsArticle\">\\n  <span content=\"\" itemscope itemprop=\"mainEntityOfPage\" itemType=\"https://schema.org/WebPage\" itemid=\"https://inshorts.com/en/news/apps-cant-replace-humans-needed-for-contact-tracing-microsoft-president-1590152360442\"></span>\\n  <span itemtype=\"https://schema.org/Person\" itemscope=\"itemscope\" itemprop=\"author\">\\n    <span itemprop=\"name\" content=\"Aishwarya\"></span>\\n  </span>\\n  <span itemprop=\"description\" content=\"Apps can&#39;t replace humans needed for contact tracing: Microsoft President\"></span>\\n  <span itemprop=\"image\" itemscope itemtype=\"https://schema.org/ImageObject\">\\n    <meta itemprop=\"url\" content=\"https://static.inshorts.com/inshorts/images/v1/variants/jpg/m/2020/05_may/22_fri/img_1590148644449_412.jpg?\"></meta>\\n    <meta itemprop=\"width\" content=\"864\"></meta>\\n    <meta itemprop=\"height\" content=\"483\"></meta>\\n  </span>\\n  <span itemtype=\"https://schema.org/Organization\" itemscope=\"itemscope\" itemprop=\"publisher\">\\n    <span itemprop=\"url\" content=\"https://inshorts.com/\"></span>\\n    <span itemprop=\"name\" content=\"Inshorts\"></span>\\n    <span itemprop=\"logo\" itemscope itemtype=\"https://schema.org/ImageObject\">\\n      <span itemprop=\"url\" content=\"https://assets.inshorts.com/inshorts/images/v1/variants/jpg/m/2018/11_nov/21_wed/img_1542823931298_497.jpg\"></span>\\n      <meta itemprop=\"width\" content=\"400\"></meta>\\n      <meta itemprop=\"height\" content=\"60\"></meta>\\n    </span>\\n  </span>\\n  <div class=\"news-card-image\" style= \"background-image: url(\\'https://static.inshorts.com/inshorts/images/v1/variants/jpg/m/2020/05_may/22_fri/img_1590148644449_412.jpg?\\')\">\\n  </div>\\n  <div class=\"news-card-title news-right-box\">\\n    <a class=\"clickable\" onclick=\"ga(\\'send\\', {\\'hitType\\': \\'event\\', \\'eventCategory\\': \\'TitleOfNews\\', \\'eventAction\\': \\'clicked\\', \\'eventLabel\\': \\'Apps%20can&#39;t%20replace%20humans%20needed%20for%20contact%20tracing%3A%20Microsoft%20President)\\' });\"  style=\"color:#44444d!important\" href=\"/en/news/apps-cant-replace-humans-needed-for-contact-tracing-microsoft-president-1590152360442\">\\n      <span itemprop=\"headline\">Apps can&#39;t replace humans needed for contact tracing: Microsoft President</span>\\n    </a>\\n    <div class=\"news-card-author-time news-card-author-time-in-title\">\\n      <a href=\"/prev/en/news/apps-cant-replace-humans-needed-for-contact-tracing-microsoft-president-1590152360442\"><span class=\"short\">short</span></a> by <span class=\"author\">Aishwarya</span> / \\n      <span class=\"time\" itemprop=\"datePublished\" content=\"2020-05-22T12:59:20.000Z\">06:29 pm</span> on <span clas=\"date\">22 May 2020,Friday</span>\\n    </div>\\n  </div>\\n  <div class=\"news-card-content news-right-box\">\\n    <div itemprop=\"articleBody\">Microsoft President Brad Smith said that while apps can make the approach to contact tracing &#34;more effective&#34;, they can&#39;t replace humans who need to do contact tracing. He explained public health officers would still be required to interview every COVID-19-positive person. He added that app-based contact tracing is an &#34;important tool&#34; but not a &#34;panacea&#34;.</div>\\n    <div class=\"news-card-author-time news-card-author-time-in-content\">\\n      <a href=\"/prev/en/news/apps-cant-replace-humans-needed-for-contact-tracing-microsoft-president-1590152360442\"><span class=\"short\">short</span></a> by <span class=\"author\">Aishwarya</span> / \\n      <span class=\"time\" itemprop=\"dateModified\" content=\"2020-05-22T12:59:20.000Z\" >06:29 pm</span> on <span class=\"date\">22 May</span>\\n    </div>\\n  </div>\\n  \\n    <div class=\"news-card-footer news-right-box\">\\n      <div class=\"read-more\">read more at <a class=\"source\" onclick=\"ga(\\'send\\', {\\'hitType\\': \\'event\\', \\'eventCategory\\': \\'ReadMore\\', \\'eventAction\\': \\'clicked\\', \\'eventLabel\\': \\'Hindustan%20Times\\' });\" target=\"_blank\" href=\"https://tech.hindustantimes.com/tech/news/-bluetooth-based-covid-tech-not-a-meaningful-solution-71590125935605.html?utm_campaign=fullarticle&amp;utm_medium=referral&amp;utm_source=inshorts \">Hindustan Times</a></div>\\n    </div>\\n  \\n\\n</div>\\n\\n  \\n</div>\\n\\n\\n\\n\\n<div class=\"\">\\n<div class=\"news-card z-depth-1\" itemscope itemtype=\"http://schema.org/NewsArticle\">\\n  <span content=\"\" itemscope itemprop=\"mainEntityOfPage\" itemType=\"https://schema.org/WebPage\" itemid=\"https://inshorts.com/en/news/struggling-to-get-coordinated-cooperation-from-amazon-kenosha-county-1590243710151\"></span>\\n  <span itemtype=\"https://schema.org/Person\" itemscope=\"itemscope\" itemprop=\"author\">\\n    <span itemprop=\"name\" content=\"Aishwarya\"></span>\\n  </span>\\n  <span itemprop=\"description\" content=\"Amazon not cooperating over COVID-19 cases at Wisconsin campus: US Officials\"></span>\\n  <span itemprop=\"image\" itemscope itemtype=\"https://schema.org/ImageObject\">\\n    <meta itemprop=\"url\" content=\"https://static.inshorts.com/inshorts/images/v1/variants/jpg/m/2020/05_may/23_sat/img_1590239113362_288.jpg?\"></meta>\\n    <meta itemprop=\"width\" content=\"864\"></meta>\\n    <meta itemprop=\"height\" content=\"483\"></meta>\\n  </span>\\n  <span itemtype=\"https://schema.org/Organization\" itemscope=\"itemscope\" itemprop=\"publisher\">\\n    <span itemprop=\"url\" content=\"https://inshorts.com/\"></span>\\n    <span itemprop=\"name\" content=\"Inshorts\"></span>\\n    <span itemprop=\"logo\" itemscope itemtype=\"https://schema.org/ImageObject\">\\n      <span itemprop=\"url\" content=\"https://assets.inshorts.com/inshorts/images/v1/variants/jpg/m/2018/11_nov/21_wed/img_1542823931298_497.jpg\"></span>\\n      <meta itemprop=\"width\" content=\"400\"></meta>\\n      <meta itemprop=\"height\" content=\"60\"></meta>\\n    </span>\\n  </span>\\n  <div class=\"news-card-image\" style= \"background-image: url(\\'https://static.inshorts.com/inshorts/images/v1/variants/jpg/m/2020/05_may/23_sat/img_1590239113362_288.jpg?\\')\">\\n  </div>\\n  <div class=\"news-card-title news-right-box\">\\n    <a class=\"clickable\" onclick=\"ga(\\'send\\', {\\'hitType\\': \\'event\\', \\'eventCategory\\': \\'TitleOfNews\\', \\'eventAction\\': \\'clicked\\', \\'eventLabel\\': \\'Amazon%20not%20cooperating%20over%20COVID-19%20cases%20at%20Wisconsin%20campus%3A%20US%20Officials)\\' });\"  style=\"color:#44444d!important\" href=\"/en/news/struggling-to-get-coordinated-cooperation-from-amazon-kenosha-county-1590243710151\">\\n      <span itemprop=\"headline\">Amazon not cooperating over COVID-19 cases at Wisconsin campus: US Officials</span>\\n    </a>\\n    <div class=\"news-card-author-time news-card-author-time-in-title\">\\n      <a href=\"/prev/en/news/struggling-to-get-coordinated-cooperation-from-amazon-kenosha-county-1590243710151\"><span class=\"short\">short</span></a> by <span class=\"author\">Aishwarya</span> / \\n      <span class=\"time\" itemprop=\"datePublished\" content=\"2020-05-23T14:21:50.000Z\">07:51 pm</span> on <span clas=\"date\">23 May 2020,Saturday</span>\\n    </div>\\n  </div>\\n  <div class=\"news-card-content news-right-box\">\\n    <div itemprop=\"articleBody\">Health officials in Wisconsin, US, have said that they&#39;ve &#34;struggled&#34; to receive coordinated cooperation from Amazon regarding the handling of COVID-19 cases at a campus in Kenosha county. Amazon hasn&#39;t fully cooperated with officials trying to track cases, they added. Officials further said that they would consider attempting to shut down Amazon&#39;s Kenosha facilities if it didn&#39;t cooperate.</div>\\n    <div class=\"news-card-author-time news-card-author-time-in-content\">\\n      <a href=\"/prev/en/news/struggling-to-get-coordinated-cooperation-from-amazon-kenosha-county-1590243710151\"><span class=\"short\">short</span></a> by <span class=\"author\">Aishwarya</span> / \\n      <span class=\"time\" itemprop=\"dateModified\" content=\"2020-05-23T14:21:50.000Z\" >07:51 pm</span> on <span class=\"date\">23 May</span>\\n    </div>\\n  </div>\\n  \\n    <div class=\"news-card-footer news-right-box\">\\n      <div class=\"read-more\">read more at <a class=\"source\" onclick=\"ga(\\'send\\', {\\'hitType\\': \\'event\\', \\'eventCategory\\': \\'ReadMore\\', \\'eventAction\\': \\'clicked\\', \\'eventLabel\\': \\'The%20Guardian\\' });\" target=\"_blank\" href=\"https://www.theguardian.com/technology/2020/may/22/amazon-coronavirus-wisconsin-campus-closure-threat?utm_campaign=fullarticle&amp;utm_medium=referral&amp;utm_source=inshorts \">The Guardian</a></div>\\n    </div>\\n  \\n\\n</div>\\n\\n  \\n</div>\\n\\n\\n\\n\\n  \\n    <div id=\\'div-gpt-ad-1536748319959-fngog4hi-1\\' style=\\'height:250px; width:900px; margin: auto; margin-bottom: 2%;\\'>\\n      <script>\\n        googletag.cmd.push(function() { \\n          //News banner for desktop\\n          var slotIdWeb = \\'div-gpt-ad-1536748319959-fngog4hi-1\\';\\n          var slot = googletag.defineSlot(\\'/142919096/inshorts_website_900x250\\', [900, 250], slotIdWeb)\\n          .addService(googletag.pubads())\\n          .setCollapseEmptyDiv(true,true);\\n\\n          googletag.display(\\'div-gpt-ad-1536748319959-fngog4hi-1\\');\\n          googletag.pubads().refresh([slot]);\\n        });\\n      </script>\\n    </div>\\n  \\n\\n<div class=\"\">\\n<div class=\"news-card z-depth-1\" itemscope itemtype=\"http://schema.org/NewsArticle\">\\n  <span content=\"\" itemscope itemprop=\"mainEntityOfPage\" itemType=\"https://schema.org/WebPage\" itemid=\"https://inshorts.com/en/news/600-increase-in-malicious-emails-during-covid19-un-official-1590238472700\"></span>\\n  <span itemtype=\"https://schema.org/Person\" itemscope=\"itemscope\" itemprop=\"author\">\\n    <span itemprop=\"name\" content=\"Aishwarya\"></span>\\n  </span>\\n  <span itemprop=\"description\" content=\"600% increase in malicious emails during COVID-19: UN official\"></span>\\n  <span itemprop=\"image\" itemscope itemtype=\"https://schema.org/ImageObject\">\\n    <meta itemprop=\"url\" content=\"https://static.inshorts.com/inshorts/images/v1/variants/jpg/m/2020/05_may/23_sat/img_1590234873098_92.jpg?\"></meta>\\n    <meta itemprop=\"width\" content=\"864\"></meta>\\n    <meta itemprop=\"height\" content=\"483\"></meta>\\n  </span>\\n  <span itemtype=\"https://schema.org/Organization\" itemscope=\"itemscope\" itemprop=\"publisher\">\\n    <span itemprop=\"url\" content=\"https://inshorts.com/\"></span>\\n    <span itemprop=\"name\" content=\"Inshorts\"></span>\\n    <span itemprop=\"logo\" itemscope itemtype=\"https://schema.org/ImageObject\">\\n      <span itemprop=\"url\" content=\"https://assets.inshorts.com/inshorts/images/v1/variants/jpg/m/2018/11_nov/21_wed/img_1542823931298_497.jpg\"></span>\\n      <meta itemprop=\"width\" content=\"400\"></meta>\\n      <meta itemprop=\"height\" content=\"60\"></meta>\\n    </span>\\n  </span>\\n  <div class=\"news-card-image\" style= \"background-image: url(\\'https://static.inshorts.com/inshorts/images/v1/variants/jpg/m/2020/05_may/23_sat/img_1590234873098_92.jpg?\\')\">\\n  </div>\\n  <div class=\"news-card-title news-right-box\">\\n    <a class=\"clickable\" onclick=\"ga(\\'send\\', {\\'hitType\\': \\'event\\', \\'eventCategory\\': \\'TitleOfNews\\', \\'eventAction\\': \\'clicked\\', \\'eventLabel\\': \\'600%25%20increase%20in%20malicious%20emails%20during%20COVID-19%3A%20UN%20official)\\' });\"  style=\"color:#44444d!important\" href=\"/en/news/600-increase-in-malicious-emails-during-covid19-un-official-1590238472700\">\\n      <span itemprop=\"headline\">600% increase in malicious emails during COVID-19: UN official</span>\\n    </a>\\n    <div class=\"news-card-author-time news-card-author-time-in-title\">\\n      <a href=\"/prev/en/news/600-increase-in-malicious-emails-during-covid19-un-official-1590238472700\"><span class=\"short\">short</span></a> by <span class=\"author\">Aishwarya</span> / \\n      <span class=\"time\" itemprop=\"datePublished\" content=\"2020-05-23T12:54:32.000Z\">06:24 pm</span> on <span clas=\"date\">23 May 2020,Saturday</span>\\n    </div>\\n  </div>\\n  <div class=\"news-card-content news-right-box\">\\n    <div itemprop=\"articleBody\">Izumi Nakamitsu, UN disarmament chief, said there has been a 600% increase in malicious emails during COVID-19. She added that nearly 90 countries were still in the early stages of making commitments to cybersecurity. She also said growing digital dependency has increased vulnerability to cyberattacks. The threat from misusing information and communications technology is &#34;urgent&#34;, Nakamitsu said. </div>\\n    <div class=\"news-card-author-time news-card-author-time-in-content\">\\n      <a href=\"/prev/en/news/600-increase-in-malicious-emails-during-covid19-un-official-1590238472700\"><span class=\"short\">short</span></a> by <span class=\"author\">Aishwarya</span> / \\n      <span class=\"time\" itemprop=\"dateModified\" content=\"2020-05-23T12:54:32.000Z\" >06:24 pm</span> on <span class=\"date\">23 May</span>\\n    </div>\\n  </div>\\n  \\n\\n</div>\\n\\n  \\n</div>\\n\\n\\n\\n\\n<div class=\"\">\\n<div class=\"news-card z-depth-1\" itemscope itemtype=\"http://schema.org/NewsArticle\">\\n  <span content=\"\" itemscope itemprop=\"mainEntityOfPage\" itemType=\"https://schema.org/WebPage\" itemid=\"https://inshorts.com/en/news/ibm-confirms-staff-firings-amid-covid19-in-us-1590165705779\"></span>\\n  <span itemtype=\"https://schema.org/Person\" itemscope=\"itemscope\" itemprop=\"author\">\\n    <span itemprop=\"name\" content=\"Aishwarya\"></span>\\n  </span>\\n  <span itemprop=\"description\" content=\"IBM confirms staff firings amid COVID-19 in US\"></span>\\n  <span itemprop=\"image\" itemscope itemtype=\"https://schema.org/ImageObject\">\\n    <meta itemprop=\"url\" content=\"https://static.inshorts.com/inshorts/images/v1/variants/jpg/m/2020/05_may/22_fri/img_1590162289421_942.jpg?\"></meta>\\n    <meta itemprop=\"width\" content=\"864\"></meta>\\n    <meta itemprop=\"height\" content=\"483\"></meta>\\n  </span>\\n  <span itemtype=\"https://schema.org/Organization\" itemscope=\"itemscope\" itemprop=\"publisher\">\\n    <span itemprop=\"url\" content=\"https://inshorts.com/\"></span>\\n    <span itemprop=\"name\" content=\"Inshorts\"></span>\\n    <span itemprop=\"logo\" itemscope itemtype=\"https://schema.org/ImageObject\">\\n      <span itemprop=\"url\" content=\"https://assets.inshorts.com/inshorts/images/v1/variants/jpg/m/2018/11_nov/21_wed/img_1542823931298_497.jpg\"></span>\\n      <meta itemprop=\"width\" content=\"400\"></meta>\\n      <meta itemprop=\"height\" content=\"60\"></meta>\\n    </span>\\n  </span>\\n  <div class=\"news-card-image\" style= \"background-image: url(\\'https://static.inshorts.com/inshorts/images/v1/variants/jpg/m/2020/05_may/22_fri/img_1590162289421_942.jpg?\\')\">\\n  </div>\\n  <div class=\"news-card-title news-right-box\">\\n    <a class=\"clickable\" onclick=\"ga(\\'send\\', {\\'hitType\\': \\'event\\', \\'eventCategory\\': \\'TitleOfNews\\', \\'eventAction\\': \\'clicked\\', \\'eventLabel\\': \\'IBM%20confirms%20staff%20firings%20amid%20COVID-19%20in%20US)\\' });\"  style=\"color:#44444d!important\" href=\"/en/news/ibm-confirms-staff-firings-amid-covid19-in-us-1590165705779\">\\n      <span itemprop=\"headline\">IBM confirms staff firings amid COVID-19 in US</span>\\n    </a>\\n    <div class=\"news-card-author-time news-card-author-time-in-title\">\\n      <a href=\"/prev/en/news/ibm-confirms-staff-firings-amid-covid19-in-us-1590165705779\"><span class=\"short\">short</span></a> by <span class=\"author\">Aishwarya</span> / \\n      <span class=\"time\" itemprop=\"datePublished\" content=\"2020-05-22T16:41:45.000Z\">10:11 pm</span> on <span clas=\"date\">22 May 2020,Friday</span>\\n    </div>\\n  </div>\\n  <div class=\"news-card-content news-right-box\">\\n    <div itemprop=\"articleBody\">IBM has confirmed reports of it firing employees across US amid COVID-19 but it didn&#39;t specify the number of people being fired. However, media reports have suggested that the number of affected employees could be in thousands. The company will be offering subsidised medical coverage to its affected US employees through June 2021.</div>\\n    <div class=\"news-card-author-time news-card-author-time-in-content\">\\n      <a href=\"/prev/en/news/ibm-confirms-staff-firings-amid-covid19-in-us-1590165705779\"><span class=\"short\">short</span></a> by <span class=\"author\">Aishwarya</span> / \\n      <span class=\"time\" itemprop=\"dateModified\" content=\"2020-05-22T16:41:45.000Z\" >10:11 pm</span> on <span class=\"date\">22 May</span>\\n    </div>\\n  </div>\\n  \\n    <div class=\"news-card-footer news-right-box\">\\n      <div class=\"read-more\">read more at <a class=\"source\" onclick=\"ga(\\'send\\', {\\'hitType\\': \\'event\\', \\'eventCategory\\': \\'ReadMore\\', \\'eventAction\\': \\'clicked\\', \\'eventLabel\\': \\'TechCrunch\\' });\" target=\"_blank\" href=\"https://techcrunch.com/2020/05/22/ibm-confirms-layoffs-are-happening-but-wont-provide-details/?utm_campaign=fullarticle&amp;utm_medium=referral&amp;utm_source=inshorts \">TechCrunch</a></div>\\n    </div>\\n  \\n\\n</div>\\n\\n  \\n</div>\\n\\n\\n\\n\\n<div class=\"\">\\n<div class=\"news-card z-depth-1\" itemscope itemtype=\"http://schema.org/NewsArticle\">\\n  <span content=\"\" itemscope itemprop=\"mainEntityOfPage\" itemType=\"https://schema.org/WebPage\" itemid=\"https://inshorts.com/en/news/hackers-have-had-access-to-early-version-of-ios-14-since-feb-report-1590230061187\"></span>\\n  <span itemtype=\"https://schema.org/Person\" itemscope=\"itemscope\" itemprop=\"author\">\\n    <span itemprop=\"name\" content=\"Aishwarya\"></span>\\n  </span>\\n  <span itemprop=\"description\" content=\"Hackers have had access to early version of iOS 14 since Feb: Report\"></span>\\n  <span itemprop=\"image\" itemscope itemtype=\"https://schema.org/ImageObject\">\\n    <meta itemprop=\"url\" content=\"https://static.inshorts.com/inshorts/images/v1/variants/jpg/m/2020/05_may/23_sat/img_1590227885945_61.jpg?\"></meta>\\n    <meta itemprop=\"width\" content=\"864\"></meta>\\n    <meta itemprop=\"height\" content=\"483\"></meta>\\n  </span>\\n  <span itemtype=\"https://schema.org/Organization\" itemscope=\"itemscope\" itemprop=\"publisher\">\\n    <span itemprop=\"url\" content=\"https://inshorts.com/\"></span>\\n    <span itemprop=\"name\" content=\"Inshorts\"></span>\\n    <span itemprop=\"logo\" itemscope itemtype=\"https://schema.org/ImageObject\">\\n      <span itemprop=\"url\" content=\"https://assets.inshorts.com/inshorts/images/v1/variants/jpg/m/2018/11_nov/21_wed/img_1542823931298_497.jpg\"></span>\\n      <meta itemprop=\"width\" content=\"400\"></meta>\\n      <meta itemprop=\"height\" content=\"60\"></meta>\\n    </span>\\n  </span>\\n  <div class=\"news-card-image\" style= \"background-image: url(\\'https://static.inshorts.com/inshorts/images/v1/variants/jpg/m/2020/05_may/23_sat/img_1590227885945_61.jpg?\\')\">\\n  </div>\\n  <div class=\"news-card-title news-right-box\">\\n    <a class=\"clickable\" onclick=\"ga(\\'send\\', {\\'hitType\\': \\'event\\', \\'eventCategory\\': \\'TitleOfNews\\', \\'eventAction\\': \\'clicked\\', \\'eventLabel\\': \\'Hackers%20have%20had%20access%20to%20early%20version%20of%20iOS%2014%20since%20Feb%3A%20Report)\\' });\"  style=\"color:#44444d!important\" href=\"/en/news/hackers-have-had-access-to-early-version-of-ios-14-since-feb-report-1590230061187\">\\n      <span itemprop=\"headline\">Hackers have had access to early version of iOS 14 since Feb: Report</span>\\n    </a>\\n    <div class=\"news-card-author-time news-card-author-time-in-title\">\\n      <a href=\"/prev/en/news/hackers-have-had-access-to-early-version-of-ios-14-since-feb-report-1590230061187\"><span class=\"short\">short</span></a> by <span class=\"author\">Aishwarya</span> / \\n      <span class=\"time\" itemprop=\"datePublished\" content=\"2020-05-23T10:34:21.000Z\">04:04 pm</span> on <span clas=\"date\">23 May 2020,Saturday</span>\\n    </div>\\n  </div>\\n  <div class=\"news-card-content news-right-box\">\\n    <div itemprop=\"articleBody\">Security researchers, bloggers and hackers have had access to an early version of iOS 14 since &#34;at least February&#34;, Motherboard reported. The whole version was leaked because someone had reportedly obtained an iPhone 11 running a version of iOS 14 dated December 2019, intended only for Apple developers. The final iOS will &#34;almost certainly&#34; function differently than this early version.</div>\\n    <div class=\"news-card-author-time news-card-author-time-in-content\">\\n      <a href=\"/prev/en/news/hackers-have-had-access-to-early-version-of-ios-14-since-feb-report-1590230061187\"><span class=\"short\">short</span></a> by <span class=\"author\">Aishwarya</span> / \\n      <span class=\"time\" itemprop=\"dateModified\" content=\"2020-05-23T10:34:21.000Z\" >04:04 pm</span> on <span class=\"date\">23 May</span>\\n    </div>\\n  </div>\\n  \\n    <div class=\"news-card-footer news-right-box\">\\n      <div class=\"read-more\">read more at <a class=\"source\" onclick=\"ga(\\'send\\', {\\'hitType\\': \\'event\\', \\'eventCategory\\': \\'ReadMore\\', \\'eventAction\\': \\'clicked\\', \\'eventLabel\\': \\'Hindustan%20Times\\' });\" target=\"_blank\" href=\"https://tech.hindustantimes.com/tech/news/hackers-have-had-access-to-an-unreleased-ios-14-version-for-months-71590219621495.html?utm_campaign=fullarticle&amp;utm_medium=referral&amp;utm_source=inshorts \">Hindustan Times</a></div>\\n    </div>\\n  \\n\\n</div>\\n\\n  \\n</div>\\n\\n\\n\\n\\n<div class=\"\">\\n<div class=\"news-card z-depth-1\" itemscope itemtype=\"http://schema.org/NewsArticle\">\\n  <span content=\"\" itemscope itemprop=\"mainEntityOfPage\" itemType=\"https://schema.org/WebPage\" itemid=\"https://inshorts.com/en/news/ai-infers-peoples-personality-from-selfies-better-than-humans-study-1590171455236\"></span>\\n  <span itemtype=\"https://schema.org/Person\" itemscope=\"itemscope\" itemprop=\"author\">\\n    <span itemprop=\"name\" content=\"Aishwarya\"></span>\\n  </span>\\n  <span itemprop=\"description\" content=\"AI infers people&#39;s personality from selfies better than humans: Study\"></span>\\n  <span itemprop=\"image\" itemscope itemtype=\"https://schema.org/ImageObject\">\\n    <meta itemprop=\"url\" content=\"https://static.inshorts.com/inshorts/images/v1/variants/jpg/m/2020/05_may/22_fri/img_1590168915331_297.jpg?\"></meta>\\n    <meta itemprop=\"width\" content=\"864\"></meta>\\n    <meta itemprop=\"height\" content=\"483\"></meta>\\n  </span>\\n  <span itemtype=\"https://schema.org/Organization\" itemscope=\"itemscope\" itemprop=\"publisher\">\\n    <span itemprop=\"url\" content=\"https://inshorts.com/\"></span>\\n    <span itemprop=\"name\" content=\"Inshorts\"></span>\\n    <span itemprop=\"logo\" itemscope itemtype=\"https://schema.org/ImageObject\">\\n      <span itemprop=\"url\" content=\"https://assets.inshorts.com/inshorts/images/v1/variants/jpg/m/2018/11_nov/21_wed/img_1542823931298_497.jpg\"></span>\\n      <meta itemprop=\"width\" content=\"400\"></meta>\\n      <meta itemprop=\"height\" content=\"60\"></meta>\\n    </span>\\n  </span>\\n  <div class=\"news-card-image\" style= \"background-image: url(\\'https://static.inshorts.com/inshorts/images/v1/variants/jpg/m/2020/05_may/22_fri/img_1590168915331_297.jpg?\\')\">\\n  </div>\\n  <div class=\"news-card-title news-right-box\">\\n    <a class=\"clickable\" onclick=\"ga(\\'send\\', {\\'hitType\\': \\'event\\', \\'eventCategory\\': \\'TitleOfNews\\', \\'eventAction\\': \\'clicked\\', \\'eventLabel\\': \\'AI%20infers%20people&#39;s%20personality%20from%20selfies%20better%20than%20humans%3A%20Study)\\' });\"  style=\"color:#44444d!important\" href=\"/en/news/ai-infers-peoples-personality-from-selfies-better-than-humans-study-1590171455236\">\\n      <span itemprop=\"headline\">AI infers people&#39;s personality from selfies better than humans: Study</span>\\n    </a>\\n    <div class=\"news-card-author-time news-card-author-time-in-title\">\\n      <a href=\"/prev/en/news/ai-infers-peoples-personality-from-selfies-better-than-humans-study-1590171455236\"><span class=\"short\">short</span></a> by <span class=\"author\">Aishwarya</span> / \\n      <span class=\"time\" itemprop=\"datePublished\" content=\"2020-05-22T18:17:35.000Z\">11:47 pm</span> on <span clas=\"date\">22 May 2020,Friday</span>\\n    </div>\\n  </div>\\n  <div class=\"news-card-content news-right-box\">\\n    <div itemprop=\"articleBody\">A study in Scientific Reports claimed artificial intelligence is able to infer people&#39;s personality from selfies better than human raters. It said AI was able to make &#34;above-chance&#34; judgments about conscientiousness, neuroticism, extraversion, agreeableness and openness using selfies. Personality predictions based on female faces appeared to be more reliable than those for male faces, study added.</div>\\n    <div class=\"news-card-author-time news-card-author-time-in-content\">\\n      <a href=\"/prev/en/news/ai-infers-peoples-personality-from-selfies-better-than-humans-study-1590171455236\"><span class=\"short\">short</span></a> by <span class=\"author\">Aishwarya</span> / \\n      <span class=\"time\" itemprop=\"dateModified\" content=\"2020-05-22T18:17:35.000Z\" >11:47 pm</span> on <span class=\"date\">22 May</span>\\n    </div>\\n  </div>\\n  \\n    <div class=\"news-card-footer news-right-box\">\\n      <div class=\"read-more\">read more at <a class=\"source\" onclick=\"ga(\\'send\\', {\\'hitType\\': \\'event\\', \\'eventCategory\\': \\'ReadMore\\', \\'eventAction\\': \\'clicked\\', \\'eventLabel\\': \\'EurekAlert\\' });\" target=\"_blank\" href=\"https://www.eurekalert.org/pub_releases/2020-05/nruh-aic052020.php?utm_campaign=fullarticle&amp;utm_medium=referral&amp;utm_source=inshorts \">EurekAlert</a></div>\\n    </div>\\n  \\n\\n</div>\\n\\n  \\n</div>\\n\\n\\n\\n\\n<div class=\"\">\\n<div class=\"news-card z-depth-1\" itemscope itemtype=\"http://schema.org/NewsArticle\">\\n  <span content=\"\" itemscope itemprop=\"mainEntityOfPage\" itemType=\"https://schema.org/WebPage\" itemid=\"https://inshorts.com/en/news/apple-working-on-steve-jobs-heritage-edition-ar-glasses-report-1590256603415\"></span>\\n  <span itemtype=\"https://schema.org/Person\" itemscope=\"itemscope\" itemprop=\"author\">\\n    <span itemprop=\"name\" content=\"Aishwarya\"></span>\\n  </span>\\n  <span itemprop=\"description\" content=\"Apple working on &#39;Steve Jobs Heritage Edition&#39; AR glasses: Report\"></span>\\n  <span itemprop=\"image\" itemscope itemtype=\"https://schema.org/ImageObject\">\\n    <meta itemprop=\"url\" content=\"https://static.inshorts.com/inshorts/images/v1/variants/jpg/m/2020/05_may/23_sat/img_1590255321870_435.jpg?\"></meta>\\n    <meta itemprop=\"width\" content=\"864\"></meta>\\n    <meta itemprop=\"height\" content=\"483\"></meta>\\n  </span>\\n  <span itemtype=\"https://schema.org/Organization\" itemscope=\"itemscope\" itemprop=\"publisher\">\\n    <span itemprop=\"url\" content=\"https://inshorts.com/\"></span>\\n    <span itemprop=\"name\" content=\"Inshorts\"></span>\\n    <span itemprop=\"logo\" itemscope itemtype=\"https://schema.org/ImageObject\">\\n      <span itemprop=\"url\" content=\"https://assets.inshorts.com/inshorts/images/v1/variants/jpg/m/2018/11_nov/21_wed/img_1542823931298_497.jpg\"></span>\\n      <meta itemprop=\"width\" content=\"400\"></meta>\\n      <meta itemprop=\"height\" content=\"60\"></meta>\\n    </span>\\n  </span>\\n  <div class=\"news-card-image\" style= \"background-image: url(\\'https://static.inshorts.com/inshorts/images/v1/variants/jpg/m/2020/05_may/23_sat/img_1590255321870_435.jpg?\\')\">\\n  </div>\\n  <div class=\"news-card-title news-right-box\">\\n    <a class=\"clickable\" onclick=\"ga(\\'send\\', {\\'hitType\\': \\'event\\', \\'eventCategory\\': \\'TitleOfNews\\', \\'eventAction\\': \\'clicked\\', \\'eventLabel\\': \\'Apple%20working%20on%20&#39;Steve%20Jobs%20Heritage%20Edition&#39;%20AR%20glasses%3A%20Report)\\' });\"  style=\"color:#44444d!important\" href=\"/en/news/apple-working-on-steve-jobs-heritage-edition-ar-glasses-report-1590256603415\">\\n      <span itemprop=\"headline\">Apple working on &#39;Steve Jobs Heritage Edition&#39; AR glasses: Report</span>\\n    </a>\\n    <div class=\"news-card-author-time news-card-author-time-in-title\">\\n      <a href=\"/prev/en/news/apple-working-on-steve-jobs-heritage-edition-ar-glasses-report-1590256603415\"><span class=\"short\">short</span></a> by <span class=\"author\">Aishwarya</span> / \\n      <span class=\"time\" itemprop=\"datePublished\" content=\"2020-05-23T17:56:43.000Z\">11:26 pm</span> on <span clas=\"date\">23 May 2020,Saturday</span>\\n    </div>\\n  </div>\\n  <div class=\"news-card-content news-right-box\">\\n    <div itemprop=\"articleBody\">Apple is working on a &#34;Steve Jobs Heritage Edition&#34; of AR glasses, tech analyst Jon Prosser told Cult of Mac. The glasses would resemble Steve Jobs&#39; spectacles and would be round. Apple would position it as a special edition of the core AR glasses, much like the original $10,000 gold Apple Watch, the report added.</div>\\n    <div class=\"news-card-author-time news-card-author-time-in-content\">\\n      <a href=\"/prev/en/news/apple-working-on-steve-jobs-heritage-edition-ar-glasses-report-1590256603415\"><span class=\"short\">short</span></a> by <span class=\"author\">Aishwarya</span> / \\n      <span class=\"time\" itemprop=\"dateModified\" content=\"2020-05-23T17:56:43.000Z\" >11:26 pm</span> on <span class=\"date\">23 May</span>\\n    </div>\\n  </div>\\n  \\n    <div class=\"news-card-footer news-right-box\">\\n      <div class=\"read-more\">read more at <a class=\"source\" onclick=\"ga(\\'send\\', {\\'hitType\\': \\'event\\', \\'eventCategory\\': \\'ReadMore\\', \\'eventAction\\': \\'clicked\\', \\'eventLabel\\': \\'Hindustan%20Times\\' });\" target=\"_blank\" href=\"https://tech.hindustantimes.com/wearables/news/apple-glasses-steve-jobs-heritage-edition-in-the-works-71590244671200.html?utm_campaign=fullarticle&amp;utm_medium=referral&amp;utm_source=inshorts \">Hindustan Times</a></div>\\n    </div>\\n  \\n\\n</div>\\n\\n  \\n</div>\\n\\n\\n\\n\\n<div class=\"\">\\n<div class=\"news-card z-depth-1\" itemscope itemtype=\"http://schema.org/NewsArticle\">\\n  <span content=\"\" itemscope itemprop=\"mainEntityOfPage\" itemType=\"https://schema.org/WebPage\" itemid=\"https://inshorts.com/en/news/were-go-for-launch-next-week-nasa-on-crewed-mission-with-spacex-1590253603197\"></span>\\n  <span itemtype=\"https://schema.org/Person\" itemscope=\"itemscope\" itemprop=\"author\">\\n    <span itemprop=\"name\" content=\"Aishwarya\"></span>\\n  </span>\\n  <span itemprop=\"description\" content=\"We&#39;re &#39;go&#39; for launch next week: NASA on crewed mission with SpaceX\"></span>\\n  <span itemprop=\"image\" itemscope itemtype=\"https://schema.org/ImageObject\">\\n    <meta itemprop=\"url\" content=\"https://static.inshorts.com/inshorts/images/v1/variants/jpg/m/2020/05_may/23_sat/img_1590252304195_792.jpg?\"></meta>\\n    <meta itemprop=\"width\" content=\"864\"></meta>\\n    <meta itemprop=\"height\" content=\"483\"></meta>\\n  </span>\\n  <span itemtype=\"https://schema.org/Organization\" itemscope=\"itemscope\" itemprop=\"publisher\">\\n    <span itemprop=\"url\" content=\"https://inshorts.com/\"></span>\\n    <span itemprop=\"name\" content=\"Inshorts\"></span>\\n    <span itemprop=\"logo\" itemscope itemtype=\"https://schema.org/ImageObject\">\\n      <span itemprop=\"url\" content=\"https://assets.inshorts.com/inshorts/images/v1/variants/jpg/m/2018/11_nov/21_wed/img_1542823931298_497.jpg\"></span>\\n      <meta itemprop=\"width\" content=\"400\"></meta>\\n      <meta itemprop=\"height\" content=\"60\"></meta>\\n    </span>\\n  </span>\\n  <div class=\"news-card-image\" style= \"background-image: url(\\'https://static.inshorts.com/inshorts/images/v1/variants/jpg/m/2020/05_may/23_sat/img_1590252304195_792.jpg?\\')\">\\n  </div>\\n  <div class=\"news-card-title news-right-box\">\\n    <a class=\"clickable\" onclick=\"ga(\\'send\\', {\\'hitType\\': \\'event\\', \\'eventCategory\\': \\'TitleOfNews\\', \\'eventAction\\': \\'clicked\\', \\'eventLabel\\': \\'We&#39;re%20&#39;go&#39;%20for%20launch%20next%20week%3A%20NASA%20on%20crewed%20mission%20with%20SpaceX)\\' });\"  style=\"color:#44444d!important\" href=\"/en/news/were-go-for-launch-next-week-nasa-on-crewed-mission-with-spacex-1590253603197\">\\n      <span itemprop=\"headline\">We&#39;re &#39;go&#39; for launch next week: NASA on crewed mission with SpaceX</span>\\n    </a>\\n    <div class=\"news-card-author-time news-card-author-time-in-title\">\\n      <a href=\"/prev/en/news/were-go-for-launch-next-week-nasa-on-crewed-mission-with-spacex-1590253603197\"><span class=\"short\">short</span></a> by <span class=\"author\">Aishwarya</span> / \\n      <span class=\"time\" itemprop=\"datePublished\" content=\"2020-05-23T17:06:43.000Z\">10:36 pm</span> on <span clas=\"date\">23 May 2020,Saturday</span>\\n    </div>\\n  </div>\\n  <div class=\"news-card-content news-right-box\">\\n    <div itemprop=\"articleBody\">Talking about NASA&#39;s crewed mission with SpaceX, NASA Associate Administrator Steve Jurczyk has said they are &#34;go for launch&#34; next week. NASA astronauts Robert Behnken and Douglas Hurley will be flying in SpaceX&#39;s Crew Dragon to the International Space Station on May 27. This will be the first crewed flight to launch from the US since 2011.</div>\\n    <div class=\"news-card-author-time news-card-author-time-in-content\">\\n      <a href=\"/prev/en/news/were-go-for-launch-next-week-nasa-on-crewed-mission-with-spacex-1590253603197\"><span class=\"short\">short</span></a> by <span class=\"author\">Aishwarya</span> / \\n      <span class=\"time\" itemprop=\"dateModified\" content=\"2020-05-23T17:06:43.000Z\" >10:36 pm</span> on <span class=\"date\">23 May</span>\\n    </div>\\n  </div>\\n  \\n    <div class=\"news-card-footer news-right-box\">\\n      <div class=\"read-more\">read more at <a class=\"source\" onclick=\"ga(\\'send\\', {\\'hitType\\': \\'event\\', \\'eventCategory\\': \\'ReadMore\\', \\'eventAction\\': \\'clicked\\', \\'eventLabel\\': \\'Engadget\\' });\" target=\"_blank\" href=\"https://www.engadget.com/nasa-spacex-crew-dragon-demo-2-mission-022558757.html?utm_campaign=fullarticle&amp;utm_medium=referral&amp;utm_source=inshorts \">Engadget</a></div>\\n    </div>\\n  \\n\\n</div>\\n\\n  \\n</div>\\n\\n\\n\\n\\n  \\n    <div id=\\'div-gpt-ad-1536748319959-j1n17x7a-1\\' style=\\'height:250px; width:900px; margin: auto; margin-bottom: 2%;\\'>\\n      <script>\\n        googletag.cmd.push(function() { \\n          //News banner for desktop\\n          var slotIdWeb = \\'div-gpt-ad-1536748319959-j1n17x7a-1\\';\\n          var slot = googletag.defineSlot(\\'/142919096/inshorts_website_900x250\\', [900, 250], slotIdWeb)\\n          .addService(googletag.pubads())\\n          .setCollapseEmptyDiv(true,true);\\n\\n          googletag.display(\\'div-gpt-ad-1536748319959-j1n17x7a-1\\');\\n          googletag.pubads().refresh([slot]);\\n        });\\n      </script>\\n    </div>\\n  \\n\\n<div class=\"\">\\n<div class=\"news-card z-depth-1\" itemscope itemtype=\"http://schema.org/NewsArticle\">\\n  <span content=\"\" itemscope itemprop=\"mainEntityOfPage\" itemType=\"https://schema.org/WebPage\" itemid=\"https://inshorts.com/en/news/whatsapp-tests-feature-to-let-users-add-contacts-via-qr-codes-report-1590156493027\"></span>\\n  <span itemtype=\"https://schema.org/Person\" itemscope=\"itemscope\" itemprop=\"author\">\\n    <span itemprop=\"name\" content=\"Aishwarya\"></span>\\n  </span>\\n  <span itemprop=\"description\" content=\"WhatsApp tests feature to let users add contacts via QR codes: Report\"></span>\\n  <span itemprop=\"image\" itemscope itemtype=\"https://schema.org/ImageObject\">\\n    <meta itemprop=\"url\" content=\"https://static.inshorts.com/inshorts/images/v1/variants/jpg/m/2020/05_may/22_fri/img_1590152956706_290.jpg?\"></meta>\\n    <meta itemprop=\"width\" content=\"864\"></meta>\\n    <meta itemprop=\"height\" content=\"483\"></meta>\\n  </span>\\n  <span itemtype=\"https://schema.org/Organization\" itemscope=\"itemscope\" itemprop=\"publisher\">\\n    <span itemprop=\"url\" content=\"https://inshorts.com/\"></span>\\n    <span itemprop=\"name\" content=\"Inshorts\"></span>\\n    <span itemprop=\"logo\" itemscope itemtype=\"https://schema.org/ImageObject\">\\n      <span itemprop=\"url\" content=\"https://assets.inshorts.com/inshorts/images/v1/variants/jpg/m/2018/11_nov/21_wed/img_1542823931298_497.jpg\"></span>\\n      <meta itemprop=\"width\" content=\"400\"></meta>\\n      <meta itemprop=\"height\" content=\"60\"></meta>\\n    </span>\\n  </span>\\n  <div class=\"news-card-image\" style= \"background-image: url(\\'https://static.inshorts.com/inshorts/images/v1/variants/jpg/m/2020/05_may/22_fri/img_1590152956706_290.jpg?\\')\">\\n  </div>\\n  <div class=\"news-card-title news-right-box\">\\n    <a class=\"clickable\" onclick=\"ga(\\'send\\', {\\'hitType\\': \\'event\\', \\'eventCategory\\': \\'TitleOfNews\\', \\'eventAction\\': \\'clicked\\', \\'eventLabel\\': \\'WhatsApp%20tests%20feature%20to%20let%20users%20add%20contacts%20via%20QR%20codes%3A%20Report)\\' });\"  style=\"color:#44444d!important\" href=\"/en/news/whatsapp-tests-feature-to-let-users-add-contacts-via-qr-codes-report-1590156493027\">\\n      <span itemprop=\"headline\">WhatsApp tests feature to let users add contacts via QR codes: Report</span>\\n    </a>\\n    <div class=\"news-card-author-time news-card-author-time-in-title\">\\n      <a href=\"/prev/en/news/whatsapp-tests-feature-to-let-users-add-contacts-via-qr-codes-report-1590156493027\"><span class=\"short\">short</span></a> by <span class=\"author\">Aishwarya</span> / \\n      <span class=\"time\" itemprop=\"datePublished\" content=\"2020-05-22T14:08:13.000Z\">07:38 pm</span> on <span clas=\"date\">22 May 2020,Friday</span>\\n    </div>\\n  </div>\\n  <div class=\"news-card-content news-right-box\">\\n    <div itemprop=\"articleBody\">WhatsApp in its latest beta version is testing a feature which will allow users to add contacts through scanning QR codes, WABetaInfo reported. Beta testers will be able to see a small QR code on their settings page which can be used by another user to add them. The QR code can be reset by a user multiple times.</div>\\n    <div class=\"news-card-author-time news-card-author-time-in-content\">\\n      <a href=\"/prev/en/news/whatsapp-tests-feature-to-let-users-add-contacts-via-qr-codes-report-1590156493027\"><span class=\"short\">short</span></a> by <span class=\"author\">Aishwarya</span> / \\n      <span class=\"time\" itemprop=\"dateModified\" content=\"2020-05-22T14:08:13.000Z\" >07:38 pm</span> on <span class=\"date\">22 May</span>\\n    </div>\\n  </div>\\n  \\n    <div class=\"news-card-footer news-right-box\">\\n      <div class=\"read-more\">read more at <a class=\"source\" onclick=\"ga(\\'send\\', {\\'hitType\\': \\'event\\', \\'eventCategory\\': \\'ReadMore\\', \\'eventAction\\': \\'clicked\\', \\'eventLabel\\': \\'BGR%20India\\' });\" target=\"_blank\" href=\"https://www.bgr.in/news/whatsapp-gets-qr-code-support-for-android-beta-893564/?utm_campaign=fullarticle&amp;utm_medium=referral&amp;utm_source=inshorts \">BGR India</a></div>\\n    </div>\\n  \\n\\n</div>\\n\\n  \\n</div>\\n\\n\\n\\n\\n<div class=\"\">\\n<div class=\"news-card z-depth-1\" itemscope itemtype=\"http://schema.org/NewsArticle\">\\n  <span content=\"\" itemscope itemprop=\"mainEntityOfPage\" itemType=\"https://schema.org/WebPage\" itemid=\"https://inshorts.com/en/news/we-take-user-privacy-extremely-seriously-zoom-after-plea-to-ban-it-filed-in-sc-1590234143125\"></span>\\n  <span itemtype=\"https://schema.org/Person\" itemscope=\"itemscope\" itemprop=\"author\">\\n    <span itemprop=\"name\" content=\"Aishwarya\"></span>\\n  </span>\\n  <span itemprop=\"description\" content=\"We take user privacy extremely seriously: Zoom after plea to ban it filed in SC\"></span>\\n  <span itemprop=\"image\" itemscope itemtype=\"https://schema.org/ImageObject\">\\n    <meta itemprop=\"url\" content=\"https://static.inshorts.com/inshorts/images/v1/variants/jpg/m/2020/05_may/23_sat/img_1590230858585_591.jpg?\"></meta>\\n    <meta itemprop=\"width\" content=\"864\"></meta>\\n    <meta itemprop=\"height\" content=\"483\"></meta>\\n  </span>\\n  <span itemtype=\"https://schema.org/Organization\" itemscope=\"itemscope\" itemprop=\"publisher\">\\n    <span itemprop=\"url\" content=\"https://inshorts.com/\"></span>\\n    <span itemprop=\"name\" content=\"Inshorts\"></span>\\n    <span itemprop=\"logo\" itemscope itemtype=\"https://schema.org/ImageObject\">\\n      <span itemprop=\"url\" content=\"https://assets.inshorts.com/inshorts/images/v1/variants/jpg/m/2018/11_nov/21_wed/img_1542823931298_497.jpg\"></span>\\n      <meta itemprop=\"width\" content=\"400\"></meta>\\n      <meta itemprop=\"height\" content=\"60\"></meta>\\n    </span>\\n  </span>\\n  <div class=\"news-card-image\" style= \"background-image: url(\\'https://static.inshorts.com/inshorts/images/v1/variants/jpg/m/2020/05_may/23_sat/img_1590230858585_591.jpg?\\')\">\\n  </div>\\n  <div class=\"news-card-title news-right-box\">\\n    <a class=\"clickable\" onclick=\"ga(\\'send\\', {\\'hitType\\': \\'event\\', \\'eventCategory\\': \\'TitleOfNews\\', \\'eventAction\\': \\'clicked\\', \\'eventLabel\\': \\'We%20take%20user%20privacy%20extremely%20seriously%3A%20Zoom%20after%20plea%20to%20ban%20it%20filed%20in%20SC)\\' });\"  style=\"color:#44444d!important\" href=\"/en/news/we-take-user-privacy-extremely-seriously-zoom-after-plea-to-ban-it-filed-in-sc-1590234143125\">\\n      <span itemprop=\"headline\">We take user privacy extremely seriously: Zoom after plea to ban it filed in SC</span>\\n    </a>\\n    <div class=\"news-card-author-time news-card-author-time-in-title\">\\n      <a href=\"/prev/en/news/we-take-user-privacy-extremely-seriously-zoom-after-plea-to-ban-it-filed-in-sc-1590234143125\"><span class=\"short\">short</span></a> by <span class=\"author\">Aishwarya</span> / \\n      <span class=\"time\" itemprop=\"datePublished\" content=\"2020-05-23T11:42:23.000Z\">05:12 pm</span> on <span clas=\"date\">23 May 2020,Saturday</span>\\n    </div>\\n  </div>\\n  <div class=\"news-card-content news-right-box\">\\n    <div itemprop=\"articleBody\">After a plea for its ban was filed in Supreme Court, Zoom has said that it takes &#34;user privacy, security and trust extremely seriously&#34;. It added many global entities had &#34;confidently&#34; selected Zoom for complete deployment after &#34;exhaustive security reviews&#34;. The plea had raised privacy concerns on use Zoom saying it is &#34;making users vulnerable and prone to cyber threats&#34;.</div>\\n    <div class=\"news-card-author-time news-card-author-time-in-content\">\\n      <a href=\"/prev/en/news/we-take-user-privacy-extremely-seriously-zoom-after-plea-to-ban-it-filed-in-sc-1590234143125\"><span class=\"short\">short</span></a> by <span class=\"author\">Aishwarya</span> / \\n      <span class=\"time\" itemprop=\"dateModified\" content=\"2020-05-23T11:42:23.000Z\" >05:12 pm</span> on <span class=\"date\">23 May</span>\\n    </div>\\n  </div>\\n  \\n\\n</div>\\n\\n  \\n</div>\\n\\n\\n\\n\\n<div class=\"\">\\n<div class=\"news-card z-depth-1\" itemscope itemtype=\"http://schema.org/NewsArticle\">\\n  <span content=\"\" itemscope itemprop=\"mainEntityOfPage\" itemType=\"https://schema.org/WebPage\" itemid=\"https://inshorts.com/en/news/usbased-tech-firm-box-to-let-staff-work-remotely-till-jan-2021-1590255102917\"></span>\\n  <span itemtype=\"https://schema.org/Person\" itemscope=\"itemscope\" itemprop=\"author\">\\n    <span itemprop=\"name\" content=\"Aishwarya\"></span>\\n  </span>\\n  <span itemprop=\"description\" content=\"US-based tech firm Box to let staff work remotely till Jan 2021\"></span>\\n  <span itemprop=\"image\" itemscope itemtype=\"https://schema.org/ImageObject\">\\n    <meta itemprop=\"url\" content=\"https://static.inshorts.com/inshorts/images/v1/variants/jpg/m/2020/05_may/23_sat/img_1590252155541_965.jpg?\"></meta>\\n    <meta itemprop=\"width\" content=\"864\"></meta>\\n    <meta itemprop=\"height\" content=\"483\"></meta>\\n  </span>\\n  <span itemtype=\"https://schema.org/Organization\" itemscope=\"itemscope\" itemprop=\"publisher\">\\n    <span itemprop=\"url\" content=\"https://inshorts.com/\"></span>\\n    <span itemprop=\"name\" content=\"Inshorts\"></span>\\n    <span itemprop=\"logo\" itemscope itemtype=\"https://schema.org/ImageObject\">\\n      <span itemprop=\"url\" content=\"https://assets.inshorts.com/inshorts/images/v1/variants/jpg/m/2018/11_nov/21_wed/img_1542823931298_497.jpg\"></span>\\n      <meta itemprop=\"width\" content=\"400\"></meta>\\n      <meta itemprop=\"height\" content=\"60\"></meta>\\n    </span>\\n  </span>\\n  <div class=\"news-card-image\" style= \"background-image: url(\\'https://static.inshorts.com/inshorts/images/v1/variants/jpg/m/2020/05_may/23_sat/img_1590252155541_965.jpg?\\')\">\\n  </div>\\n  <div class=\"news-card-title news-right-box\">\\n    <a class=\"clickable\" onclick=\"ga(\\'send\\', {\\'hitType\\': \\'event\\', \\'eventCategory\\': \\'TitleOfNews\\', \\'eventAction\\': \\'clicked\\', \\'eventLabel\\': \\'US-based%20tech%20firm%20Box%20to%20let%20staff%20work%20remotely%20till%20Jan%202021)\\' });\"  style=\"color:#44444d!important\" href=\"/en/news/usbased-tech-firm-box-to-let-staff-work-remotely-till-jan-2021-1590255102917\">\\n      <span itemprop=\"headline\">US-based tech firm Box to let staff work remotely till Jan 2021</span>\\n    </a>\\n    <div class=\"news-card-author-time news-card-author-time-in-title\">\\n      <a href=\"/prev/en/news/usbased-tech-firm-box-to-let-staff-work-remotely-till-jan-2021-1590255102917\"><span class=\"short\">short</span></a> by <span class=\"author\">Aishwarya</span> / \\n      <span class=\"time\" itemprop=\"datePublished\" content=\"2020-05-23T17:31:42.000Z\">11:01 pm</span> on <span clas=\"date\">23 May 2020,Saturday</span>\\n    </div>\\n  </div>\\n  <div class=\"news-card-content news-right-box\">\\n    <div itemprop=\"articleBody\">Cloud storage provider Box CEO Aaron Levie has said that the company will let its employees work from &#34;anywhere&#34; through January 31, 2021 even when its offices reopen. However, he added that since many people prefer working from office the California-based firm&#39;s work setting would be a &#34;hybrid&#34; one. Box&#39;s all future weekly all-hands meetings will remain fully virtual.</div>\\n    <div class=\"news-card-author-time news-card-author-time-in-content\">\\n      <a href=\"/prev/en/news/usbased-tech-firm-box-to-let-staff-work-remotely-till-jan-2021-1590255102917\"><span class=\"short\">short</span></a> by <span class=\"author\">Aishwarya</span> / \\n      <span class=\"time\" itemprop=\"dateModified\" content=\"2020-05-23T17:31:42.000Z\" >11:01 pm</span> on <span class=\"date\">23 May</span>\\n    </div>\\n  </div>\\n  \\n    <div class=\"news-card-footer news-right-box\">\\n      <div class=\"read-more\">read more at <a class=\"source\" onclick=\"ga(\\'send\\', {\\'hitType\\': \\'event\\', \\'eventCategory\\': \\'ReadMore\\', \\'eventAction\\': \\'clicked\\', \\'eventLabel\\': \\'TechCrunch\\' });\" target=\"_blank\" href=\"https://techcrunch.com/2020/05/22/box-will-let-employees-work-from-home-until-at-least-2021/?utm_campaign=fullarticle&amp;utm_medium=referral&amp;utm_source=inshorts \">TechCrunch</a></div>\\n    </div>\\n  \\n\\n</div>\\n\\n  \\n</div>\\n\\n\\n\\n\\n<div class=\"\">\\n<div class=\"news-card z-depth-1\" itemscope itemtype=\"http://schema.org/NewsArticle\">\\n  <span content=\"\" itemscope itemprop=\"mainEntityOfPage\" itemType=\"https://schema.org/WebPage\" itemid=\"https://inshorts.com/en/news/twitter-says-disappearing-fleets-reported-less-often-than-tweets-1590227075335\"></span>\\n  <span itemtype=\"https://schema.org/Person\" itemscope=\"itemscope\" itemprop=\"author\">\\n    <span itemprop=\"name\" content=\"Aishwarya\"></span>\\n  </span>\\n  <span itemprop=\"description\" content=\"Twitter says disappearing &#39;Fleets&#39; reported less often than Tweets\"></span>\\n  <span itemprop=\"image\" itemscope itemtype=\"https://schema.org/ImageObject\">\\n    <meta itemprop=\"url\" content=\"https://static.inshorts.com/inshorts/images/v1/variants/jpg/m/2020/05_may/23_sat/img_1590224804864_331.jpg?\"></meta>\\n    <meta itemprop=\"width\" content=\"864\"></meta>\\n    <meta itemprop=\"height\" content=\"483\"></meta>\\n  </span>\\n  <span itemtype=\"https://schema.org/Organization\" itemscope=\"itemscope\" itemprop=\"publisher\">\\n    <span itemprop=\"url\" content=\"https://inshorts.com/\"></span>\\n    <span itemprop=\"name\" content=\"Inshorts\"></span>\\n    <span itemprop=\"logo\" itemscope itemtype=\"https://schema.org/ImageObject\">\\n      <span itemprop=\"url\" content=\"https://assets.inshorts.com/inshorts/images/v1/variants/jpg/m/2018/11_nov/21_wed/img_1542823931298_497.jpg\"></span>\\n      <meta itemprop=\"width\" content=\"400\"></meta>\\n      <meta itemprop=\"height\" content=\"60\"></meta>\\n    </span>\\n  </span>\\n  <div class=\"news-card-image\" style= \"background-image: url(\\'https://static.inshorts.com/inshorts/images/v1/variants/jpg/m/2020/05_may/23_sat/img_1590224804864_331.jpg?\\')\">\\n  </div>\\n  <div class=\"news-card-title news-right-box\">\\n    <a class=\"clickable\" onclick=\"ga(\\'send\\', {\\'hitType\\': \\'event\\', \\'eventCategory\\': \\'TitleOfNews\\', \\'eventAction\\': \\'clicked\\', \\'eventLabel\\': \\'Twitter%20says%20disappearing%20&#39;Fleets&#39;%20reported%20less%20often%20than%20Tweets)\\' });\"  style=\"color:#44444d!important\" href=\"/en/news/twitter-says-disappearing-fleets-reported-less-often-than-tweets-1590227075335\">\\n      <span itemprop=\"headline\">Twitter says disappearing &#39;Fleets&#39; reported less often than Tweets</span>\\n    </a>\\n    <div class=\"news-card-author-time news-card-author-time-in-title\">\\n      <a href=\"/prev/en/news/twitter-says-disappearing-fleets-reported-less-often-than-tweets-1590227075335\"><span class=\"short\">short</span></a> by <span class=\"author\">Aishwarya</span> / \\n      <span class=\"time\" itemprop=\"datePublished\" content=\"2020-05-23T09:44:35.000Z\">03:14 pm</span> on <span clas=\"date\">23 May 2020,Saturday</span>\\n    </div>\\n  </div>\\n  <div class=\"news-card-content news-right-box\">\\n    <div itemprop=\"articleBody\">Twitter has revealed it is seeing &#34;less abuse&#34; with its Stories-like disappearing &#39;Fleets&#39; as only a &#34;small percentage&#34; are reported each day. However, it added it was still &#34;very early&#34; for saying that. Twitter had started testing the feature in Brazil in March. Earlier this week, Twitter announced that it has expanded Fleets to Italy.</div>\\n    <div class=\"news-card-author-time news-card-author-time-in-content\">\\n      <a href=\"/prev/en/news/twitter-says-disappearing-fleets-reported-less-often-than-tweets-1590227075335\"><span class=\"short\">short</span></a> by <span class=\"author\">Aishwarya</span> / \\n      <span class=\"time\" itemprop=\"dateModified\" content=\"2020-05-23T09:44:35.000Z\" >03:14 pm</span> on <span class=\"date\">23 May</span>\\n    </div>\\n  </div>\\n  \\n    <div class=\"news-card-footer news-right-box\">\\n      <div class=\"read-more\">read more at <a class=\"source\" onclick=\"ga(\\'send\\', {\\'hitType\\': \\'event\\', \\'eventCategory\\': \\'ReadMore\\', \\'eventAction\\': \\'clicked\\', \\'eventLabel\\': \\'Engadget\\' });\" target=\"_blank\" href=\"https://www.engadget.com/twitter-fleets-expansion-abuse-222722129.html?utm_campaign=fullarticle&amp;utm_medium=referral&amp;utm_source=inshorts \">Engadget</a></div>\\n    </div>\\n  \\n\\n</div>\\n\\n  \\n</div>\\n\\n\\n\\n\\n<div class=\"\">\\n<div class=\"news-card z-depth-1\" itemscope itemtype=\"http://schema.org/NewsArticle\">\\n  <span content=\"\" itemscope itemprop=\"mainEntityOfPage\" itemType=\"https://schema.org/WebPage\" itemid=\"https://inshorts.com/en/news/stanford-uses-ai-satellite-images-to-track-poverty-levels-in-africa-1590245312433\"></span>\\n  <span itemtype=\"https://schema.org/Person\" itemscope=\"itemscope\" itemprop=\"author\">\\n    <span itemprop=\"name\" content=\"Aishwarya\"></span>\\n  </span>\\n  <span itemprop=\"description\" content=\"Stanford uses AI &amp; satellite images to track poverty levels in Africa\"></span>\\n  <span itemprop=\"image\" itemscope itemtype=\"https://schema.org/ImageObject\">\\n    <meta itemprop=\"url\" content=\"https://static.inshorts.com/inshorts/images/v1/variants/jpg/m/2020/05_may/23_sat/img_1590241753106_772.jpg?\"></meta>\\n    <meta itemprop=\"width\" content=\"864\"></meta>\\n    <meta itemprop=\"height\" content=\"483\"></meta>\\n  </span>\\n  <span itemtype=\"https://schema.org/Organization\" itemscope=\"itemscope\" itemprop=\"publisher\">\\n    <span itemprop=\"url\" content=\"https://inshorts.com/\"></span>\\n    <span itemprop=\"name\" content=\"Inshorts\"></span>\\n    <span itemprop=\"logo\" itemscope itemtype=\"https://schema.org/ImageObject\">\\n      <span itemprop=\"url\" content=\"https://assets.inshorts.com/inshorts/images/v1/variants/jpg/m/2018/11_nov/21_wed/img_1542823931298_497.jpg\"></span>\\n      <meta itemprop=\"width\" content=\"400\"></meta>\\n      <meta itemprop=\"height\" content=\"60\"></meta>\\n    </span>\\n  </span>\\n  <div class=\"news-card-image\" style= \"background-image: url(\\'https://static.inshorts.com/inshorts/images/v1/variants/jpg/m/2020/05_may/23_sat/img_1590241753106_772.jpg?\\')\">\\n  </div>\\n  <div class=\"news-card-title news-right-box\">\\n    <a class=\"clickable\" onclick=\"ga(\\'send\\', {\\'hitType\\': \\'event\\', \\'eventCategory\\': \\'TitleOfNews\\', \\'eventAction\\': \\'clicked\\', \\'eventLabel\\': \\'Stanford%20uses%20AI%20%26%20satellite%20images%20to%20track%20poverty%20levels%20in%20Africa)\\' });\"  style=\"color:#44444d!important\" href=\"/en/news/stanford-uses-ai-satellite-images-to-track-poverty-levels-in-africa-1590245312433\">\\n      <span itemprop=\"headline\">Stanford uses AI &amp; satellite images to track poverty levels in Africa</span>\\n    </a>\\n    <div class=\"news-card-author-time news-card-author-time-in-title\">\\n      <a href=\"/prev/en/news/stanford-uses-ai-satellite-images-to-track-poverty-levels-in-africa-1590245312433\"><span class=\"short\">short</span></a> by <span class=\"author\">Aishwarya</span> / \\n      <span class=\"time\" itemprop=\"datePublished\" content=\"2020-05-23T14:48:32.000Z\">08:18 pm</span> on <span clas=\"date\">23 May 2020,Saturday</span>\\n    </div>\\n  </div>\\n  <div class=\"news-card-content news-right-box\">\\n    <div itemprop=\"articleBody\">Stanford University researchers combined artificial intelligence and satellite images to track levels of poverty in Africa over time. Their tool searched for signs of development like roads, housing structures, waterways and lights turned on at night. Researchers tested the tool&#39;s accuracy for about 20,000 African villages that had existing asset wealth data from surveys, dating back to 2009.</div>\\n    <div class=\"news-card-author-time news-card-author-time-in-content\">\\n      <a href=\"/prev/en/news/stanford-uses-ai-satellite-images-to-track-poverty-levels-in-africa-1590245312433\"><span class=\"short\">short</span></a> by <span class=\"author\">Aishwarya</span> / \\n      <span class=\"time\" itemprop=\"dateModified\" content=\"2020-05-23T14:48:32.000Z\" >08:18 pm</span> on <span class=\"date\">23 May</span>\\n    </div>\\n  </div>\\n  \\n    <div class=\"news-card-footer news-right-box\">\\n      <div class=\"read-more\">read more at <a class=\"source\" onclick=\"ga(\\'send\\', {\\'hitType\\': \\'event\\', \\'eventCategory\\': \\'ReadMore\\', \\'eventAction\\': \\'clicked\\', \\'eventLabel\\': \\'The%20Next%20Web\\' });\" target=\"_blank\" href=\"https://thenextweb.com/neural/2020/05/22/stanford-uses-ai-scans-of-satellite-images-to-track-poverty-levels-over-time/?utm_campaign=fullarticle&amp;utm_medium=referral&amp;utm_source=inshorts \">The Next Web</a></div>\\n    </div>\\n  \\n\\n</div>\\n\\n  \\n</div>\\n\\n\\n\\n\\n<div class=\"\">\\n<div class=\"news-card z-depth-1\" itemscope itemtype=\"http://schema.org/NewsArticle\">\\n  <span content=\"\" itemscope itemprop=\"mainEntityOfPage\" itemType=\"https://schema.org/WebPage\" itemid=\"https://inshorts.com/en/news/google-launches-action-blocks-app-for-people-with-cognitive-disability-1590161207605\"></span>\\n  <span itemtype=\"https://schema.org/Person\" itemscope=\"itemscope\" itemprop=\"author\">\\n    <span itemprop=\"name\" content=\"Aishwarya\"></span>\\n  </span>\\n  <span itemprop=\"description\" content=\"Google launches Action Blocks app for people with cognitive disability\"></span>\\n  <span itemprop=\"image\" itemscope itemtype=\"https://schema.org/ImageObject\">\\n    <meta itemprop=\"url\" content=\"https://static.inshorts.com/inshorts/images/v1/variants/jpg/m/2020/05_may/22_fri/img_1590160944552_657.jpg?\"></meta>\\n    <meta itemprop=\"width\" content=\"864\"></meta>\\n    <meta itemprop=\"height\" content=\"483\"></meta>\\n  </span>\\n  <span itemtype=\"https://schema.org/Organization\" itemscope=\"itemscope\" itemprop=\"publisher\">\\n    <span itemprop=\"url\" content=\"https://inshorts.com/\"></span>\\n    <span itemprop=\"name\" content=\"Inshorts\"></span>\\n    <span itemprop=\"logo\" itemscope itemtype=\"https://schema.org/ImageObject\">\\n      <span itemprop=\"url\" content=\"https://assets.inshorts.com/inshorts/images/v1/variants/jpg/m/2018/11_nov/21_wed/img_1542823931298_497.jpg\"></span>\\n      <meta itemprop=\"width\" content=\"400\"></meta>\\n      <meta itemprop=\"height\" content=\"60\"></meta>\\n    </span>\\n  </span>\\n  <div class=\"news-card-image\" style= \"background-image: url(\\'https://static.inshorts.com/inshorts/images/v1/variants/jpg/m/2020/05_may/22_fri/img_1590160944552_657.jpg?\\')\">\\n  </div>\\n  <div class=\"news-card-title news-right-box\">\\n    <a class=\"clickable\" onclick=\"ga(\\'send\\', {\\'hitType\\': \\'event\\', \\'eventCategory\\': \\'TitleOfNews\\', \\'eventAction\\': \\'clicked\\', \\'eventLabel\\': \\'Google%20launches%20Action%20Blocks%20app%20for%20people%20with%20cognitive%20disability)\\' });\"  style=\"color:#44444d!important\" href=\"/en/news/google-launches-action-blocks-app-for-people-with-cognitive-disability-1590161207605\">\\n      <span itemprop=\"headline\">Google launches Action Blocks app for people with cognitive disability</span>\\n    </a>\\n    <div class=\"news-card-author-time news-card-author-time-in-title\">\\n      <a href=\"/prev/en/news/google-launches-action-blocks-app-for-people-with-cognitive-disability-1590161207605\"><span class=\"short\">short</span></a> by <span class=\"author\">Aishwarya</span> / \\n      <span class=\"time\" itemprop=\"datePublished\" content=\"2020-05-22T15:26:47.000Z\">08:56 pm</span> on <span clas=\"date\">22 May 2020,Friday</span>\\n    </div>\\n  </div>\\n  <div class=\"news-card-content news-right-box\">\\n    <div itemprop=\"articleBody\">Google has released an app, Action Blocks, especially for people with cognitive disabilities that will help them perform actions with just a tap. The app will help people make blocks for everyday tasks like calling someone, watching movies or turning off the lights, on the home screen. The blocks can be tapped to make Google Assistant to do the tasks.</div>\\n    <div class=\"news-card-author-time news-card-author-time-in-content\">\\n      <a href=\"/prev/en/news/google-launches-action-blocks-app-for-people-with-cognitive-disability-1590161207605\"><span class=\"short\">short</span></a> by <span class=\"author\">Aishwarya</span> / \\n      <span class=\"time\" itemprop=\"dateModified\" content=\"2020-05-22T15:26:47.000Z\" >08:56 pm</span> on <span class=\"date\">22 May</span>\\n    </div>\\n  </div>\\n  \\n    <div class=\"news-card-footer news-right-box\">\\n      <div class=\"read-more\">read more at <a class=\"source\" onclick=\"ga(\\'send\\', {\\'hitType\\': \\'event\\', \\'eventCategory\\': \\'ReadMore\\', \\'eventAction\\': \\'clicked\\', \\'eventLabel\\': \\'BGR%20India\\' });\" target=\"_blank\" href=\"https://www.bgr.in/news/google-launches-action-blocks-app-to-help-people-with-cognitive-problems-893587/?utm_campaign=fullarticle&amp;utm_medium=referral&amp;utm_source=inshorts \">BGR India</a></div>\\n    </div>\\n  \\n\\n</div>\\n\\n  \\n</div>\\n\\n\\n\\n\\n  \\n    <div id=\\'div-gpt-ad-1536748319959-owh3uopl-1\\' style=\\'height:250px; width:900px; margin: auto; margin-bottom: 2%;\\'>\\n      <script>\\n        googletag.cmd.push(function() { \\n          //News banner for desktop\\n          var slotIdWeb = \\'div-gpt-ad-1536748319959-owh3uopl-1\\';\\n          var slot = googletag.defineSlot(\\'/142919096/inshorts_website_900x250\\', [900, 250], slotIdWeb)\\n          .addService(googletag.pubads())\\n          .setCollapseEmptyDiv(true,true);\\n\\n          googletag.display(\\'div-gpt-ad-1536748319959-owh3uopl-1\\');\\n          googletag.pubads().refresh([slot]);\\n        });\\n      </script>\\n    </div>\\n  \\n\\n<div class=\"\">\\n<div class=\"news-card z-depth-1\" itemscope itemtype=\"http://schema.org/NewsArticle\">\\n  <span content=\"\" itemscope itemprop=\"mainEntityOfPage\" itemType=\"https://schema.org/WebPage\" itemid=\"https://inshorts.com/en/news/instagram-gets-messenger-rooms-integration-for-group-video-calls-1590161141018\"></span>\\n  <span itemtype=\"https://schema.org/Person\" itemscope=\"itemscope\" itemprop=\"author\">\\n    <span itemprop=\"name\" content=\"Aishwarya\"></span>\\n  </span>\\n  <span itemprop=\"description\" content=\"Instagram gets Messenger Rooms integration for group video calls\"></span>\\n  <span itemprop=\"image\" itemscope itemtype=\"https://schema.org/ImageObject\">\\n    <meta itemprop=\"url\" content=\"https://static.inshorts.com/inshorts/images/v1/variants/jpg/m/2020/05_may/22_fri/img_1590158902400_77.jpg?\"></meta>\\n    <meta itemprop=\"width\" content=\"864\"></meta>\\n    <meta itemprop=\"height\" content=\"483\"></meta>\\n  </span>\\n  <span itemtype=\"https://schema.org/Organization\" itemscope=\"itemscope\" itemprop=\"publisher\">\\n    <span itemprop=\"url\" content=\"https://inshorts.com/\"></span>\\n    <span itemprop=\"name\" content=\"Inshorts\"></span>\\n    <span itemprop=\"logo\" itemscope itemtype=\"https://schema.org/ImageObject\">\\n      <span itemprop=\"url\" content=\"https://assets.inshorts.com/inshorts/images/v1/variants/jpg/m/2018/11_nov/21_wed/img_1542823931298_497.jpg\"></span>\\n      <meta itemprop=\"width\" content=\"400\"></meta>\\n      <meta itemprop=\"height\" content=\"60\"></meta>\\n    </span>\\n  </span>\\n  <div class=\"news-card-image\" style= \"background-image: url(\\'https://static.inshorts.com/inshorts/images/v1/variants/jpg/m/2020/05_may/22_fri/img_1590158902400_77.jpg?\\')\">\\n  </div>\\n  <div class=\"news-card-title news-right-box\">\\n    <a class=\"clickable\" onclick=\"ga(\\'send\\', {\\'hitType\\': \\'event\\', \\'eventCategory\\': \\'TitleOfNews\\', \\'eventAction\\': \\'clicked\\', \\'eventLabel\\': \\'Instagram%20gets%20Messenger%20Rooms%20integration%20for%20group%20video%20calls)\\' });\"  style=\"color:#44444d!important\" href=\"/en/news/instagram-gets-messenger-rooms-integration-for-group-video-calls-1590161141018\">\\n      <span itemprop=\"headline\">Instagram gets Messenger Rooms integration for group video calls</span>\\n    </a>\\n    <div class=\"news-card-author-time news-card-author-time-in-title\">\\n      <a href=\"/prev/en/news/instagram-gets-messenger-rooms-integration-for-group-video-calls-1590161141018\"><span class=\"short\">short</span></a> by <span class=\"author\">Aishwarya</span> / \\n      <span class=\"time\" itemprop=\"datePublished\" content=\"2020-05-22T15:25:41.000Z\">08:55 pm</span> on <span clas=\"date\">22 May 2020,Friday</span>\\n    </div>\\n  </div>\\n  <div class=\"news-card-content news-right-box\">\\n    <div itemprop=\"articleBody\">Instagram users will now have the option to create Messenger Rooms and invite friends to join right from the app. Users will be able to create Rooms through the Direct Messages section. Messenger Rooms is Facebook&#39;s video-conferencing tool that allows up to 50 participants with no time limit. WhatsApp will also be getting a Rooms shortcut. </div>\\n    <div class=\"news-card-author-time news-card-author-time-in-content\">\\n      <a href=\"/prev/en/news/instagram-gets-messenger-rooms-integration-for-group-video-calls-1590161141018\"><span class=\"short\">short</span></a> by <span class=\"author\">Aishwarya</span> / \\n      <span class=\"time\" itemprop=\"dateModified\" content=\"2020-05-22T15:25:41.000Z\" >08:55 pm</span> on <span class=\"date\">22 May</span>\\n    </div>\\n  </div>\\n  \\n    <div class=\"news-card-footer news-right-box\">\\n      <div class=\"read-more\">read more at <a class=\"source\" onclick=\"ga(\\'send\\', {\\'hitType\\': \\'event\\', \\'eventCategory\\': \\'ReadMore\\', \\'eventAction\\': \\'clicked\\', \\'eventLabel\\': \\'Hindustan%20Times\\' });\" target=\"_blank\" href=\"https://tech.hindustantimes.com/tech/news/messenger-rooms-shortcut-now-available-on-instagram-71590153745320.html?utm_campaign=fullarticle&amp;utm_medium=referral&amp;utm_source=inshorts \">Hindustan Times</a></div>\\n    </div>\\n  \\n\\n</div>\\n\\n  \\n</div>\\n\\n\\n\\n\\n<div class=\"\">\\n<div class=\"news-card z-depth-1\" itemscope itemtype=\"http://schema.org/NewsArticle\">\\n  <span content=\"\" itemscope itemprop=\"mainEntityOfPage\" itemType=\"https://schema.org/WebPage\" itemid=\"https://inshorts.com/en/news/iit-guwahati-develops-ways-to-prevent-memory-loss-due-to-alzheimers-1590169476510\"></span>\\n  <span itemtype=\"https://schema.org/Person\" itemscope=\"itemscope\" itemprop=\"author\">\\n    <span itemprop=\"name\" content=\"Aishwarya\"></span>\\n  </span>\\n  <span itemprop=\"description\" content=\"IIT Guwahati develops ways to &#39;prevent&#39; memory loss due to Alzheimer&#39;s\"></span>\\n  <span itemprop=\"image\" itemscope itemtype=\"https://schema.org/ImageObject\">\\n    <meta itemprop=\"url\" content=\"https://static.inshorts.com/inshorts/images/v1/variants/jpg/m/2020/05_may/22_fri/img_1590167749574_524.jpg?\"></meta>\\n    <meta itemprop=\"width\" content=\"864\"></meta>\\n    <meta itemprop=\"height\" content=\"483\"></meta>\\n  </span>\\n  <span itemtype=\"https://schema.org/Organization\" itemscope=\"itemscope\" itemprop=\"publisher\">\\n    <span itemprop=\"url\" content=\"https://inshorts.com/\"></span>\\n    <span itemprop=\"name\" content=\"Inshorts\"></span>\\n    <span itemprop=\"logo\" itemscope itemtype=\"https://schema.org/ImageObject\">\\n      <span itemprop=\"url\" content=\"https://assets.inshorts.com/inshorts/images/v1/variants/jpg/m/2018/11_nov/21_wed/img_1542823931298_497.jpg\"></span>\\n      <meta itemprop=\"width\" content=\"400\"></meta>\\n      <meta itemprop=\"height\" content=\"60\"></meta>\\n    </span>\\n  </span>\\n  <div class=\"news-card-image\" style= \"background-image: url(\\'https://static.inshorts.com/inshorts/images/v1/variants/jpg/m/2020/05_may/22_fri/img_1590167749574_524.jpg?\\')\">\\n  </div>\\n  <div class=\"news-card-title news-right-box\">\\n    <a class=\"clickable\" onclick=\"ga(\\'send\\', {\\'hitType\\': \\'event\\', \\'eventCategory\\': \\'TitleOfNews\\', \\'eventAction\\': \\'clicked\\', \\'eventLabel\\': \\'IIT%20Guwahati%20develops%20ways%20to%20&#39;prevent&#39;%20memory%20loss%20due%20to%20Alzheimer&#39;s)\\' });\"  style=\"color:#44444d!important\" href=\"/en/news/iit-guwahati-develops-ways-to-prevent-memory-loss-due-to-alzheimers-1590169476510\">\\n      <span itemprop=\"headline\">IIT Guwahati develops ways to &#39;prevent&#39; memory loss due to Alzheimer&#39;s</span>\\n    </a>\\n    <div class=\"news-card-author-time news-card-author-time-in-title\">\\n      <a href=\"/prev/en/news/iit-guwahati-develops-ways-to-prevent-memory-loss-due-to-alzheimers-1590169476510\"><span class=\"short\">short</span></a> by <span class=\"author\">Aishwarya</span> / \\n      <span class=\"time\" itemprop=\"datePublished\" content=\"2020-05-22T17:44:36.000Z\">11:14 pm</span> on <span clas=\"date\">22 May 2020,Friday</span>\\n    </div>\\n  </div>\\n  <div class=\"news-card-content news-right-box\">\\n    <div itemprop=\"articleBody\">IIT Guwahati researchers have claimed to have found ways to prevent or reduce memory loss associated with Alzheimer&#39;s disease. They studied neurochemical principles of Alzheimer&#39;s to explore ways to prevent accumulation of neurotoxic molecules in brain. One of the methods is application of a low-voltage electric field toward preventing amyloid plaques from aggregating to cause memory loss.</div>\\n    <div class=\"news-card-author-time news-card-author-time-in-content\">\\n      <a href=\"/prev/en/news/iit-guwahati-develops-ways-to-prevent-memory-loss-due-to-alzheimers-1590169476510\"><span class=\"short\">short</span></a> by <span class=\"author\">Aishwarya</span> / \\n      <span class=\"time\" itemprop=\"dateModified\" content=\"2020-05-22T17:44:36.000Z\" >11:14 pm</span> on <span class=\"date\">22 May</span>\\n    </div>\\n  </div>\\n  \\n    <div class=\"news-card-footer news-right-box\">\\n      <div class=\"read-more\">read more at <a class=\"source\" onclick=\"ga(\\'send\\', {\\'hitType\\': \\'event\\', \\'eventCategory\\': \\'ReadMore\\', \\'eventAction\\': \\'clicked\\', \\'eventLabel\\': \\'The%20New%20Indian%20Express\\' });\" target=\"_blank\" href=\"https://www.newindianexpress.com/lifestyle/health/2020/may/20/iit-guwahati-researchers-develop-ways-to-prevent-memory-loss-due-to-alzheimers-disease-2145789.html?utm_campaign=fullarticle&amp;utm_medium=referral&amp;utm_source=inshorts \">The New Indian Express</a></div>\\n    </div>\\n  \\n\\n</div>\\n\\n  \\n</div>\\n\\n      </div>\\n      \\n      \\n      <div class=\"load-more-wrapper\">\\n        <div id=\"load-more-btn\" onclick=\"loadMoreNews()\" class=\"clickable unselectable load-more z-depth-1 hoverable\">Load More</div>\\n        <div id=\"load-more-gif\" style=\"display:none;\" class=\"clickable unselectable load-more\"><img id=\"load-more-gif\" src=\"https://assets.inshorts.com/website_assets/images/ajax-loader.gif\"/></div>\\n      </div>\\n      \\n\\n      \\n      <div class=\"my-red app-download-pane  hide-on-large-only\">\\n        <div class=\"container\">\\n          <div class=\"row\">\\n            <div class=\"col s12 center\" style=\"color:white;font-weight: 300;font-size:14px;margin-top: 28px;margin-bottom: 18px;\">\\n              For the best experience use <a target=\"_blank\" href=\"/mobile\" style=\"color:white;appearance: none;font-weight: 500;\">inshorts</a> app on your smartphone\\n            </div>\\n            \\n            \\n          </div>\\n        </div>\\n      </div>\\n      \\n\\n    </div>\\n  </div>\\n  <!-- BODY END -->\\n  <footer class=\"page-footer teals\"> \\n  <div class=\"container\">\\n    <div class=\"row\" style=\"margin-bottom: 0px; padding-bottom: 5px;\">\\n\\n      <div class=\"col offset-l3 l3 m4 s12 right social-admin\">\\n        <div class=\"social-share\"><a onclick=\"ga(\\'send\\', {\\'hitType\\': \\'event\\', \\'eventCategory\\': \\'LinkToFaceBookPage\\', \\'eventAction\\': \\'clicked\\', \\'eventLabel\\': \\'RedirectedToFaceBook\\' });\" target=\"_blank\" href=\"https://www.facebook.com/inshortsapp\"><img src=\"https://assets.inshorts.com/website_assets/images/facebook.png\"/></a></div>\\n        <div class=\"social-share\"><a onclick=\"ga(\\'send\\', {\\'hitType\\': \\'event\\', \\'eventCategory\\': \\'LinkToTwitterPage\\', \\'eventAction\\': \\'clicked\\', \\'eventLabel\\': \\'RedirectedToTwitter\\' });\" target=\"_blank\" href=\"https://twitter.com/inshorts\"><img src=\"https://assets.inshorts.com/website_assets/images/twitter.png\"/></a></div>\\n        <div class=\"social-share\"><a onclick=\"ga(\\'send\\', {\\'hitType\\': \\'event\\', \\'eventCategory\\': \\'LinkToLinkedinPage\\', \\'eventAction\\': \\'clicked\\', \\'eventLabel\\': \\'RedirectedToLinkedin\\' });\" target=\"_blank\" href=\"https://www.linkedin.com/company/news-in-shorts\"><img src=\"https://assets.inshorts.com/website_assets/images/linkedin.png\"/></a></div>\\n      </div>\\n\\n\\n      <div class=\"col m4 l3 s6 footer-left-pane\">\\n        <div class=\"right\"><img width=\"160px\" height=\"48px\" src=\"https://assets.inshorts.com/website_assets/images/logo_footer.png\"/></div>\\n\\n        <div class=\"copy-text\" >\\n          <span><span style=\"color:#cfcfcf;font-family: \\'Conv_ClanPro-Bold\\'\">inshorts</span> medialabs pvt. ltd.</span><br/>\\n          &copy;<span style=\"font-size:12px\">COPYRIGHT 2019</span>\\n        </div>\\n      </div>\\n      <div class=\"col m4 l3 s6 footer-right-pane\">\\n        <div id=\"contactUsBtn\" class=\"left clickable\" style=\"margin-top: -5px;\"><img width=\"132px\" height=\"48px\" src=\"https://assets.inshorts.com/website_assets/images/contact_icon.png\"/></div>              \\n        <div class=\"terms-text\">\\n          <a class=\"tnc\" style=\"color: #fff;\" onclick=\"ga(\\'send\\', {\\'hitType\\': \\'event\\', \\'eventCategory\\': \\'LinkToTermsAndConditionsAndPP\\', \\'eventAction\\': \\'clicked\\', \\'eventLabel\\': \\'RedirectedToTermsAndConditions\\' });\" target=\"_blank\" href=\"/tnc\"><span>Terms &amp; conditions</span><br/>\\n          <span>Privacy Policies</span>\\n          </a>\\n          <br/>\\n          <a class=\"tnc\" style=\"color: #fff;\" onclick=\"ga(\\'send\\', {\\'hitType\\': \\'event\\', \\'eventCategory\\': \\'LinkToSitemap\\', \\'eventAction\\': \\'clicked\\', \\'eventLabel\\': \\'RedirectedToSitemap\\' });\" target=\"_blank\" href=\"/editorial_policy\">\\n          <span>Editorial Policy</span>\\n          </a>\\n        </div>\\n      </div>\\n    </div>\\n  </div>\\n  <div id=\"contactUsModal\" class=\"modal_contact row\">\\n    <!-- Modal content -->\\n      <div class=\"modal-content col l4 m4 s8 offset-s2 offset-l4 offset-m4\">\\n        <span class=\"close\">&times;</span>\\n        <div class=\"contact\">\\n          <a target=\"_blank\" href=\"mailto:careers@inshorts.com?subject=Inshorts%20website%20contact%20form\">\\n            <button id=\"myBtn\">Contact Hiring Team</button>\\n          </a>\\n        </div>\\n        <div class=\"contact\">\\n          <a target=\"_blank\" href=\"mailto:Admin@inshorts.com?subject=Inshorts%20website%20contact%20form\">\\n            <button id=\"myBtn\">Contact Admin Team</button>\\n          </a>\\n        </div>\\n        <div class=\"contact\">\\n          <a target=\"_blank\" href=\"mailto:Marketing@inshorts.com?subject=Inshorts%20website%20contact%20form\">\\n            <button id=\"myBtn\">Contact Marketing Team</button>\\n          </a>\\n        </div>\\n        <div class=\"contact\">\\n          <a target=\"_blank\" href=\"mailto:Editorial@inshorts.com?subject=Inshorts%20website%20contact%20form\">\\n            <button id=\"myBtn\">Contact Editorial Team</button>\\n          </a>\\n        </div>\\n        <div class=\"contact\">\\n          <a target=\"_blank\" href=\"mailto:Sales@inshorts.com?subject=Inshorts%20website%20contact%20form\">\\n            <button id=\"myBtn\">Contact Sales Team</button>\\n          </a>\\n        </div>\\n        <div class=\"contact\">\\n          <a target=\"_blank\" href=\"mailto:Contact@inshorts.com?subject=Inshorts%20website%20contact%20form\">\\n            <button id=\"myBtn\">Contact For Any Other Query</button>\\n          </a>\\n        </div>\\n      </div>\\n  </div>\\n</footer>\\n<script>\\nvar modal = document.getElementById(\\'contactUsModal\\');\\n\\n// Get the button that opens the modal\\nvar btn = document.getElementById(\"contactUsBtn\");\\n\\n// Get the <span> element that closes the modal\\nvar span = document.getElementsByClassName(\"close\")[0];\\n\\n// When the user clicks on the button, open the modal \\nbtn.onclick = function() {\\n    modal.style.display = \"block\";\\n}\\n\\n// When the user clicks on <span> (x), close the modal\\nspan.onclick = function() {\\n    modal.style.display = \"none\";\\n}\\n\\n// When the user clicks anywhere outside of the modal, close it\\nwindow.onclick = function(event) {\\n    if (event.target == modal) {\\n        modal.style.display = \"none\";\\n    }\\n}\\n</script>\\n\\n\\n  <!-- Eliminate render-blocking JavaScript and CSS in above-the-fold content -->\\n  <script src=\"https://ajax.googleapis.com/ajax/libs/jquery/1.8/jquery.min.js\"></script>\\n  <script src=\"https://cdnjs.cloudflare.com/ajax/libs/materialize/0.97.0/js/materialize.min.js\"></script>\\n  \\n  <script type=\"text/javascript\" src=\"/dist/scripts/index.js\"></script>\\n  <script type=\"text/javascript\" src=\"/dist/scripts/read.js\"></script>\\n  <script src=\"/dist/scripts/jquery.scrolldepth.min.js\"></script>\\n  <script type=\"text/javascript\">\\n\\n    var min_news_id = \"zyv8wges-1\";\\n    function loadMoreNews(){\\n      $(\"#load-more-btn\").hide();\\n      $(\"#load-more-gif\").show();\\n      $.post(\"/en/ajax/more_news\",{\\'category\\':\\'technology\\',\\'news_offset\\':min_news_id},function(data){\\n          data = JSON.parse(data);\\n          min_news_id = data.min_news_id||min_news_id;\\n          $(\".card-stack\").append(data.html);\\n      })\\n      .fail(function(){alert(\"Error : unable to load more news\");})\\n      .always(function(){$(\"#load-more-btn\").show();$(\"#load-more-gif\").hide();});\\n    }\\n    jQuery.scrollDepth();\\n  </script>\\n\\n  <!-- Eliminate render-blocking JavaScript and CSS in above-the-fold content -->\\n\\n</body>\\n</html>\\n'"
      ]
     },
     "execution_count": 13,
     "metadata": {},
     "output_type": "execute_result"
    }
   ],
   "source": [
    "data = requests.get(url)\n",
    "data.content"
   ]
  },
  {
   "cell_type": "code",
   "execution_count": 7,
   "metadata": {},
   "outputs": [],
   "source": [
    "soup = BeautifulSoup(data.content, 'html.parser')"
   ]
  },
  {
   "cell_type": "code",
   "execution_count": 21,
   "metadata": {},
   "outputs": [],
   "source": [
    "news_articles = [{'news_headline': headline.find('span',attrs={'itemprop':'headline'}).string,\n",
    "                 'news_article': article.find('div', attrs={'itemprop':'articleBody'}).string,\n",
    "                 'news_category': news_category}\n",
    "                for headline, article in zip(soup.find_all('div',class_=['news-card-title news-right-box']), soup.find_all('div',\n",
    "                    class_=['news-card-content news-right-box']))]\n"
   ]
  },
  {
   "cell_type": "code",
   "execution_count": 22,
   "metadata": {},
   "outputs": [
    {
     "data": {
      "text/plain": [
       "[{'news_headline': \"Aarogya Setu doesn't give out loud siren near COVID-19 patients: Govt\",\n",
       "  'news_article': \"The government has clarified that its Aarogya Setu app doesn't give out a loud siren when a COVID-19 patient approaches a user. It added that Aarogya Setu does not have an in-built siren but it gives out alerts. The coronavirus contact-tracing app Aarogya Setu had crossed 10 crore registered users in 41 days. \",\n",
       "  'news_category': 'technology'},\n",
       " {'news_headline': 'Google has no plans yet to allow work-from-home permanently: CEO Pichai',\n",
       "  'news_article': 'After Twitter announced its permanent work-from-home policy, Google CEO Sundar Pichai said the company has not yet committed to making such a permanent change. Pichai told Wired, \"How productive will we be when different teams who don\\'t normally work together have to come together for brainstorming, the creative process?\" \"We are going to have research, surveys...learn what works,\" he added.',\n",
       "  'news_category': 'technology'},\n",
       " {'news_headline': \"SC seeks Centre's reply on plea for ban on Zoom app over privacy concern\",\n",
       "  'news_article': 'The Supreme Court on Friday sought Centre\\'s response on a plea seeking ban on use of video conferencing app Zoom until an appropriate legislation is put in place. The plea raised privacy concern on use of the app saying it is \"making users vulnerable and prone to cyber threats\". SC has asked Centre to file its reply within four weeks.',\n",
       "  'news_category': 'technology'},\n",
       " {'news_headline': 'Data of 2.9 crore Indian job seekers leaked on dark web: Cyble',\n",
       "  'news_article': 'Personal data of 2.9 crore Indian job seekers has been leaked on the dark web for free, cybersecurity intelligence firm Cyble said. It includes details about job seekers\\' education, address, etc, Cyble said in a blog post. \"The original leak appears to be from a resume aggregator service collecting data from various known job portals,\" Cyble added.',\n",
       "  'news_category': 'technology'},\n",
       " {'news_headline': 'Some of my tweets were definitely extremely dumb: Billionaire Elon Musk',\n",
       "  'news_article': 'Tesla and SpaceX CEO Elon Musk admitted that some of the things he tweeted were \"definitely extremely dumb\", adding he \"would like to retract them\". When asked why he tweets at all, Musk replied, \"It\\'s a means of communicating directly to people without...going through press...It\\'s hard to make everyone happy...You can either say things that aren\\'t controversial...and then you\\'re boring.\"',\n",
       "  'news_category': 'technology'},\n",
       " {'news_headline': 'AI creates new Pac-Man version just by watching 50,000 episodes of gameplay',\n",
       "  'news_article': 'On the fortieth anniversary of Pac-Man, graphics card company Nvidia trained an artificial intelligence model to build a new playable version of the game from scratch without a game engine. The AI, which was fed 50,000 episodes of Pac-Man being played along with the accompanying controller inputs, then recreated it frame by frame. Nvidia plans to release the version online.',\n",
       "  'news_category': 'technology'},\n",
       " {'news_headline': 'Sealed the deal in 10 days over Zoom calls: KKR on $1.5 billion Jio investment',\n",
       "  'news_article': 'US-based private equity firm KKR has said it negotiated the $1.5 billion deal to buy 2.3% stake in Jio Platforms in just 10 days. The deal, which is KKR\\'s biggest Asian transaction, was done over Zoom calls, said Sanjay Nayar, CEO of KKR India. \"We invested in Mukesh Ambani\\'s entrepreneurial vision backed by a world class management,\" Nayar said.',\n",
       "  'news_category': 'technology'},\n",
       " {'news_headline': 'Fastest internet speed of 44.2 Tbps recorded, can download 1k HD movies within a sec',\n",
       "  'news_article': \"Researchers from Australia's Monash, Swinburne and RMIT universities have recorded the fastest internet data speed of 44.2 Terabits per second (Tbps). It is capable of downloading 1000 HD movies in a split second. Researchers said they achieved it by using a device that replaces around 80 lasers found in existing telecoms hardware, with a single equipment known as a 'micro-comb'.\",\n",
       "  'news_category': 'technology'},\n",
       " {'news_headline': \"Apps can't replace humans needed for contact tracing: Microsoft President\",\n",
       "  'news_article': 'Microsoft President Brad Smith said that while apps can make the approach to contact tracing \"more effective\", they can\\'t replace humans who need to do contact tracing. He explained public health officers would still be required to interview every COVID-19-positive person. He added that app-based contact tracing is an \"important tool\" but not a \"panacea\".',\n",
       "  'news_category': 'technology'},\n",
       " {'news_headline': 'Amazon not cooperating over COVID-19 cases at Wisconsin campus: US Officials',\n",
       "  'news_article': 'Health officials in Wisconsin, US, have said that they\\'ve \"struggled\" to receive coordinated cooperation from Amazon regarding the handling of COVID-19 cases at a campus in Kenosha county. Amazon hasn\\'t fully cooperated with officials trying to track cases, they added. Officials further said that they would consider attempting to shut down Amazon\\'s Kenosha facilities if it didn\\'t cooperate.',\n",
       "  'news_category': 'technology'},\n",
       " {'news_headline': '600% increase in malicious emails during COVID-19: UN official',\n",
       "  'news_article': 'Izumi Nakamitsu, UN disarmament chief, said there has been a 600% increase in malicious emails during COVID-19. She added that nearly 90 countries were still in the early stages of making commitments to cybersecurity. She also said growing digital dependency has increased vulnerability to cyberattacks. The threat from misusing information and communications technology is \"urgent\", Nakamitsu said. ',\n",
       "  'news_category': 'technology'},\n",
       " {'news_headline': 'IBM confirms staff firings amid COVID-19 in US',\n",
       "  'news_article': \"IBM has confirmed reports of it firing employees across US amid COVID-19 but it didn't specify the number of people being fired. However, media reports have suggested that the number of affected employees could be in thousands. The company will be offering subsidised medical coverage to its affected US employees through June 2021.\",\n",
       "  'news_category': 'technology'},\n",
       " {'news_headline': 'US-based tech firm Box to let staff work remotely till Jan 2021',\n",
       "  'news_article': 'Cloud storage provider Box CEO Aaron Levie has said that the company will let its employees work from \"anywhere\" through January 31, 2021 even when its offices reopen. However, he added that since many people prefer working from office the California-based firm\\'s work setting would be a \"hybrid\" one. Box\\'s all future weekly all-hands meetings will remain fully virtual.',\n",
       "  'news_category': 'technology'},\n",
       " {'news_headline': 'We take user privacy extremely seriously: Zoom after plea to ban it filed in SC',\n",
       "  'news_article': 'After a plea for its ban was filed in Supreme Court, Zoom has said that it takes \"user privacy, security and trust extremely seriously\". It added many global entities had \"confidently\" selected Zoom for complete deployment after \"exhaustive security reviews\". The plea had raised privacy concerns on use Zoom saying it is \"making users vulnerable and prone to cyber threats\".',\n",
       "  'news_category': 'technology'},\n",
       " {'news_headline': 'WhatsApp tests feature to let users add contacts via QR codes: Report',\n",
       "  'news_article': 'WhatsApp in its latest beta version is testing a feature which will allow users to add contacts through scanning QR codes, WABetaInfo reported. Beta testers will be able to see a small QR code on their settings page which can be used by another user to add them. The QR code can be reset by a user multiple times.',\n",
       "  'news_category': 'technology'},\n",
       " {'news_headline': 'Instagram gets Messenger Rooms integration for group video calls',\n",
       "  'news_article': \"Instagram users will now have the option to create Messenger Rooms and invite friends to join right from the app. Users will be able to create Rooms through the Direct Messages section. Messenger Rooms is Facebook's video-conferencing tool that allows up to 50 participants with no time limit. WhatsApp will also be getting a Rooms shortcut. \",\n",
       "  'news_category': 'technology'},\n",
       " {'news_headline': 'Google launches Action Blocks app for people with cognitive disability',\n",
       "  'news_article': 'Google has released an app, Action Blocks, especially for people with cognitive disabilities that will help them perform actions with just a tap. The app will help people make blocks for everyday tasks like calling someone, watching movies or turning off the lights, on the home screen. The blocks can be tapped to make Google Assistant to do the tasks.',\n",
       "  'news_category': 'technology'},\n",
       " {'news_headline': \"AI infers people's personality from selfies better than humans: Study\",\n",
       "  'news_article': 'A study in Scientific Reports claimed artificial intelligence is able to infer people\\'s personality from selfies better than human raters. It said AI was able to make \"above-chance\" judgments about conscientiousness, neuroticism, extraversion, agreeableness and openness using selfies. Personality predictions based on female faces appeared to be more reliable than those for male faces, study added.',\n",
       "  'news_category': 'technology'},\n",
       " {'news_headline': 'Hackers have had access to early version of iOS 14 since Feb: Report',\n",
       "  'news_article': 'Security researchers, bloggers and hackers have had access to an early version of iOS 14 since \"at least February\", Motherboard reported. The whole version was leaked because someone had reportedly obtained an iPhone 11 running a version of iOS 14 dated December 2019, intended only for Apple developers. The final iOS will \"almost certainly\" function differently than this early version.',\n",
       "  'news_category': 'technology'},\n",
       " {'news_headline': \"We're 'go' for launch next week: NASA on crewed mission with SpaceX\",\n",
       "  'news_article': 'Talking about NASA\\'s crewed mission with SpaceX, NASA Associate Administrator Steve Jurczyk has said they are \"go for launch\" next week. NASA astronauts Robert Behnken and Douglas Hurley will be flying in SpaceX\\'s Crew Dragon to the International Space Station on May 27. This will be the first crewed flight to launch from the US since 2011.',\n",
       "  'news_category': 'technology'},\n",
       " {'news_headline': \"IIT Guwahati develops ways to 'prevent' memory loss due to Alzheimer's\",\n",
       "  'news_article': \"IIT Guwahati researchers have claimed to have found ways to prevent or reduce memory loss associated with Alzheimer's disease. They studied neurochemical principles of Alzheimer's to explore ways to prevent accumulation of neurotoxic molecules in brain. One of the methods is application of a low-voltage electric field toward preventing amyloid plaques from aggregating to cause memory loss.\",\n",
       "  'news_category': 'technology'},\n",
       " {'news_headline': \"Apple working on 'Steve Jobs Heritage Edition' AR glasses: Report\",\n",
       "  'news_article': 'Apple is working on a \"Steve Jobs Heritage Edition\" of AR glasses, tech analyst Jon Prosser told Cult of Mac. The glasses would resemble Steve Jobs\\' spectacles and would be round. Apple would position it as a special edition of the core AR glasses, much like the original $10,000 gold Apple Watch, the report added.',\n",
       "  'news_category': 'technology'},\n",
       " {'news_headline': 'Stanford uses AI & satellite images to track poverty levels in Africa',\n",
       "  'news_article': \"Stanford University researchers combined artificial intelligence and satellite images to track levels of poverty in Africa over time. Their tool searched for signs of development like roads, housing structures, waterways and lights turned on at night. Researchers tested the tool's accuracy for about 20,000 African villages that had existing asset wealth data from surveys, dating back to 2009.\",\n",
       "  'news_category': 'technology'},\n",
       " {'news_headline': \"Twitter says disappearing 'Fleets' reported less often than Tweets\",\n",
       "  'news_article': 'Twitter has revealed it is seeing \"less abuse\" with its Stories-like disappearing \\'Fleets\\' as only a \"small percentage\" are reported each day. However, it added it was still \"very early\" for saying that. Twitter had started testing the feature in Brazil in March. Earlier this week, Twitter announced that it has expanded Fleets to Italy.',\n",
       "  'news_category': 'technology'},\n",
       " {'news_headline': \"Aarogya Setu doesn't give out loud siren near COVID-19 patients: Govt\",\n",
       "  'news_article': \"The government has clarified that its Aarogya Setu app doesn't give out a loud siren when a COVID-19 patient approaches a user. It added that Aarogya Setu does not have an in-built siren but it gives out alerts. The coronavirus contact-tracing app Aarogya Setu had crossed 10 crore registered users in 41 days. \",\n",
       "  'news_category': 'technology'},\n",
       " {'news_headline': 'Google has no plans yet to allow work-from-home permanently: CEO Pichai',\n",
       "  'news_article': 'After Twitter announced its permanent work-from-home policy, Google CEO Sundar Pichai said the company has not yet committed to making such a permanent change. Pichai told Wired, \"How productive will we be when different teams who don\\'t normally work together have to come together for brainstorming, the creative process?\" \"We are going to have research, surveys...learn what works,\" he added.',\n",
       "  'news_category': 'technology'},\n",
       " {'news_headline': \"SC seeks Centre's reply on plea for ban on Zoom app over privacy concern\",\n",
       "  'news_article': 'The Supreme Court on Friday sought Centre\\'s response on a plea seeking ban on use of video conferencing app Zoom until an appropriate legislation is put in place. The plea raised privacy concern on use of the app saying it is \"making users vulnerable and prone to cyber threats\". SC has asked Centre to file its reply within four weeks.',\n",
       "  'news_category': 'technology'},\n",
       " {'news_headline': 'Data of 2.9 crore Indian job seekers leaked on dark web: Cyble',\n",
       "  'news_article': 'Personal data of 2.9 crore Indian job seekers has been leaked on the dark web for free, cybersecurity intelligence firm Cyble said. It includes details about job seekers\\' education, address, etc, Cyble said in a blog post. \"The original leak appears to be from a resume aggregator service collecting data from various known job portals,\" Cyble added.',\n",
       "  'news_category': 'technology'},\n",
       " {'news_headline': 'Some of my tweets were definitely extremely dumb: Billionaire Elon Musk',\n",
       "  'news_article': 'Tesla and SpaceX CEO Elon Musk admitted that some of the things he tweeted were \"definitely extremely dumb\", adding he \"would like to retract them\". When asked why he tweets at all, Musk replied, \"It\\'s a means of communicating directly to people without...going through press...It\\'s hard to make everyone happy...You can either say things that aren\\'t controversial...and then you\\'re boring.\"',\n",
       "  'news_category': 'technology'},\n",
       " {'news_headline': 'AI creates new Pac-Man version just by watching 50,000 episodes of gameplay',\n",
       "  'news_article': 'On the fortieth anniversary of Pac-Man, graphics card company Nvidia trained an artificial intelligence model to build a new playable version of the game from scratch without a game engine. The AI, which was fed 50,000 episodes of Pac-Man being played along with the accompanying controller inputs, then recreated it frame by frame. Nvidia plans to release the version online.',\n",
       "  'news_category': 'technology'},\n",
       " {'news_headline': 'Sealed the deal in 10 days over Zoom calls: KKR on $1.5 billion Jio investment',\n",
       "  'news_article': 'US-based private equity firm KKR has said it negotiated the $1.5 billion deal to buy 2.3% stake in Jio Platforms in just 10 days. The deal, which is KKR\\'s biggest Asian transaction, was done over Zoom calls, said Sanjay Nayar, CEO of KKR India. \"We invested in Mukesh Ambani\\'s entrepreneurial vision backed by a world class management,\" Nayar said.',\n",
       "  'news_category': 'technology'},\n",
       " {'news_headline': 'Fastest internet speed of 44.2 Tbps recorded, can download 1k HD movies within a sec',\n",
       "  'news_article': \"Researchers from Australia's Monash, Swinburne and RMIT universities have recorded the fastest internet data speed of 44.2 Terabits per second (Tbps). It is capable of downloading 1000 HD movies in a split second. Researchers said they achieved it by using a device that replaces around 80 lasers found in existing telecoms hardware, with a single equipment known as a 'micro-comb'.\",\n",
       "  'news_category': 'technology'},\n",
       " {'news_headline': \"Apps can't replace humans needed for contact tracing: Microsoft President\",\n",
       "  'news_article': 'Microsoft President Brad Smith said that while apps can make the approach to contact tracing \"more effective\", they can\\'t replace humans who need to do contact tracing. He explained public health officers would still be required to interview every COVID-19-positive person. He added that app-based contact tracing is an \"important tool\" but not a \"panacea\".',\n",
       "  'news_category': 'technology'},\n",
       " {'news_headline': 'Amazon not cooperating over COVID-19 cases at Wisconsin campus: US Officials',\n",
       "  'news_article': 'Health officials in Wisconsin, US, have said that they\\'ve \"struggled\" to receive coordinated cooperation from Amazon regarding the handling of COVID-19 cases at a campus in Kenosha county. Amazon hasn\\'t fully cooperated with officials trying to track cases, they added. Officials further said that they would consider attempting to shut down Amazon\\'s Kenosha facilities if it didn\\'t cooperate.',\n",
       "  'news_category': 'technology'},\n",
       " {'news_headline': '600% increase in malicious emails during COVID-19: UN official',\n",
       "  'news_article': 'Izumi Nakamitsu, UN disarmament chief, said there has been a 600% increase in malicious emails during COVID-19. She added that nearly 90 countries were still in the early stages of making commitments to cybersecurity. She also said growing digital dependency has increased vulnerability to cyberattacks. The threat from misusing information and communications technology is \"urgent\", Nakamitsu said. ',\n",
       "  'news_category': 'technology'},\n",
       " {'news_headline': 'IBM confirms staff firings amid COVID-19 in US',\n",
       "  'news_article': \"IBM has confirmed reports of it firing employees across US amid COVID-19 but it didn't specify the number of people being fired. However, media reports have suggested that the number of affected employees could be in thousands. The company will be offering subsidised medical coverage to its affected US employees through June 2021.\",\n",
       "  'news_category': 'technology'},\n",
       " {'news_headline': 'US-based tech firm Box to let staff work remotely till Jan 2021',\n",
       "  'news_article': 'Cloud storage provider Box CEO Aaron Levie has said that the company will let its employees work from \"anywhere\" through January 31, 2021 even when its offices reopen. However, he added that since many people prefer working from office the California-based firm\\'s work setting would be a \"hybrid\" one. Box\\'s all future weekly all-hands meetings will remain fully virtual.',\n",
       "  'news_category': 'technology'},\n",
       " {'news_headline': 'We take user privacy extremely seriously: Zoom after plea to ban it filed in SC',\n",
       "  'news_article': 'After a plea for its ban was filed in Supreme Court, Zoom has said that it takes \"user privacy, security and trust extremely seriously\". It added many global entities had \"confidently\" selected Zoom for complete deployment after \"exhaustive security reviews\". The plea had raised privacy concerns on use Zoom saying it is \"making users vulnerable and prone to cyber threats\".',\n",
       "  'news_category': 'technology'},\n",
       " {'news_headline': 'WhatsApp tests feature to let users add contacts via QR codes: Report',\n",
       "  'news_article': 'WhatsApp in its latest beta version is testing a feature which will allow users to add contacts through scanning QR codes, WABetaInfo reported. Beta testers will be able to see a small QR code on their settings page which can be used by another user to add them. The QR code can be reset by a user multiple times.',\n",
       "  'news_category': 'technology'},\n",
       " {'news_headline': 'Instagram gets Messenger Rooms integration for group video calls',\n",
       "  'news_article': \"Instagram users will now have the option to create Messenger Rooms and invite friends to join right from the app. Users will be able to create Rooms through the Direct Messages section. Messenger Rooms is Facebook's video-conferencing tool that allows up to 50 participants with no time limit. WhatsApp will also be getting a Rooms shortcut. \",\n",
       "  'news_category': 'technology'},\n",
       " {'news_headline': 'Google launches Action Blocks app for people with cognitive disability',\n",
       "  'news_article': 'Google has released an app, Action Blocks, especially for people with cognitive disabilities that will help them perform actions with just a tap. The app will help people make blocks for everyday tasks like calling someone, watching movies or turning off the lights, on the home screen. The blocks can be tapped to make Google Assistant to do the tasks.',\n",
       "  'news_category': 'technology'},\n",
       " {'news_headline': \"AI infers people's personality from selfies better than humans: Study\",\n",
       "  'news_article': 'A study in Scientific Reports claimed artificial intelligence is able to infer people\\'s personality from selfies better than human raters. It said AI was able to make \"above-chance\" judgments about conscientiousness, neuroticism, extraversion, agreeableness and openness using selfies. Personality predictions based on female faces appeared to be more reliable than those for male faces, study added.',\n",
       "  'news_category': 'technology'},\n",
       " {'news_headline': 'Hackers have had access to early version of iOS 14 since Feb: Report',\n",
       "  'news_article': 'Security researchers, bloggers and hackers have had access to an early version of iOS 14 since \"at least February\", Motherboard reported. The whole version was leaked because someone had reportedly obtained an iPhone 11 running a version of iOS 14 dated December 2019, intended only for Apple developers. The final iOS will \"almost certainly\" function differently than this early version.',\n",
       "  'news_category': 'technology'},\n",
       " {'news_headline': \"We're 'go' for launch next week: NASA on crewed mission with SpaceX\",\n",
       "  'news_article': 'Talking about NASA\\'s crewed mission with SpaceX, NASA Associate Administrator Steve Jurczyk has said they are \"go for launch\" next week. NASA astronauts Robert Behnken and Douglas Hurley will be flying in SpaceX\\'s Crew Dragon to the International Space Station on May 27. This will be the first crewed flight to launch from the US since 2011.',\n",
       "  'news_category': 'technology'},\n",
       " {'news_headline': \"IIT Guwahati develops ways to 'prevent' memory loss due to Alzheimer's\",\n",
       "  'news_article': \"IIT Guwahati researchers have claimed to have found ways to prevent or reduce memory loss associated with Alzheimer's disease. They studied neurochemical principles of Alzheimer's to explore ways to prevent accumulation of neurotoxic molecules in brain. One of the methods is application of a low-voltage electric field toward preventing amyloid plaques from aggregating to cause memory loss.\",\n",
       "  'news_category': 'technology'},\n",
       " {'news_headline': \"Apple working on 'Steve Jobs Heritage Edition' AR glasses: Report\",\n",
       "  'news_article': 'Apple is working on a \"Steve Jobs Heritage Edition\" of AR glasses, tech analyst Jon Prosser told Cult of Mac. The glasses would resemble Steve Jobs\\' spectacles and would be round. Apple would position it as a special edition of the core AR glasses, much like the original $10,000 gold Apple Watch, the report added.',\n",
       "  'news_category': 'technology'},\n",
       " {'news_headline': 'Stanford uses AI & satellite images to track poverty levels in Africa',\n",
       "  'news_article': \"Stanford University researchers combined artificial intelligence and satellite images to track levels of poverty in Africa over time. Their tool searched for signs of development like roads, housing structures, waterways and lights turned on at night. Researchers tested the tool's accuracy for about 20,000 African villages that had existing asset wealth data from surveys, dating back to 2009.\",\n",
       "  'news_category': 'technology'},\n",
       " {'news_headline': \"Twitter says disappearing 'Fleets' reported less often than Tweets\",\n",
       "  'news_article': 'Twitter has revealed it is seeing \"less abuse\" with its Stories-like disappearing \\'Fleets\\' as only a \"small percentage\" are reported each day. However, it added it was still \"very early\" for saying that. Twitter had started testing the feature in Brazil in March. Earlier this week, Twitter announced that it has expanded Fleets to Italy.',\n",
       "  'news_category': 'technology'}]"
      ]
     },
     "execution_count": 22,
     "metadata": {},
     "output_type": "execute_result"
    }
   ],
   "source": [
    "news_data.extend(news_articles)\n",
    "news_data"
   ]
  },
  {
   "cell_type": "code",
   "execution_count": 18,
   "metadata": {},
   "outputs": [
    {
     "data": {
      "text/html": [
       "<div>\n",
       "<style scoped>\n",
       "    .dataframe tbody tr th:only-of-type {\n",
       "        vertical-align: middle;\n",
       "    }\n",
       "\n",
       "    .dataframe tbody tr th {\n",
       "        vertical-align: top;\n",
       "    }\n",
       "\n",
       "    .dataframe thead th {\n",
       "        text-align: right;\n",
       "    }\n",
       "</style>\n",
       "<table border=\"1\" class=\"dataframe\">\n",
       "  <thead>\n",
       "    <tr style=\"text-align: right;\">\n",
       "      <th></th>\n",
       "      <th>news_headline</th>\n",
       "      <th>news_article</th>\n",
       "      <th>news_category</th>\n",
       "    </tr>\n",
       "  </thead>\n",
       "  <tbody>\n",
       "    <tr>\n",
       "      <td>0</td>\n",
       "      <td>Aarogya Setu doesn't give out loud siren near ...</td>\n",
       "      <td>The government has clarified that its Aarogya ...</td>\n",
       "      <td>technology</td>\n",
       "    </tr>\n",
       "    <tr>\n",
       "      <td>1</td>\n",
       "      <td>Google has no plans yet to allow work-from-hom...</td>\n",
       "      <td>After Twitter announced its permanent work-fro...</td>\n",
       "      <td>technology</td>\n",
       "    </tr>\n",
       "    <tr>\n",
       "      <td>2</td>\n",
       "      <td>SC seeks Centre's reply on plea for ban on Zoo...</td>\n",
       "      <td>The Supreme Court on Friday sought Centre's re...</td>\n",
       "      <td>technology</td>\n",
       "    </tr>\n",
       "    <tr>\n",
       "      <td>3</td>\n",
       "      <td>Data of 2.9 crore Indian job seekers leaked on...</td>\n",
       "      <td>Personal data of 2.9 crore Indian job seekers ...</td>\n",
       "      <td>technology</td>\n",
       "    </tr>\n",
       "    <tr>\n",
       "      <td>4</td>\n",
       "      <td>Some of my tweets were definitely extremely du...</td>\n",
       "      <td>Tesla and SpaceX CEO Elon Musk admitted that s...</td>\n",
       "      <td>technology</td>\n",
       "    </tr>\n",
       "  </tbody>\n",
       "</table>\n",
       "</div>"
      ],
      "text/plain": [
       "                                       news_headline  \\\n",
       "0  Aarogya Setu doesn't give out loud siren near ...   \n",
       "1  Google has no plans yet to allow work-from-hom...   \n",
       "2  SC seeks Centre's reply on plea for ban on Zoo...   \n",
       "3  Data of 2.9 crore Indian job seekers leaked on...   \n",
       "4  Some of my tweets were definitely extremely du...   \n",
       "\n",
       "                                        news_article news_category  \n",
       "0  The government has clarified that its Aarogya ...    technology  \n",
       "1  After Twitter announced its permanent work-fro...    technology  \n",
       "2  The Supreme Court on Friday sought Centre's re...    technology  \n",
       "3  Personal data of 2.9 crore Indian job seekers ...    technology  \n",
       "4  Tesla and SpaceX CEO Elon Musk admitted that s...    technology  "
      ]
     },
     "execution_count": 18,
     "metadata": {},
     "output_type": "execute_result"
    }
   ],
   "source": [
    "df = pd.DataFrame(news_data)\n",
    "df = df[['news_headline', 'news_article', 'news_category']]\n",
    "df.head()"
   ]
  },
  {
   "cell_type": "code",
   "execution_count": 19,
   "metadata": {},
   "outputs": [],
   "source": [
    "#prepare user defined function to extract data from inshorts.com"
   ]
  },
  {
   "cell_type": "code",
   "execution_count": 31,
   "metadata": {},
   "outputs": [],
   "source": [
    "urls_list = ['https://inshorts.com/en/read/technology',\n",
    "           'https://inshorts.com/en/read/sports',\n",
    "           'https://inshorts.com/en/read/world']"
   ]
  },
  {
   "cell_type": "code",
   "execution_count": 34,
   "metadata": {},
   "outputs": [],
   "source": [
    "def datasetPrepare(urls_list):\n",
    "    news_data = []\n",
    "    for url in urls_list:\n",
    "        news_category = url.split('/')[-1]\n",
    "        data = requests.get(url)\n",
    "        soup = BeautifulSoup(data.content, 'html.parser')\n",
    "        news_articles = [{'news_headline': headline.find('span',attrs={'itemprop':'headline'}).string,\n",
    "                 'news_article': article.find('div', attrs={'itemprop':'articleBody'}).string,\n",
    "                 'news_category': news_category}\n",
    "                for headline, article in zip(soup.find_all('div',class_=['news-card-title news-right-box']), soup.find_all('div',\n",
    "                    class_=['news-card-content news-right-box']))]        \n",
    "        news_data.extend(news_articles)\n",
    "    df = pd.DataFrame(news_data)\n",
    "    df = df[['news_headline', 'news_article', 'news_category']]\n",
    "    return df"
   ]
  },
  {
   "cell_type": "code",
   "execution_count": 35,
   "metadata": {},
   "outputs": [
    {
     "name": "stdout",
     "output_type": "stream",
     "text": [
      "<class 'pandas.core.frame.DataFrame'>\n",
      "RangeIndex: 74 entries, 0 to 73\n",
      "Data columns (total 3 columns):\n",
      "news_headline    74 non-null object\n",
      "news_article     74 non-null object\n",
      "news_category    74 non-null object\n",
      "dtypes: object(3)\n",
      "memory usage: 1.9+ KB\n"
     ]
    },
    {
     "data": {
      "text/html": [
       "<div>\n",
       "<style scoped>\n",
       "    .dataframe tbody tr th:only-of-type {\n",
       "        vertical-align: middle;\n",
       "    }\n",
       "\n",
       "    .dataframe tbody tr th {\n",
       "        vertical-align: top;\n",
       "    }\n",
       "\n",
       "    .dataframe thead th {\n",
       "        text-align: right;\n",
       "    }\n",
       "</style>\n",
       "<table border=\"1\" class=\"dataframe\">\n",
       "  <thead>\n",
       "    <tr style=\"text-align: right;\">\n",
       "      <th></th>\n",
       "      <th>news_headline</th>\n",
       "      <th>news_article</th>\n",
       "      <th>news_category</th>\n",
       "    </tr>\n",
       "  </thead>\n",
       "  <tbody>\n",
       "    <tr>\n",
       "      <td>0</td>\n",
       "      <td>Aarogya Setu doesn't give out loud siren near ...</td>\n",
       "      <td>The government has clarified that its Aarogya ...</td>\n",
       "      <td>technology</td>\n",
       "    </tr>\n",
       "    <tr>\n",
       "      <td>1</td>\n",
       "      <td>Google has no plans yet to allow work-from-hom...</td>\n",
       "      <td>After Twitter announced its permanent work-fro...</td>\n",
       "      <td>technology</td>\n",
       "    </tr>\n",
       "    <tr>\n",
       "      <td>2</td>\n",
       "      <td>Data of 2.9 crore Indian job seekers leaked on...</td>\n",
       "      <td>Personal data of 2.9 crore Indian job seekers ...</td>\n",
       "      <td>technology</td>\n",
       "    </tr>\n",
       "    <tr>\n",
       "      <td>3</td>\n",
       "      <td>SC seeks Centre's reply on plea for ban on Zoo...</td>\n",
       "      <td>The Supreme Court on Friday sought Centre's re...</td>\n",
       "      <td>technology</td>\n",
       "    </tr>\n",
       "    <tr>\n",
       "      <td>4</td>\n",
       "      <td>Fastest internet speed of 44.2 Tbps recorded, ...</td>\n",
       "      <td>Researchers from Australia's Monash, Swinburne...</td>\n",
       "      <td>technology</td>\n",
       "    </tr>\n",
       "  </tbody>\n",
       "</table>\n",
       "</div>"
      ],
      "text/plain": [
       "                                       news_headline  \\\n",
       "0  Aarogya Setu doesn't give out loud siren near ...   \n",
       "1  Google has no plans yet to allow work-from-hom...   \n",
       "2  Data of 2.9 crore Indian job seekers leaked on...   \n",
       "3  SC seeks Centre's reply on plea for ban on Zoo...   \n",
       "4  Fastest internet speed of 44.2 Tbps recorded, ...   \n",
       "\n",
       "                                        news_article news_category  \n",
       "0  The government has clarified that its Aarogya ...    technology  \n",
       "1  After Twitter announced its permanent work-fro...    technology  \n",
       "2  Personal data of 2.9 crore Indian job seekers ...    technology  \n",
       "3  The Supreme Court on Friday sought Centre's re...    technology  \n",
       "4  Researchers from Australia's Monash, Swinburne...    technology  "
      ]
     },
     "execution_count": 35,
     "metadata": {},
     "output_type": "execute_result"
    }
   ],
   "source": [
    "news_df = datasetPrepare(url_list)\n",
    "news_df.info()\n",
    "news_df.head()"
   ]
  },
  {
   "cell_type": "code",
   "execution_count": 36,
   "metadata": {},
   "outputs": [],
   "source": [
    "#Text wrangling and preprocessing\n"
   ]
  },
  {
   "cell_type": "code",
   "execution_count": 46,
   "metadata": {},
   "outputs": [],
   "source": [
    "import spacy\n",
    "import nltk\n",
    "from nltk.tokenize.toktok import ToktokTokenizer\n",
    "import re\n",
    "import unicodedata"
   ]
  },
  {
   "cell_type": "code",
   "execution_count": 48,
   "metadata": {},
   "outputs": [],
   "source": [
    "import en_core_web_sm\n",
    "nlp = en_core_web_sm.load()"
   ]
  },
  {
   "cell_type": "code",
   "execution_count": 50,
   "metadata": {},
   "outputs": [
    {
     "name": "stderr",
     "output_type": "stream",
     "text": [
      "[nltk_data] Downloading package stopwords to\n",
      "[nltk_data]     C:\\Users\\Asus\\AppData\\Roaming\\nltk_data...\n",
      "[nltk_data]   Package stopwords is already up-to-date!\n"
     ]
    },
    {
     "data": {
      "text/plain": [
       "True"
      ]
     },
     "execution_count": 50,
     "metadata": {},
     "output_type": "execute_result"
    }
   ],
   "source": [
    "nltk.download('stopwords')"
   ]
  },
  {
   "cell_type": "code",
   "execution_count": 52,
   "metadata": {},
   "outputs": [],
   "source": [
    "tokenizer = ToktokTokenizer()\n",
    "stopword_list = nltk.corpus.stopwords.words('english')\n",
    "stopword_list.remove('no')\n",
    "stopword_list.remove('not')"
   ]
  },
  {
   "cell_type": "code",
   "execution_count": 53,
   "metadata": {},
   "outputs": [
    {
     "data": {
      "text/plain": [
       "'Some  important text'"
      ]
     },
     "execution_count": 53,
     "metadata": {},
     "output_type": "execute_result"
    }
   ],
   "source": [
    "#Removal html tags\n",
    "def strip_html_tags(text):\n",
    "    soup = BeautifulSoup(text, 'html.parser')\n",
    "    stripped_text = soup.get_text()\n",
    "    return stripped_text\n",
    "strip_html_tags(\"<html><h2>Some  important text</h2></html>\")"
   ]
  },
  {
   "cell_type": "code",
   "execution_count": 54,
   "metadata": {},
   "outputs": [
    {
     "data": {
      "text/plain": [
       "'diakritikos'"
      ]
     },
     "execution_count": 54,
     "metadata": {},
     "output_type": "execute_result"
    }
   ],
   "source": [
    "#Removw accented character\n",
    "def remove_accented_chars(text):\n",
    "    text = unicodedata.normalize(\"NFKD\", text).encode('ascii','ignore').decode('utf-8', 'ignore')\n",
    "    return text\n",
    "remove_accented_chars(\"diakritikós\")"
   ]
  },
  {
   "cell_type": "code",
   "execution_count": 57,
   "metadata": {},
   "outputs": [
    {
     "data": {
      "text/plain": [
       "'Well this was fun   '"
      ]
     },
     "execution_count": 57,
     "metadata": {},
     "output_type": "execute_result"
    }
   ],
   "source": [
    "#Remove special chars\n",
    "def remove_special_chars(text, remove_digits=False):\n",
    "    pattern= r'[^a-zA-Z0-9\\s]' if not remove_digits else r'[^a-zA-Z\\s]'\n",
    "    text = re.sub(pattern, ' ', text)\n",
    "    return text\n",
    "remove_special_chars(\"Well this was fun!!!\", remove_digits=True)"
   ]
  },
  {
   "cell_type": "code",
   "execution_count": 58,
   "metadata": {},
   "outputs": [
    {
     "data": {
      "text/plain": [
       "'My system keep crash ! !'"
      ]
     },
     "execution_count": 58,
     "metadata": {},
     "output_type": "execute_result"
    }
   ],
   "source": [
    "#text lemmatization\n",
    "def lemmatize(text):\n",
    "    text =nlp(text)\n",
    "    text = ' '.join([word.lemma_ if word.lemma_ != '-PRON-' else word.text for word in text])\n",
    "    return text\n",
    "lemmatize(\"My systems keeps crashing!!\")"
   ]
  },
  {
   "cell_type": "code",
   "execution_count": 59,
   "metadata": {},
   "outputs": [
    {
     "data": {
      "text/plain": [
       "'My system keep crashing!!!'"
      ]
     },
     "execution_count": 59,
     "metadata": {},
     "output_type": "execute_result"
    }
   ],
   "source": [
    "#Text stemming\n",
    "def simple_stemmer(text):\n",
    "    ps = nltk.porter.PorterStemmer()\n",
    "    text = ' '.join([ps.stem(word) for word in text.split()])\n",
    "    return text\n",
    "simple_stemmer(\"My system keeps crashing!!!\")"
   ]
  },
  {
   "cell_type": "code",
   "execution_count": 62,
   "metadata": {},
   "outputs": [
    {
     "data": {
      "text/plain": [
       "', , stopwords'"
      ]
     },
     "execution_count": 62,
     "metadata": {},
     "output_type": "execute_result"
    }
   ],
   "source": [
    "#Remove stopwords\n",
    "def remove_stopwords(text, is_lower_case = False):\n",
    "    tokens = tokenizer.tokenize(text)\n",
    "    tokens = [token.strip() for token in tokens]\n",
    "    if is_lower_case:\n",
    "        filtered_tokens = [token for token in tokens if token not in stopword_list]\n",
    "    else:\n",
    "        filtered_tokens = [token for token in tokens if token.lower() not in stopword_list]\n",
    "    filtered_text = ' '.join(filtered_tokens)\n",
    "    return filtered_text\n",
    "remove_stopwords(\"the, and, if are stopwords\")"
   ]
  },
  {
   "cell_type": "code",
   "execution_count": 69,
   "metadata": {},
   "outputs": [],
   "source": [
    "#Building text normalizer\n",
    "def normalize_corpus(corpus, html_stripping=True, contraction_expantion=True,\n",
    "                     accented_char_removal=True, text_lemmatization=True, special_char_removal=True,\n",
    "                    stopword_removal=True, remove_digits=True, text_lower_case=True):\n",
    "    normalized_corpus = []\n",
    "    #normalize each document in the corpus\n",
    "    for doc in corpus:\n",
    "        #strip html\n",
    "        if html_stripping:\n",
    "            doc = strip_html_tags(doc)\n",
    "        #remove accented char\n",
    "        if accented_char_removal:\n",
    "            doc = remove_accented_chars(doc)\n",
    "        #lowercase the text\n",
    "        if text_lower_case:\n",
    "            doc = doc.lower()\n",
    "        #remove extra new line\n",
    "        doc = re.sub(r'[\\r|\\n|\\r|\\n]+', ' ', doc)\n",
    "        #lemmatize text\n",
    "        if text_lemmatization:\n",
    "            doc = lemmatize(doc)\n",
    "        #remove special chars and/or digits\n",
    "        if special_char_removal:\n",
    "            #insert space between special chars to isolate them\n",
    "            special_char_pattern = re.compile(r'([{.(-)!}])')\n",
    "            doc = special_char_pattern.sub(\"\\\\1 \", doc)\n",
    "            doc = remove_special_chars(doc, remove_digits=remove_digits)\n",
    "        #remove extra whitespace\n",
    "        #doc = re.sub('+', ' ', doc)\n",
    "        #remove stopwords\n",
    "        if stopword_removal:\n",
    "            doc = remove_stopwords(doc, is_lower_case=text_lower_case)\n",
    "        normalized_corpus.append(doc)\n",
    "    return normalized_corpus"
   ]
  },
  {
   "cell_type": "code",
   "execution_count": 70,
   "metadata": {},
   "outputs": [
    {
     "data": {
      "text/plain": [
       "{'full_text': 'Google has no plans yet to allow work-from-home permanently: CEO Pichai.After Twitter announced its permanent work-from-home policy, Google CEO Sundar Pichai said the company has not yet committed to making such a permanent change. Pichai told Wired, \"How productive will we be when different teams who don\\'t normally work together have to come together for brainstorming, the creative process?\" \"We are going to have research, surveys...learn what works,\" he added.',\n",
       " 'clean_text': 'google no plan yet allow work home permanently ceo pichai twitter announce permanent work home policy google ceo sundar pichai say company not yet commit make permanent change pichai tell wired productive different team not normally work together come together brainstorm creative process go research survey learn work add'}"
      ]
     },
     "execution_count": 70,
     "metadata": {},
     "output_type": "execute_result"
    }
   ],
   "source": [
    "#preprocess and normalie news articles\n",
    "news_df['full_text'] = news_df['news_headline'].map(str)+'.'+news_df['news_article']\n",
    "news_df['clean_text'] = normalize_corpus(news_df['full_text'])\n",
    "norm_corpus = list(news_df['clean_text'])"
   ]
  },
  {
   "cell_type": "code",
   "execution_count": 71,
   "metadata": {},
   "outputs": [],
   "source": [
    "#save the news articles\n",
    "news_df.to_csv(\"news_csv\", index=False, encoding='utf-8')"
   ]
  },
  {
   "cell_type": "code",
   "execution_count": 72,
   "metadata": {},
   "outputs": [],
   "source": [
    "#Parts of Speech"
   ]
  },
  {
   "cell_type": "code",
   "execution_count": 73,
   "metadata": {},
   "outputs": [],
   "source": [
    "news_df = pd.read_csv('news_csv')"
   ]
  },
  {
   "cell_type": "code",
   "execution_count": 76,
   "metadata": {},
   "outputs": [
    {
     "data": {
      "text/html": [
       "<div>\n",
       "<style scoped>\n",
       "    .dataframe tbody tr th:only-of-type {\n",
       "        vertical-align: middle;\n",
       "    }\n",
       "\n",
       "    .dataframe tbody tr th {\n",
       "        vertical-align: top;\n",
       "    }\n",
       "\n",
       "    .dataframe thead th {\n",
       "        text-align: right;\n",
       "    }\n",
       "</style>\n",
       "<table border=\"1\" class=\"dataframe\">\n",
       "  <thead>\n",
       "    <tr style=\"text-align: right;\">\n",
       "      <th></th>\n",
       "      <th>news_headline</th>\n",
       "      <th>news_article</th>\n",
       "      <th>news_category</th>\n",
       "      <th>full_text</th>\n",
       "      <th>clean_text</th>\n",
       "    </tr>\n",
       "  </thead>\n",
       "  <tbody>\n",
       "    <tr>\n",
       "      <td>0</td>\n",
       "      <td>Aarogya Setu doesn't give out loud siren near ...</td>\n",
       "      <td>The government has clarified that its Aarogya ...</td>\n",
       "      <td>technology</td>\n",
       "      <td>Aarogya Setu doesn't give out loud siren near ...</td>\n",
       "      <td>aarogya setu not give loud siren near covid pa...</td>\n",
       "    </tr>\n",
       "    <tr>\n",
       "      <td>1</td>\n",
       "      <td>Google has no plans yet to allow work-from-hom...</td>\n",
       "      <td>After Twitter announced its permanent work-fro...</td>\n",
       "      <td>technology</td>\n",
       "      <td>Google has no plans yet to allow work-from-hom...</td>\n",
       "      <td>google no plan yet allow work home permanently...</td>\n",
       "    </tr>\n",
       "    <tr>\n",
       "      <td>2</td>\n",
       "      <td>Data of 2.9 crore Indian job seekers leaked on...</td>\n",
       "      <td>Personal data of 2.9 crore Indian job seekers ...</td>\n",
       "      <td>technology</td>\n",
       "      <td>Data of 2.9 crore Indian job seekers leaked on...</td>\n",
       "      <td>datum crore indian job seeker leak dark web cy...</td>\n",
       "    </tr>\n",
       "    <tr>\n",
       "      <td>3</td>\n",
       "      <td>SC seeks Centre's reply on plea for ban on Zoo...</td>\n",
       "      <td>The Supreme Court on Friday sought Centre's re...</td>\n",
       "      <td>technology</td>\n",
       "      <td>SC seeks Centre's reply on plea for ban on Zoo...</td>\n",
       "      <td>sc seek centre reply plea ban zoom app privacy...</td>\n",
       "    </tr>\n",
       "    <tr>\n",
       "      <td>4</td>\n",
       "      <td>Fastest internet speed of 44.2 Tbps recorded, ...</td>\n",
       "      <td>Researchers from Australia's Monash, Swinburne...</td>\n",
       "      <td>technology</td>\n",
       "      <td>Fastest internet speed of 44.2 Tbps recorded, ...</td>\n",
       "      <td>fast internet speed tbp record download k hd m...</td>\n",
       "    </tr>\n",
       "  </tbody>\n",
       "</table>\n",
       "</div>"
      ],
      "text/plain": [
       "                                       news_headline  \\\n",
       "0  Aarogya Setu doesn't give out loud siren near ...   \n",
       "1  Google has no plans yet to allow work-from-hom...   \n",
       "2  Data of 2.9 crore Indian job seekers leaked on...   \n",
       "3  SC seeks Centre's reply on plea for ban on Zoo...   \n",
       "4  Fastest internet speed of 44.2 Tbps recorded, ...   \n",
       "\n",
       "                                        news_article news_category  \\\n",
       "0  The government has clarified that its Aarogya ...    technology   \n",
       "1  After Twitter announced its permanent work-fro...    technology   \n",
       "2  Personal data of 2.9 crore Indian job seekers ...    technology   \n",
       "3  The Supreme Court on Friday sought Centre's re...    technology   \n",
       "4  Researchers from Australia's Monash, Swinburne...    technology   \n",
       "\n",
       "                                           full_text  \\\n",
       "0  Aarogya Setu doesn't give out loud siren near ...   \n",
       "1  Google has no plans yet to allow work-from-hom...   \n",
       "2  Data of 2.9 crore Indian job seekers leaked on...   \n",
       "3  SC seeks Centre's reply on plea for ban on Zoo...   \n",
       "4  Fastest internet speed of 44.2 Tbps recorded, ...   \n",
       "\n",
       "                                          clean_text  \n",
       "0  aarogya setu not give loud siren near covid pa...  \n",
       "1  google no plan yet allow work home permanently...  \n",
       "2  datum crore indian job seeker leak dark web cy...  \n",
       "3  sc seek centre reply plea ban zoom app privacy...  \n",
       "4  fast internet speed tbp record download k hd m...  "
      ]
     },
     "execution_count": 76,
     "metadata": {},
     "output_type": "execute_result"
    }
   ],
   "source": [
    "news_df.head()"
   ]
  },
  {
   "cell_type": "code",
   "execution_count": 77,
   "metadata": {},
   "outputs": [],
   "source": [
    "corpus = normalize_corpus(news_df['full_text'], text_lower_case=False, text_lemmatization=False,\n",
    "                         special_char_removal=False)\n",
    "sentence = str(news_df.iloc[1].news_headline)\n",
    "sentence_nlp = nlp(sentence)"
   ]
  },
  {
   "cell_type": "code",
   "execution_count": 78,
   "metadata": {},
   "outputs": [],
   "source": [
    "spacy_pos_tagged = [(word, word.tag_, word.pos_) for word in sentence_nlp]"
   ]
  },
  {
   "cell_type": "code",
   "execution_count": 79,
   "metadata": {},
   "outputs": [
    {
     "data": {
      "text/html": [
       "<div>\n",
       "<style scoped>\n",
       "    .dataframe tbody tr th:only-of-type {\n",
       "        vertical-align: middle;\n",
       "    }\n",
       "\n",
       "    .dataframe tbody tr th {\n",
       "        vertical-align: top;\n",
       "    }\n",
       "\n",
       "    .dataframe thead th {\n",
       "        text-align: right;\n",
       "    }\n",
       "</style>\n",
       "<table border=\"1\" class=\"dataframe\">\n",
       "  <thead>\n",
       "    <tr style=\"text-align: right;\">\n",
       "      <th></th>\n",
       "      <th>Word</th>\n",
       "      <th>POS tag</th>\n",
       "      <th>Tag type</th>\n",
       "    </tr>\n",
       "  </thead>\n",
       "  <tbody>\n",
       "    <tr>\n",
       "      <td>0</td>\n",
       "      <td>Google</td>\n",
       "      <td>NNP</td>\n",
       "      <td>PROPN</td>\n",
       "    </tr>\n",
       "    <tr>\n",
       "      <td>1</td>\n",
       "      <td>has</td>\n",
       "      <td>VBZ</td>\n",
       "      <td>AUX</td>\n",
       "    </tr>\n",
       "    <tr>\n",
       "      <td>2</td>\n",
       "      <td>no</td>\n",
       "      <td>DT</td>\n",
       "      <td>DET</td>\n",
       "    </tr>\n",
       "    <tr>\n",
       "      <td>3</td>\n",
       "      <td>plans</td>\n",
       "      <td>NNS</td>\n",
       "      <td>NOUN</td>\n",
       "    </tr>\n",
       "    <tr>\n",
       "      <td>4</td>\n",
       "      <td>yet</td>\n",
       "      <td>RB</td>\n",
       "      <td>ADV</td>\n",
       "    </tr>\n",
       "    <tr>\n",
       "      <td>5</td>\n",
       "      <td>to</td>\n",
       "      <td>TO</td>\n",
       "      <td>PART</td>\n",
       "    </tr>\n",
       "    <tr>\n",
       "      <td>6</td>\n",
       "      <td>allow</td>\n",
       "      <td>VB</td>\n",
       "      <td>VERB</td>\n",
       "    </tr>\n",
       "    <tr>\n",
       "      <td>7</td>\n",
       "      <td>work</td>\n",
       "      <td>NN</td>\n",
       "      <td>NOUN</td>\n",
       "    </tr>\n",
       "    <tr>\n",
       "      <td>8</td>\n",
       "      <td>-</td>\n",
       "      <td>HYPH</td>\n",
       "      <td>PUNCT</td>\n",
       "    </tr>\n",
       "    <tr>\n",
       "      <td>9</td>\n",
       "      <td>from</td>\n",
       "      <td>IN</td>\n",
       "      <td>ADP</td>\n",
       "    </tr>\n",
       "    <tr>\n",
       "      <td>10</td>\n",
       "      <td>-</td>\n",
       "      <td>HYPH</td>\n",
       "      <td>PUNCT</td>\n",
       "    </tr>\n",
       "    <tr>\n",
       "      <td>11</td>\n",
       "      <td>home</td>\n",
       "      <td>NN</td>\n",
       "      <td>NOUN</td>\n",
       "    </tr>\n",
       "    <tr>\n",
       "      <td>12</td>\n",
       "      <td>permanently</td>\n",
       "      <td>RB</td>\n",
       "      <td>ADV</td>\n",
       "    </tr>\n",
       "    <tr>\n",
       "      <td>13</td>\n",
       "      <td>:</td>\n",
       "      <td>:</td>\n",
       "      <td>PUNCT</td>\n",
       "    </tr>\n",
       "    <tr>\n",
       "      <td>14</td>\n",
       "      <td>CEO</td>\n",
       "      <td>NN</td>\n",
       "      <td>NOUN</td>\n",
       "    </tr>\n",
       "    <tr>\n",
       "      <td>15</td>\n",
       "      <td>Pichai</td>\n",
       "      <td>NNP</td>\n",
       "      <td>PROPN</td>\n",
       "    </tr>\n",
       "  </tbody>\n",
       "</table>\n",
       "</div>"
      ],
      "text/plain": [
       "           Word POS tag Tag type\n",
       "0        Google     NNP    PROPN\n",
       "1           has     VBZ      AUX\n",
       "2            no      DT      DET\n",
       "3         plans     NNS     NOUN\n",
       "4           yet      RB      ADV\n",
       "5            to      TO     PART\n",
       "6         allow      VB     VERB\n",
       "7          work      NN     NOUN\n",
       "8             -    HYPH    PUNCT\n",
       "9          from      IN      ADP\n",
       "10            -    HYPH    PUNCT\n",
       "11         home      NN     NOUN\n",
       "12  permanently      RB      ADV\n",
       "13            :       :    PUNCT\n",
       "14          CEO      NN     NOUN\n",
       "15       Pichai     NNP    PROPN"
      ]
     },
     "execution_count": 79,
     "metadata": {},
     "output_type": "execute_result"
    }
   ],
   "source": [
    "pd.DataFrame(spacy_pos_tagged, columns=['Word', 'POS tag', 'Tag type'])"
   ]
  },
  {
   "cell_type": "code",
   "execution_count": 80,
   "metadata": {},
   "outputs": [
    {
     "name": "stderr",
     "output_type": "stream",
     "text": [
      "[nltk_data] Downloading package punkt to\n",
      "[nltk_data]     C:\\Users\\Asus\\AppData\\Roaming\\nltk_data...\n",
      "[nltk_data]   Package punkt is already up-to-date!\n"
     ]
    },
    {
     "data": {
      "text/plain": [
       "True"
      ]
     },
     "execution_count": 80,
     "metadata": {},
     "output_type": "execute_result"
    }
   ],
   "source": [
    "nltk.download('punkt')"
   ]
  },
  {
   "cell_type": "code",
   "execution_count": 81,
   "metadata": {},
   "outputs": [
    {
     "name": "stderr",
     "output_type": "stream",
     "text": [
      "[nltk_data] Downloading package maxent_treebank_pos_tagger to\n",
      "[nltk_data]     C:\\Users\\Asus\\AppData\\Roaming\\nltk_data...\n",
      "[nltk_data]   Package maxent_treebank_pos_tagger is already up-to-\n",
      "[nltk_data]       date!\n"
     ]
    },
    {
     "data": {
      "text/plain": [
       "True"
      ]
     },
     "execution_count": 81,
     "metadata": {},
     "output_type": "execute_result"
    }
   ],
   "source": [
    "nltk.download(\"maxent_treebank_pos_tagger\")"
   ]
  },
  {
   "cell_type": "code",
   "execution_count": 82,
   "metadata": {},
   "outputs": [
    {
     "name": "stderr",
     "output_type": "stream",
     "text": [
      "[nltk_data] Downloading package averaged_perceptron_tagger to\n",
      "[nltk_data]     C:\\Users\\Asus\\AppData\\Roaming\\nltk_data...\n",
      "[nltk_data]   Package averaged_perceptron_tagger is already up-to-\n",
      "[nltk_data]       date!\n"
     ]
    },
    {
     "data": {
      "text/plain": [
       "True"
      ]
     },
     "execution_count": 82,
     "metadata": {},
     "output_type": "execute_result"
    }
   ],
   "source": [
    "nltk.download(\"averaged_perceptron_tagger\")"
   ]
  },
  {
   "cell_type": "code",
   "execution_count": 83,
   "metadata": {},
   "outputs": [],
   "source": [
    "nltk_pos_tagged = nltk.pos_tag(sentence.split())"
   ]
  },
  {
   "cell_type": "code",
   "execution_count": 86,
   "metadata": {},
   "outputs": [
    {
     "data": {
      "text/html": [
       "<div>\n",
       "<style scoped>\n",
       "    .dataframe tbody tr th:only-of-type {\n",
       "        vertical-align: middle;\n",
       "    }\n",
       "\n",
       "    .dataframe tbody tr th {\n",
       "        vertical-align: top;\n",
       "    }\n",
       "\n",
       "    .dataframe thead th {\n",
       "        text-align: right;\n",
       "    }\n",
       "</style>\n",
       "<table border=\"1\" class=\"dataframe\">\n",
       "  <thead>\n",
       "    <tr style=\"text-align: right;\">\n",
       "      <th></th>\n",
       "      <th>Word</th>\n",
       "      <th>POS tag</th>\n",
       "    </tr>\n",
       "  </thead>\n",
       "  <tbody>\n",
       "    <tr>\n",
       "      <td>0</td>\n",
       "      <td>Google</td>\n",
       "      <td>NNP</td>\n",
       "    </tr>\n",
       "    <tr>\n",
       "      <td>1</td>\n",
       "      <td>has</td>\n",
       "      <td>VBZ</td>\n",
       "    </tr>\n",
       "    <tr>\n",
       "      <td>2</td>\n",
       "      <td>no</td>\n",
       "      <td>DT</td>\n",
       "    </tr>\n",
       "    <tr>\n",
       "      <td>3</td>\n",
       "      <td>plans</td>\n",
       "      <td>NNS</td>\n",
       "    </tr>\n",
       "    <tr>\n",
       "      <td>4</td>\n",
       "      <td>yet</td>\n",
       "      <td>RB</td>\n",
       "    </tr>\n",
       "    <tr>\n",
       "      <td>5</td>\n",
       "      <td>to</td>\n",
       "      <td>TO</td>\n",
       "    </tr>\n",
       "    <tr>\n",
       "      <td>6</td>\n",
       "      <td>allow</td>\n",
       "      <td>VB</td>\n",
       "    </tr>\n",
       "    <tr>\n",
       "      <td>7</td>\n",
       "      <td>work-from-home</td>\n",
       "      <td>JJ</td>\n",
       "    </tr>\n",
       "    <tr>\n",
       "      <td>8</td>\n",
       "      <td>permanently:</td>\n",
       "      <td>NN</td>\n",
       "    </tr>\n",
       "    <tr>\n",
       "      <td>9</td>\n",
       "      <td>CEO</td>\n",
       "      <td>NNP</td>\n",
       "    </tr>\n",
       "    <tr>\n",
       "      <td>10</td>\n",
       "      <td>Pichai</td>\n",
       "      <td>NNP</td>\n",
       "    </tr>\n",
       "  </tbody>\n",
       "</table>\n",
       "</div>"
      ],
      "text/plain": [
       "              Word POS tag\n",
       "0           Google     NNP\n",
       "1              has     VBZ\n",
       "2               no      DT\n",
       "3            plans     NNS\n",
       "4              yet      RB\n",
       "5               to      TO\n",
       "6            allow      VB\n",
       "7   work-from-home      JJ\n",
       "8     permanently:      NN\n",
       "9              CEO     NNP\n",
       "10          Pichai     NNP"
      ]
     },
     "execution_count": 86,
     "metadata": {},
     "output_type": "execute_result"
    }
   ],
   "source": [
    "pd.DataFrame(nltk_pos_tagged, columns=['Word', 'POS tag'])"
   ]
  },
  {
   "cell_type": "code",
   "execution_count": 87,
   "metadata": {},
   "outputs": [],
   "source": [
    "#Name Entity Recognition"
   ]
  },
  {
   "cell_type": "code",
   "execution_count": 88,
   "metadata": {},
   "outputs": [
    {
     "name": "stdout",
     "output_type": "stream",
     "text": [
      "[(Google, 'ORG'), (Pichai, 'PERSON'), (Twitter, 'PERSON'), (Google, 'ORG'), (Sundar, 'PERSON'), (Pichai, 'PERSON'), (Pichai, 'PERSON'), (Wired, 'PERSON')]\n"
     ]
    }
   ],
   "source": [
    "sentence = str(news_df.iloc[1].full_text)\n",
    "sentence_nlp = nlp(sentence)\n",
    "print([(word, word.ent_type_) for word in sentence_nlp if word.ent_type_])"
   ]
  },
  {
   "cell_type": "code",
   "execution_count": 89,
   "metadata": {},
   "outputs": [],
   "source": [
    "named_entities = []\n",
    "for sentence in corpus:\n",
    "    temp_entity_name = ''\n",
    "    temp_named_entity = None\n",
    "    sentence = nlp(sentence)\n",
    "    for word in sentence:\n",
    "        term = word.text\n",
    "        tag = word.ent_type_\n",
    "        if tag:\n",
    "            temp_entity_name = ' '.join([temp_entity_name, term]).strip()\n",
    "            temp_named_entity = (temp_entity_name, tag)\n",
    "        else:\n",
    "            if temp_named_entity:\n",
    "                named_entities.append(temp_named_entity)\n",
    "                temp_entity_name = ''\n",
    "                temp_named_entity=None\n",
    "            \n",
    "entity_frame = pd.DataFrame(named_entities, columns=['Entity Name', 'Entity Type'])\n",
    "                "
   ]
  },
  {
   "cell_type": "code",
   "execution_count": 90,
   "metadata": {},
   "outputs": [],
   "source": [
    "top_entities = (entity_frame.groupby(by=['Entity Name', 'Entity Type']).size()\n",
    "                .sort_values(ascending=False).reset_index().rename(columns={0: 'Frequency'}))"
   ]
  },
  {
   "cell_type": "code",
   "execution_count": 92,
   "metadata": {},
   "outputs": [
    {
     "data": {
      "text/html": [
       "<div>\n",
       "<style scoped>\n",
       "    .dataframe tbody tr th:only-of-type {\n",
       "        vertical-align: middle;\n",
       "    }\n",
       "\n",
       "    .dataframe tbody tr th {\n",
       "        vertical-align: top;\n",
       "    }\n",
       "\n",
       "    .dataframe thead th {\n",
       "        text-align: right;\n",
       "    }\n",
       "</style>\n",
       "<table border=\"1\" class=\"dataframe\">\n",
       "  <thead>\n",
       "    <tr style=\"text-align: right;\">\n",
       "      <th></th>\n",
       "      <th>0</th>\n",
       "      <th>1</th>\n",
       "      <th>2</th>\n",
       "      <th>3</th>\n",
       "      <th>4</th>\n",
       "      <th>5</th>\n",
       "      <th>6</th>\n",
       "      <th>7</th>\n",
       "      <th>8</th>\n",
       "      <th>9</th>\n",
       "      <th>10</th>\n",
       "      <th>11</th>\n",
       "      <th>12</th>\n",
       "      <th>13</th>\n",
       "      <th>14</th>\n",
       "    </tr>\n",
       "  </thead>\n",
       "  <tbody>\n",
       "    <tr>\n",
       "      <td>Entity Name</td>\n",
       "      <td>US</td>\n",
       "      <td>India</td>\n",
       "      <td>UK</td>\n",
       "      <td>Australia</td>\n",
       "      <td>Amazon</td>\n",
       "      <td>Pakistan</td>\n",
       "      <td>China</td>\n",
       "      <td>Spain</td>\n",
       "      <td>UN</td>\n",
       "      <td>Indian</td>\n",
       "      <td>Zoom</td>\n",
       "      <td>Apple</td>\n",
       "      <td>600 %</td>\n",
       "      <td>Dhoni</td>\n",
       "      <td>first</td>\n",
       "    </tr>\n",
       "    <tr>\n",
       "      <td>Entity Type</td>\n",
       "      <td>GPE</td>\n",
       "      <td>GPE</td>\n",
       "      <td>GPE</td>\n",
       "      <td>GPE</td>\n",
       "      <td>ORG</td>\n",
       "      <td>GPE</td>\n",
       "      <td>GPE</td>\n",
       "      <td>GPE</td>\n",
       "      <td>ORG</td>\n",
       "      <td>NORP</td>\n",
       "      <td>PERSON</td>\n",
       "      <td>ORG</td>\n",
       "      <td>PERCENT</td>\n",
       "      <td>PERSON</td>\n",
       "      <td>ORDINAL</td>\n",
       "    </tr>\n",
       "    <tr>\n",
       "      <td>Frequency</td>\n",
       "      <td>16</td>\n",
       "      <td>15</td>\n",
       "      <td>10</td>\n",
       "      <td>9</td>\n",
       "      <td>8</td>\n",
       "      <td>8</td>\n",
       "      <td>7</td>\n",
       "      <td>7</td>\n",
       "      <td>6</td>\n",
       "      <td>5</td>\n",
       "      <td>5</td>\n",
       "      <td>4</td>\n",
       "      <td>4</td>\n",
       "      <td>4</td>\n",
       "      <td>4</td>\n",
       "    </tr>\n",
       "  </tbody>\n",
       "</table>\n",
       "</div>"
      ],
      "text/plain": [
       "               0      1    2          3       4         5      6      7    8  \\\n",
       "Entity Name   US  India   UK  Australia  Amazon  Pakistan  China  Spain   UN   \n",
       "Entity Type  GPE    GPE  GPE        GPE     ORG       GPE    GPE    GPE  ORG   \n",
       "Frequency     16     15   10          9       8         8      7      7    6   \n",
       "\n",
       "                  9      10     11       12      13       14  \n",
       "Entity Name  Indian    Zoom  Apple    600 %   Dhoni    first  \n",
       "Entity Type    NORP  PERSON    ORG  PERCENT  PERSON  ORDINAL  \n",
       "Frequency         5       5      4        4       4        4  "
      ]
     },
     "execution_count": 92,
     "metadata": {},
     "output_type": "execute_result"
    }
   ],
   "source": [
    "top_entities.T.iloc[:,:15]"
   ]
  },
  {
   "cell_type": "code",
   "execution_count": 93,
   "metadata": {},
   "outputs": [],
   "source": [
    "top_entieies = (entity_frame.groupby(by=['Entity Type']).size()\n",
    "               .sort_values(ascending=False).reset_index().rename(columns={0: 'Frequency'}))"
   ]
  },
  {
   "cell_type": "code",
   "execution_count": 94,
   "metadata": {},
   "outputs": [
    {
     "data": {
      "text/html": [
       "<div>\n",
       "<style scoped>\n",
       "    .dataframe tbody tr th:only-of-type {\n",
       "        vertical-align: middle;\n",
       "    }\n",
       "\n",
       "    .dataframe tbody tr th {\n",
       "        vertical-align: top;\n",
       "    }\n",
       "\n",
       "    .dataframe thead th {\n",
       "        text-align: right;\n",
       "    }\n",
       "</style>\n",
       "<table border=\"1\" class=\"dataframe\">\n",
       "  <thead>\n",
       "    <tr style=\"text-align: right;\">\n",
       "      <th></th>\n",
       "      <th>0</th>\n",
       "      <th>1</th>\n",
       "      <th>2</th>\n",
       "      <th>3</th>\n",
       "      <th>4</th>\n",
       "      <th>5</th>\n",
       "      <th>6</th>\n",
       "      <th>7</th>\n",
       "      <th>8</th>\n",
       "      <th>9</th>\n",
       "      <th>10</th>\n",
       "      <th>11</th>\n",
       "      <th>12</th>\n",
       "      <th>13</th>\n",
       "      <th>14</th>\n",
       "    </tr>\n",
       "  </thead>\n",
       "  <tbody>\n",
       "    <tr>\n",
       "      <td>Entity Name</td>\n",
       "      <td>US</td>\n",
       "      <td>India</td>\n",
       "      <td>UK</td>\n",
       "      <td>Australia</td>\n",
       "      <td>Amazon</td>\n",
       "      <td>Pakistan</td>\n",
       "      <td>China</td>\n",
       "      <td>Spain</td>\n",
       "      <td>UN</td>\n",
       "      <td>Indian</td>\n",
       "      <td>Zoom</td>\n",
       "      <td>Apple</td>\n",
       "      <td>600 %</td>\n",
       "      <td>Dhoni</td>\n",
       "      <td>first</td>\n",
       "    </tr>\n",
       "    <tr>\n",
       "      <td>Entity Type</td>\n",
       "      <td>GPE</td>\n",
       "      <td>GPE</td>\n",
       "      <td>GPE</td>\n",
       "      <td>GPE</td>\n",
       "      <td>ORG</td>\n",
       "      <td>GPE</td>\n",
       "      <td>GPE</td>\n",
       "      <td>GPE</td>\n",
       "      <td>ORG</td>\n",
       "      <td>NORP</td>\n",
       "      <td>PERSON</td>\n",
       "      <td>ORG</td>\n",
       "      <td>PERCENT</td>\n",
       "      <td>PERSON</td>\n",
       "      <td>ORDINAL</td>\n",
       "    </tr>\n",
       "    <tr>\n",
       "      <td>Frequency</td>\n",
       "      <td>16</td>\n",
       "      <td>15</td>\n",
       "      <td>10</td>\n",
       "      <td>9</td>\n",
       "      <td>8</td>\n",
       "      <td>8</td>\n",
       "      <td>7</td>\n",
       "      <td>7</td>\n",
       "      <td>6</td>\n",
       "      <td>5</td>\n",
       "      <td>5</td>\n",
       "      <td>4</td>\n",
       "      <td>4</td>\n",
       "      <td>4</td>\n",
       "      <td>4</td>\n",
       "    </tr>\n",
       "  </tbody>\n",
       "</table>\n",
       "</div>"
      ],
      "text/plain": [
       "               0      1    2          3       4         5      6      7    8  \\\n",
       "Entity Name   US  India   UK  Australia  Amazon  Pakistan  China  Spain   UN   \n",
       "Entity Type  GPE    GPE  GPE        GPE     ORG       GPE    GPE    GPE  ORG   \n",
       "Frequency     16     15   10          9       8         8      7      7    6   \n",
       "\n",
       "                  9      10     11       12      13       14  \n",
       "Entity Name  Indian    Zoom  Apple    600 %   Dhoni    first  \n",
       "Entity Type    NORP  PERSON    ORG  PERCENT  PERSON  ORDINAL  \n",
       "Frequency         5       5      4        4       4        4  "
      ]
     },
     "execution_count": 94,
     "metadata": {},
     "output_type": "execute_result"
    }
   ],
   "source": [
    "top_entities.T.iloc[:,:15]"
   ]
  },
  {
   "cell_type": "code",
   "execution_count": 95,
   "metadata": {},
   "outputs": [],
   "source": [
    "#Emotion and Sentimental Analysis"
   ]
  },
  {
   "cell_type": "code",
   "execution_count": 96,
   "metadata": {},
   "outputs": [],
   "source": [
    "from afinn import Afinn\n",
    "af = Afinn()"
   ]
  },
  {
   "cell_type": "code",
   "execution_count": 97,
   "metadata": {},
   "outputs": [],
   "source": [
    "sentiment_scores = [af.score(article) for article in corpus]\n",
    "sentiment_category = ['positive' if score > 0 else 'negative' if score < 0 else 'neutral' for \n",
    "                     score  in sentiment_scores]"
   ]
  },
  {
   "cell_type": "code",
   "execution_count": 98,
   "metadata": {},
   "outputs": [],
   "source": [
    "df = pd.DataFrame([list(news_df['news_category']), sentiment_scores, sentiment_category]).T"
   ]
  },
  {
   "cell_type": "code",
   "execution_count": 99,
   "metadata": {},
   "outputs": [],
   "source": [
    "df.columns = ['news_category', 'sentiment_score', 'sentiment_category']"
   ]
  },
  {
   "cell_type": "code",
   "execution_count": 100,
   "metadata": {},
   "outputs": [
    {
     "data": {
      "text/html": [
       "<div>\n",
       "<style scoped>\n",
       "    .dataframe tbody tr th:only-of-type {\n",
       "        vertical-align: middle;\n",
       "    }\n",
       "\n",
       "    .dataframe tbody tr th {\n",
       "        vertical-align: top;\n",
       "    }\n",
       "\n",
       "    .dataframe thead tr th {\n",
       "        text-align: left;\n",
       "    }\n",
       "\n",
       "    .dataframe thead tr:last-of-type th {\n",
       "        text-align: right;\n",
       "    }\n",
       "</style>\n",
       "<table border=\"1\" class=\"dataframe\">\n",
       "  <thead>\n",
       "    <tr>\n",
       "      <th></th>\n",
       "      <th colspan=\"8\" halign=\"left\">sentiment_score</th>\n",
       "    </tr>\n",
       "    <tr>\n",
       "      <th></th>\n",
       "      <th>count</th>\n",
       "      <th>mean</th>\n",
       "      <th>std</th>\n",
       "      <th>min</th>\n",
       "      <th>25%</th>\n",
       "      <th>50%</th>\n",
       "      <th>75%</th>\n",
       "      <th>max</th>\n",
       "    </tr>\n",
       "    <tr>\n",
       "      <th>news_category</th>\n",
       "      <th></th>\n",
       "      <th></th>\n",
       "      <th></th>\n",
       "      <th></th>\n",
       "      <th></th>\n",
       "      <th></th>\n",
       "      <th></th>\n",
       "      <th></th>\n",
       "    </tr>\n",
       "  </thead>\n",
       "  <tbody>\n",
       "    <tr>\n",
       "      <td>sports</td>\n",
       "      <td>25.0</td>\n",
       "      <td>0.720000</td>\n",
       "      <td>5.481180</td>\n",
       "      <td>-8.0</td>\n",
       "      <td>-2.0</td>\n",
       "      <td>0.0</td>\n",
       "      <td>1.00</td>\n",
       "      <td>13.0</td>\n",
       "    </tr>\n",
       "    <tr>\n",
       "      <td>technology</td>\n",
       "      <td>24.0</td>\n",
       "      <td>-0.458333</td>\n",
       "      <td>4.549048</td>\n",
       "      <td>-14.0</td>\n",
       "      <td>-2.0</td>\n",
       "      <td>0.0</td>\n",
       "      <td>1.25</td>\n",
       "      <td>8.0</td>\n",
       "    </tr>\n",
       "    <tr>\n",
       "      <td>world</td>\n",
       "      <td>25.0</td>\n",
       "      <td>-3.000000</td>\n",
       "      <td>4.444097</td>\n",
       "      <td>-15.0</td>\n",
       "      <td>-4.0</td>\n",
       "      <td>-3.0</td>\n",
       "      <td>0.00</td>\n",
       "      <td>4.0</td>\n",
       "    </tr>\n",
       "  </tbody>\n",
       "</table>\n",
       "</div>"
      ],
      "text/plain": [
       "              sentiment_score                                                \n",
       "                        count      mean       std   min  25%  50%   75%   max\n",
       "news_category                                                                \n",
       "sports                   25.0  0.720000  5.481180  -8.0 -2.0  0.0  1.00  13.0\n",
       "technology               24.0 -0.458333  4.549048 -14.0 -2.0  0.0  1.25   8.0\n",
       "world                    25.0 -3.000000  4.444097 -15.0 -4.0 -3.0  0.00   4.0"
      ]
     },
     "execution_count": 100,
     "metadata": {},
     "output_type": "execute_result"
    }
   ],
   "source": [
    "df['sentiment_score'] = df.sentiment_score.astype('float')\n",
    "df.groupby(by=['news_category']).describe()"
   ]
  },
  {
   "cell_type": "code",
   "execution_count": 105,
   "metadata": {},
   "outputs": [
    {
     "data": {
      "image/png": "[encoded data removed]",
      "text/plain": [
       "<Figure size 1008x360 with 2 Axes>"
      ]
     },
     "metadata": {
      "needs_background": "light"
     },
     "output_type": "display_data"
    }
   ],
   "source": [
    "f, (ax1, ax2) = plt.subplots(1, 2, figsize=(14, 5))\n",
    "sp = sns.stripplot(x='news_category', y='sentiment_score', hue='news_category', data=df, ax=ax1)\n",
    "bp = sns.boxplot(x='news_category', y='sentiment_score', hue='news_category', data=df, ax=ax2)\n",
    "t = f.suptitle(\"Visualizing News Sentiments\", fontsize=14)"
   ]
  },
  {
   "cell_type": "code",
   "execution_count": 107,
   "metadata": {},
   "outputs": [
    {
     "data": {
      "image/png": "[encoded data removed]",
      "text/plain": [
       "<Figure size 467.5x360 with 1 Axes>"
      ]
     },
     "metadata": {
      "needs_background": "light"
     },
     "output_type": "display_data"
    }
   ],
   "source": [
    "fc = sns.factorplot(x='news_category', hue='sentiment_category', data=df, kind='count',\n",
    "                   palette={\"negative\" : \"#FE2020\",\n",
    "                           \"positive\": \"#BADD07\",\n",
    "                           \"neutral\": \"#68BFF5\"})"
   ]
  },
  {
   "cell_type": "code",
   "execution_count": 108,
   "metadata": {},
   "outputs": [],
   "source": [
    "pos_idx = df[(df.news_category == 'technology') & (df.sentiment_score==2)].index[0]\n",
    "neg_idx = df[(df.news_category == 'technology') & (df.sentiment_score==-2)].index[0]"
   ]
  },
  {
   "cell_type": "code",
   "execution_count": 110,
   "metadata": {},
   "outputs": [
    {
     "name": "stdout",
     "output_type": "stream",
     "text": [
      "Most negative Tech News Article: Personal data of 2.9 crore Indian job seekers has been leaked on the dark web for free, cybersecurity intelligence firm Cyble said. It includes details about job seekers' education, address, etc, Cyble said in a blog post. \"The original leak appears to be from a resume aggregator service collecting data from various known job portals,\" Cyble added.\n",
      "\n",
      "Most positive Tech News Article: US-based private equity firm KKR has said it negotiated the $1.5 billion deal to buy 2.3% stake in Jio Platforms in just 10 days. The deal, which is KKR's biggest Asian transaction, was done over Zoom calls, said Sanjay Nayar, CEO of KKR India. \"We invested in Mukesh Ambani's entrepreneurial vision backed by a world class management,\" Nayar said.\n"
     ]
    }
   ],
   "source": [
    "print(\"Most negative Tech News Article:\", news_df.iloc[neg_idx][['news_article']][0])\n",
    "print()\n",
    "print(\"Most positive Tech News Article:\", news_df.iloc[pos_idx][['news_article']][0])"
   ]
  },
  {
   "cell_type": "code",
   "execution_count": 111,
   "metadata": {},
   "outputs": [
    {
     "data": {
      "text/plain": [
       "array([  1.,   2.,  -3., -15.,   0.,   4., -11.,  -4., -12.,  -5.,  -2.,\n",
       "        -6.])"
      ]
     },
     "execution_count": 111,
     "metadata": {},
     "output_type": "execute_result"
    }
   ],
   "source": [
    "df1 = df[df.news_category=='world']\n",
    "pd.unique(df1.sentiment_score)"
   ]
  },
  {
   "cell_type": "code",
   "execution_count": 112,
   "metadata": {},
   "outputs": [
    {
     "name": "stdout",
     "output_type": "stream",
     "text": [
      "Most negative world news article: A Pakistan International Airlines (PIA) spokesperson said that the flight data recorder and cockpit voice recorder have been recovered from site of the plane crash in Karachi. A PIA flight with 99 people aboard crashed into a residential area near the Jinnah International Airport in Karachi on Friday. Sindh health officials said that 97 people were killed while two survived.\n",
      "\n",
      "Most positive world news article: After slain Saudi journalist Jamal Khashoggi's family said that they have forgiven his killers, Agnès Callamard, a UN investigator said that the move represented the \"first steps towards their eventual release\". \"Saudi authorities are playing out what they hope will be the final act in their well-rehearsed parody of justice in front of an international community,\" Callamard added.\n"
     ]
    }
   ],
   "source": [
    "pos_idx = df[(df.news_category == 'world') & (df.sentiment_score == 4)].index[0]\n",
    "neg_idx = df[(df.news_category == 'world') & (df.sentiment_score == -4)].index[0]\n",
    "print(\"Most negative world news article:\", news_df.iloc[neg_idx][['news_article']][0])\n",
    "print()\n",
    "print(\"Most positive world news article:\", news_df.iloc[pos_idx][['news_article']][0])"
   ]
  },
  {
   "cell_type": "code",
   "execution_count": null,
   "metadata": {},
   "outputs": [],
   "source": []
  }
 ],
 "metadata": {
  "kernelspec": {
   "display_name": "Python 3",
   "language": "python",
   "name": "python3"
  },
  "language_info": {
   "codemirror_mode": {
    "name": "ipython",
    "version": 3
   },
   "file_extension": ".py",
   "mimetype": "text/x-python",
   "name": "python",
   "nbconvert_exporter": "python",
   "pygments_lexer": "ipython3",
   "version": "3.7.4"
  }
 },
 "nbformat": 4,
 "nbformat_minor": 2
}
